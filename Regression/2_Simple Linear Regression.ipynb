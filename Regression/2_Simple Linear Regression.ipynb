{
 "cells": [
  {
   "cell_type": "code",
   "execution_count": 1,
   "metadata": {},
   "outputs": [],
   "source": [
    "import pandas as pd\n",
    "import numpy as np\n",
    "import matplotlib.pyplot as plt\n",
    "import seaborn as sns\n",
    "\n",
    "from sklearn.linear_model import LinearRegression"
   ]
  },
  {
   "cell_type": "code",
   "execution_count": 2,
   "metadata": {},
   "outputs": [],
   "source": [
    "data = pd.read_excel('Simple Regression.xlsx')"
   ]
  },
  {
   "cell_type": "code",
   "execution_count": 3,
   "metadata": {},
   "outputs": [
    {
     "data": {
      "text/html": [
       "<div>\n",
       "<style scoped>\n",
       "    .dataframe tbody tr th:only-of-type {\n",
       "        vertical-align: middle;\n",
       "    }\n",
       "\n",
       "    .dataframe tbody tr th {\n",
       "        vertical-align: top;\n",
       "    }\n",
       "\n",
       "    .dataframe thead th {\n",
       "        text-align: right;\n",
       "    }\n",
       "</style>\n",
       "<table border=\"1\" class=\"dataframe\">\n",
       "  <thead>\n",
       "    <tr style=\"text-align: right;\">\n",
       "      <th></th>\n",
       "      <th>Unnamed: 0</th>\n",
       "      <th>Unnamed: 1</th>\n",
       "      <th>Unnamed: 2</th>\n",
       "      <th>Unnamed: 3</th>\n",
       "      <th>Unnamed: 4</th>\n",
       "      <th>Residuals</th>\n",
       "      <th>Residuals Squared</th>\n",
       "      <th>Regression Errors</th>\n",
       "      <th>Squared Regg Errors</th>\n",
       "      <th>Squared Total Error</th>\n",
       "      <th>Unnamed: 10</th>\n",
       "      <th>R^2</th>\n",
       "    </tr>\n",
       "  </thead>\n",
       "  <tbody>\n",
       "    <tr>\n",
       "      <th>0</th>\n",
       "      <td>X</td>\n",
       "      <td>y</td>\n",
       "      <td>X-Xbar</td>\n",
       "      <td>y-ybar</td>\n",
       "      <td>yhat</td>\n",
       "      <td>y-yhat</td>\n",
       "      <td>(y-yhat)^2</td>\n",
       "      <td>yhat-ybar</td>\n",
       "      <td>(yhat-ybar)^2</td>\n",
       "      <td>(y-ybar)^2</td>\n",
       "      <td>NaN</td>\n",
       "      <td>NaN</td>\n",
       "    </tr>\n",
       "    <tr>\n",
       "      <th>1</th>\n",
       "      <td>46</td>\n",
       "      <td>354</td>\n",
       "      <td>6.88</td>\n",
       "      <td>43.28</td>\n",
       "      <td>347.3322</td>\n",
       "      <td>6.6678</td>\n",
       "      <td>44.459557</td>\n",
       "      <td>36.6122</td>\n",
       "      <td>1340.453189</td>\n",
       "      <td>1873.1584</td>\n",
       "      <td>NaN</td>\n",
       "      <td>0.701167</td>\n",
       "    </tr>\n",
       "    <tr>\n",
       "      <th>2</th>\n",
       "      <td>20</td>\n",
       "      <td>190</td>\n",
       "      <td>-19.12</td>\n",
       "      <td>-120.72</td>\n",
       "      <td>208.994</td>\n",
       "      <td>-18.994</td>\n",
       "      <td>360.772036</td>\n",
       "      <td>-101.726</td>\n",
       "      <td>10348.179076</td>\n",
       "      <td>14573.3184</td>\n",
       "      <td>NaN</td>\n",
       "      <td>NaN</td>\n",
       "    </tr>\n",
       "    <tr>\n",
       "      <th>3</th>\n",
       "      <td>52</td>\n",
       "      <td>405</td>\n",
       "      <td>12.88</td>\n",
       "      <td>94.28</td>\n",
       "      <td>379.2564</td>\n",
       "      <td>25.7436</td>\n",
       "      <td>662.732941</td>\n",
       "      <td>68.5364</td>\n",
       "      <td>4697.238125</td>\n",
       "      <td>8888.7184</td>\n",
       "      <td>NaN</td>\n",
       "      <td>NaN</td>\n",
       "    </tr>\n",
       "    <tr>\n",
       "      <th>4</th>\n",
       "      <td>30</td>\n",
       "      <td>263</td>\n",
       "      <td>-9.12</td>\n",
       "      <td>-47.72</td>\n",
       "      <td>262.201</td>\n",
       "      <td>0.799</td>\n",
       "      <td>0.638401</td>\n",
       "      <td>-48.519</td>\n",
       "      <td>2354.093361</td>\n",
       "      <td>2277.1984</td>\n",
       "      <td>NaN</td>\n",
       "      <td>NaN</td>\n",
       "    </tr>\n",
       "  </tbody>\n",
       "</table>\n",
       "</div>"
      ],
      "text/plain": [
       "  Unnamed: 0 Unnamed: 1 Unnamed: 2 Unnamed: 3 Unnamed: 4 Residuals  \\\n",
       "0          X          y     X-Xbar     y-ybar       yhat    y-yhat   \n",
       "1         46        354       6.88      43.28   347.3322    6.6678   \n",
       "2         20        190     -19.12    -120.72    208.994   -18.994   \n",
       "3         52        405      12.88      94.28   379.2564   25.7436   \n",
       "4         30        263      -9.12     -47.72    262.201     0.799   \n",
       "\n",
       "  Residuals Squared Regression Errors Squared Regg Errors Squared Total Error  \\\n",
       "0        (y-yhat)^2         yhat-ybar       (yhat-ybar)^2          (y-ybar)^2   \n",
       "1         44.459557           36.6122         1340.453189           1873.1584   \n",
       "2        360.772036          -101.726        10348.179076          14573.3184   \n",
       "3        662.732941           68.5364         4697.238125           8888.7184   \n",
       "4          0.638401           -48.519         2354.093361           2277.1984   \n",
       "\n",
       "   Unnamed: 10       R^2  \n",
       "0          NaN       NaN  \n",
       "1          NaN  0.701167  \n",
       "2          NaN       NaN  \n",
       "3          NaN       NaN  \n",
       "4          NaN       NaN  "
      ]
     },
     "execution_count": 3,
     "metadata": {},
     "output_type": "execute_result"
    }
   ],
   "source": [
    "data.head()"
   ]
  },
  {
   "cell_type": "code",
   "execution_count": 6,
   "metadata": {},
   "outputs": [
    {
     "data": {
      "text/html": [
       "<div>\n",
       "<style scoped>\n",
       "    .dataframe tbody tr th:only-of-type {\n",
       "        vertical-align: middle;\n",
       "    }\n",
       "\n",
       "    .dataframe tbody tr th {\n",
       "        vertical-align: top;\n",
       "    }\n",
       "\n",
       "    .dataframe thead th {\n",
       "        text-align: right;\n",
       "    }\n",
       "</style>\n",
       "<table border=\"1\" class=\"dataframe\">\n",
       "  <thead>\n",
       "    <tr style=\"text-align: right;\">\n",
       "      <th></th>\n",
       "      <th>Unnamed: 0</th>\n",
       "      <th>Unnamed: 1</th>\n",
       "      <th>Unnamed: 2</th>\n",
       "      <th>Unnamed: 3</th>\n",
       "      <th>Unnamed: 4</th>\n",
       "      <th>Residuals</th>\n",
       "      <th>Residuals Squared</th>\n",
       "      <th>Regression Errors</th>\n",
       "      <th>Squared Regg Errors</th>\n",
       "      <th>Squared Total Error</th>\n",
       "      <th>Unnamed: 10</th>\n",
       "      <th>R^2</th>\n",
       "    </tr>\n",
       "  </thead>\n",
       "  <tbody>\n",
       "    <tr>\n",
       "      <th>1</th>\n",
       "      <td>46</td>\n",
       "      <td>354</td>\n",
       "      <td>6.88</td>\n",
       "      <td>43.28</td>\n",
       "      <td>347.3322</td>\n",
       "      <td>6.6678</td>\n",
       "      <td>44.459557</td>\n",
       "      <td>36.6122</td>\n",
       "      <td>1340.453189</td>\n",
       "      <td>1873.1584</td>\n",
       "      <td>NaN</td>\n",
       "      <td>0.701167</td>\n",
       "    </tr>\n",
       "    <tr>\n",
       "      <th>2</th>\n",
       "      <td>20</td>\n",
       "      <td>190</td>\n",
       "      <td>-19.12</td>\n",
       "      <td>-120.72</td>\n",
       "      <td>208.994</td>\n",
       "      <td>-18.994</td>\n",
       "      <td>360.772036</td>\n",
       "      <td>-101.726</td>\n",
       "      <td>10348.179076</td>\n",
       "      <td>14573.3184</td>\n",
       "      <td>NaN</td>\n",
       "      <td>NaN</td>\n",
       "    </tr>\n",
       "    <tr>\n",
       "      <th>3</th>\n",
       "      <td>52</td>\n",
       "      <td>405</td>\n",
       "      <td>12.88</td>\n",
       "      <td>94.28</td>\n",
       "      <td>379.2564</td>\n",
       "      <td>25.7436</td>\n",
       "      <td>662.732941</td>\n",
       "      <td>68.5364</td>\n",
       "      <td>4697.238125</td>\n",
       "      <td>8888.7184</td>\n",
       "      <td>NaN</td>\n",
       "      <td>NaN</td>\n",
       "    </tr>\n",
       "    <tr>\n",
       "      <th>4</th>\n",
       "      <td>30</td>\n",
       "      <td>263</td>\n",
       "      <td>-9.12</td>\n",
       "      <td>-47.72</td>\n",
       "      <td>262.201</td>\n",
       "      <td>0.799</td>\n",
       "      <td>0.638401</td>\n",
       "      <td>-48.519</td>\n",
       "      <td>2354.093361</td>\n",
       "      <td>2277.1984</td>\n",
       "      <td>NaN</td>\n",
       "      <td>NaN</td>\n",
       "    </tr>\n",
       "    <tr>\n",
       "      <th>5</th>\n",
       "      <td>57</td>\n",
       "      <td>451</td>\n",
       "      <td>17.88</td>\n",
       "      <td>140.28</td>\n",
       "      <td>405.8599</td>\n",
       "      <td>45.1401</td>\n",
       "      <td>2037.628628</td>\n",
       "      <td>95.1399</td>\n",
       "      <td>9051.600572</td>\n",
       "      <td>19678.4784</td>\n",
       "      <td>NaN</td>\n",
       "      <td>NaN</td>\n",
       "    </tr>\n",
       "  </tbody>\n",
       "</table>\n",
       "</div>"
      ],
      "text/plain": [
       "  Unnamed: 0 Unnamed: 1 Unnamed: 2 Unnamed: 3 Unnamed: 4 Residuals  \\\n",
       "1         46        354       6.88      43.28   347.3322    6.6678   \n",
       "2         20        190     -19.12    -120.72    208.994   -18.994   \n",
       "3         52        405      12.88      94.28   379.2564   25.7436   \n",
       "4         30        263      -9.12     -47.72    262.201     0.799   \n",
       "5         57        451      17.88     140.28   405.8599   45.1401   \n",
       "\n",
       "  Residuals Squared Regression Errors Squared Regg Errors Squared Total Error  \\\n",
       "1         44.459557           36.6122         1340.453189           1873.1584   \n",
       "2        360.772036          -101.726        10348.179076          14573.3184   \n",
       "3        662.732941           68.5364         4697.238125           8888.7184   \n",
       "4          0.638401           -48.519         2354.093361           2277.1984   \n",
       "5       2037.628628           95.1399         9051.600572          19678.4784   \n",
       "\n",
       "   Unnamed: 10       R^2  \n",
       "1          NaN  0.701167  \n",
       "2          NaN       NaN  \n",
       "3          NaN       NaN  \n",
       "4          NaN       NaN  \n",
       "5          NaN       NaN  "
      ]
     },
     "execution_count": 6,
     "metadata": {},
     "output_type": "execute_result"
    }
   ],
   "source": [
    "data = data.drop(0,axis=0)\n",
    "data.head()"
   ]
  },
  {
   "cell_type": "code",
   "execution_count": 8,
   "metadata": {},
   "outputs": [],
   "source": [
    "data['X'] = data['Unnamed: 0']\n",
    "data['y'] = data['Unnamed: 1']"
   ]
  },
  {
   "cell_type": "code",
   "execution_count": 10,
   "metadata": {},
   "outputs": [],
   "source": [
    "X = data[['X']]\n",
    "y = data[['y']]"
   ]
  },
  {
   "cell_type": "code",
   "execution_count": 42,
   "metadata": {},
   "outputs": [],
   "source": [
    "from sklearn.model_selection import train_test_split\n",
    "X_train, X_test, y_train, y_test = train_test_split(X,y,test_size=0.5,random_state=1)"
   ]
  },
  {
   "cell_type": "code",
   "execution_count": 43,
   "metadata": {},
   "outputs": [
    {
     "data": {
      "text/html": [
       "<style>#sk-container-id-7 {color: black;}#sk-container-id-7 pre{padding: 0;}#sk-container-id-7 div.sk-toggleable {background-color: white;}#sk-container-id-7 label.sk-toggleable__label {cursor: pointer;display: block;width: 100%;margin-bottom: 0;padding: 0.3em;box-sizing: border-box;text-align: center;}#sk-container-id-7 label.sk-toggleable__label-arrow:before {content: \"▸\";float: left;margin-right: 0.25em;color: #696969;}#sk-container-id-7 label.sk-toggleable__label-arrow:hover:before {color: black;}#sk-container-id-7 div.sk-estimator:hover label.sk-toggleable__label-arrow:before {color: black;}#sk-container-id-7 div.sk-toggleable__content {max-height: 0;max-width: 0;overflow: hidden;text-align: left;background-color: #f0f8ff;}#sk-container-id-7 div.sk-toggleable__content pre {margin: 0.2em;color: black;border-radius: 0.25em;background-color: #f0f8ff;}#sk-container-id-7 input.sk-toggleable__control:checked~div.sk-toggleable__content {max-height: 200px;max-width: 100%;overflow: auto;}#sk-container-id-7 input.sk-toggleable__control:checked~label.sk-toggleable__label-arrow:before {content: \"▾\";}#sk-container-id-7 div.sk-estimator input.sk-toggleable__control:checked~label.sk-toggleable__label {background-color: #d4ebff;}#sk-container-id-7 div.sk-label input.sk-toggleable__control:checked~label.sk-toggleable__label {background-color: #d4ebff;}#sk-container-id-7 input.sk-hidden--visually {border: 0;clip: rect(1px 1px 1px 1px);clip: rect(1px, 1px, 1px, 1px);height: 1px;margin: -1px;overflow: hidden;padding: 0;position: absolute;width: 1px;}#sk-container-id-7 div.sk-estimator {font-family: monospace;background-color: #f0f8ff;border: 1px dotted black;border-radius: 0.25em;box-sizing: border-box;margin-bottom: 0.5em;}#sk-container-id-7 div.sk-estimator:hover {background-color: #d4ebff;}#sk-container-id-7 div.sk-parallel-item::after {content: \"\";width: 100%;border-bottom: 1px solid gray;flex-grow: 1;}#sk-container-id-7 div.sk-label:hover label.sk-toggleable__label {background-color: #d4ebff;}#sk-container-id-7 div.sk-serial::before {content: \"\";position: absolute;border-left: 1px solid gray;box-sizing: border-box;top: 0;bottom: 0;left: 50%;z-index: 0;}#sk-container-id-7 div.sk-serial {display: flex;flex-direction: column;align-items: center;background-color: white;padding-right: 0.2em;padding-left: 0.2em;position: relative;}#sk-container-id-7 div.sk-item {position: relative;z-index: 1;}#sk-container-id-7 div.sk-parallel {display: flex;align-items: stretch;justify-content: center;background-color: white;position: relative;}#sk-container-id-7 div.sk-item::before, #sk-container-id-7 div.sk-parallel-item::before {content: \"\";position: absolute;border-left: 1px solid gray;box-sizing: border-box;top: 0;bottom: 0;left: 50%;z-index: -1;}#sk-container-id-7 div.sk-parallel-item {display: flex;flex-direction: column;z-index: 1;position: relative;background-color: white;}#sk-container-id-7 div.sk-parallel-item:first-child::after {align-self: flex-end;width: 50%;}#sk-container-id-7 div.sk-parallel-item:last-child::after {align-self: flex-start;width: 50%;}#sk-container-id-7 div.sk-parallel-item:only-child::after {width: 0;}#sk-container-id-7 div.sk-dashed-wrapped {border: 1px dashed gray;margin: 0 0.4em 0.5em 0.4em;box-sizing: border-box;padding-bottom: 0.4em;background-color: white;}#sk-container-id-7 div.sk-label label {font-family: monospace;font-weight: bold;display: inline-block;line-height: 1.2em;}#sk-container-id-7 div.sk-label-container {text-align: center;}#sk-container-id-7 div.sk-container {/* jupyter's `normalize.less` sets `[hidden] { display: none; }` but bootstrap.min.css set `[hidden] { display: none !important; }` so we also need the `!important` here to be able to override the default hidden behavior on the sphinx rendered scikit-learn.org. See: https://github.com/scikit-learn/scikit-learn/issues/21755 */display: inline-block !important;position: relative;}#sk-container-id-7 div.sk-text-repr-fallback {display: none;}</style><div id=\"sk-container-id-7\" class=\"sk-top-container\"><div class=\"sk-text-repr-fallback\"><pre>LinearRegression()</pre><b>In a Jupyter environment, please rerun this cell to show the HTML representation or trust the notebook. <br />On GitHub, the HTML representation is unable to render, please try loading this page with nbviewer.org.</b></div><div class=\"sk-container\" hidden><div class=\"sk-item\"><div class=\"sk-estimator sk-toggleable\"><input class=\"sk-toggleable__control sk-hidden--visually\" id=\"sk-estimator-id-7\" type=\"checkbox\" checked><label for=\"sk-estimator-id-7\" class=\"sk-toggleable__label sk-toggleable__label-arrow\">LinearRegression</label><div class=\"sk-toggleable__content\"><pre>LinearRegression()</pre></div></div></div></div></div>"
      ],
      "text/plain": [
       "LinearRegression()"
      ]
     },
     "execution_count": 43,
     "metadata": {},
     "output_type": "execute_result"
    }
   ],
   "source": [
    "regg_model = LinearRegression()\n",
    "regg_model.fit(X_train,y_train)"
   ]
  },
  {
   "cell_type": "code",
   "execution_count": 44,
   "metadata": {},
   "outputs": [
    {
     "data": {
      "text/plain": [
       "array([5.22745609])"
      ]
     },
     "execution_count": 44,
     "metadata": {},
     "output_type": "execute_result"
    }
   ],
   "source": [
    "regg_model.coef_[0]"
   ]
  },
  {
   "cell_type": "code",
   "execution_count": 45,
   "metadata": {},
   "outputs": [
    {
     "data": {
      "text/plain": [
       "array([116.99305744])"
      ]
     },
     "execution_count": 45,
     "metadata": {},
     "output_type": "execute_result"
    }
   ],
   "source": [
    "regg_model.intercept_"
   ]
  },
  {
   "cell_type": "code",
   "execution_count": 46,
   "metadata": {},
   "outputs": [
    {
     "data": {
      "text/plain": [
       "0.7275160390729667"
      ]
     },
     "execution_count": 46,
     "metadata": {},
     "output_type": "execute_result"
    }
   ],
   "source": [
    "regg_model.score(X_test,y_test)"
   ]
  }
 ],
 "metadata": {
  "kernelspec": {
   "display_name": "Python 3",
   "language": "python",
   "name": "python3"
  },
  "language_info": {
   "codemirror_mode": {
    "name": "ipython",
    "version": 3
   },
   "file_extension": ".py",
   "mimetype": "text/x-python",
   "name": "python",
   "nbconvert_exporter": "python",
   "pygments_lexer": "ipython3",
   "version": "3.11.1"
  },
  "orig_nbformat": 4
 },
 "nbformat": 4,
 "nbformat_minor": 2
}
