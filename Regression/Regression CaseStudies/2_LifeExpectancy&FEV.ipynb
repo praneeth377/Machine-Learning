{
 "cells": [
  {
   "cell_type": "markdown",
   "metadata": {
    "id": "rT6LG4MeO5L7"
   },
   "source": [
    "<table align=\"center\" width=100%>\n",
    "    <tr>\n",
    "        <td width=\"20%\">\n",
    "            <img src=\"in_class.png\">\n",
    "        </td>\n",
    "        <td>\n",
    "            <div align=\"center\">\n",
    "                <font color=\"#21618C\" size=8px>\n",
    "                    <b> Inclass - Lab <br>(Week 1)\n",
    "                    </b>\n",
    "                </font>\n",
    "            </div>\n",
    "        </td>\n",
    "        <td width=\"25%\">\n",
    "            <img src=\"GL-2.png\">\n",
    "        </td>\n",
    "    </tr>\n",
    "</table>"
   ]
  },
  {
   "cell_type": "markdown",
   "metadata": {
    "id": "lwbHRljiO5L9"
   },
   "source": [
    "### About the data set 1 (Life Expectancy data)\n",
    "\n",
    "The dataset contains information about several health and economic factors that contribute to average life expectancy for different countries. <br> Attribute information: \n",
    "\n",
    "**Country:** Name of the country\n",
    "\n",
    "**Status:** Whether the country is Developed or Developing\n",
    "\n",
    "**Adult_Mortality:** Mortality rate for age group 15-60 out of every 1000 individuals of the population\n",
    "\n",
    "**Infant_Deaths:** Number of infant deaths per 1000 population\n",
    "\n",
    "**Hepatitis:** Hepatitis B (HepB) immunization coverage for 1 year olds (Percentage)\n",
    "\n",
    "**Measles:** Number of reported cases for measles per 1000 from population\n",
    "\n",
    "**BMI:** Average Body Mass Index for entire population\n",
    "\n",
    "**Underfive_Deaths:** Number of deaths under 5 years of age per 1000 population\n",
    "\n",
    "**Polio:** Polio (Pol3) immunization coverage for 1 year olds (Percentage)\n",
    "\n",
    "**Diphtheria:** Diphtheria tetanus toxoid and pertussis (DTP3) immunization coverage for 1 year olds (Percentage)\n",
    "\n",
    "**HIV:** Deaths per 1000 live births due to HIV/AIDS (0-4 years)\n",
    "\n",
    "**GDP:** Gross Domestic Product per capita (in USD)\n",
    "\n",
    "**Population:** Population of the country\n",
    "\n",
    "**Malnourished10_19:** Prevalence of malnutrition among children and adolescents for Age 10 to 19 (Percentage)\n",
    "\n",
    "**Malnourished5_9:** Prevalence of malnutrition among children for Age 5 to 9 (Percentage)\n",
    "\n",
    "**Income_Index:** Human Development Index (HDI) in terms of national income per capita (index ranging from 0 to 1)\n",
    "\n",
    "**Schooling:** Number of years of Schooling\n",
    "\n",
    "**Life_Expectancy:** Life Expectancy in age for the country\n",
    "\n",
    "\n",
    "\n"
   ]
  },
  {
   "cell_type": "markdown",
   "metadata": {
    "id": "MvpaLcOaO5L-"
   },
   "source": [
    "## Table of Content\n",
    "\n",
    "1. **[Bivariate Regression](#Bivariate)**\n",
    "2. **[Multiple Linear Regression (MLR)](#MLR)**\n",
    "3. **[Inferences about slope](#ins)**\n",
    "4. **[Model Evaluation](#ML_eval)**\n",
    "5. **[Assumptions of Linear Regression](#assum)**\n",
    "6. **[Model Performance](#ml_perf)**"
   ]
  },
  {
   "cell_type": "markdown",
   "metadata": {
    "id": "uGqLBDZ6O5L_"
   },
   "source": [
    "**Import the required libraries**"
   ]
  },
  {
   "cell_type": "code",
   "execution_count": 460,
   "metadata": {
    "id": "Hn7g7yzMO5L_"
   },
   "outputs": [],
   "source": [
    "import numpy as np\n",
    "import pandas as pd\n",
    "import matplotlib.pyplot as plt\n",
    "import seaborn as sns\n",
    "import warnings\n",
    "warnings.filterwarnings('ignore')\n",
    "\n",
    "from sklearn.model_selection import train_test_split\n",
    "import statsmodels.api as sm\n",
    "import statsmodels.stats.api as sms\n",
    "from statsmodels.tools.eval_measures import rmse\n",
    "from sklearn.metrics import mean_absolute_percentage_error\n",
    "from sklearn.metrics import mean_absolute_error\n",
    "from sklearn.metrics import mean_squared_error"
   ]
  },
  {
   "cell_type": "markdown",
   "metadata": {
    "id": "xvtH2jbnO5MA"
   },
   "source": [
    "#### Load the first dataset and check the first five observations\n",
    "\n",
    "Load the csv file and set the first column as index"
   ]
  },
  {
   "cell_type": "code",
   "execution_count": 461,
   "metadata": {
    "id": "MPgBUhd1O5MB"
   },
   "outputs": [
    {
     "data": {
      "text/html": [
       "<div>\n",
       "<style scoped>\n",
       "    .dataframe tbody tr th:only-of-type {\n",
       "        vertical-align: middle;\n",
       "    }\n",
       "\n",
       "    .dataframe tbody tr th {\n",
       "        vertical-align: top;\n",
       "    }\n",
       "\n",
       "    .dataframe thead th {\n",
       "        text-align: right;\n",
       "    }\n",
       "</style>\n",
       "<table border=\"1\" class=\"dataframe\">\n",
       "  <thead>\n",
       "    <tr style=\"text-align: right;\">\n",
       "      <th></th>\n",
       "      <th>Status</th>\n",
       "      <th>Adult_Mortality</th>\n",
       "      <th>Infant_Deaths</th>\n",
       "      <th>Hepatitis</th>\n",
       "      <th>Measles</th>\n",
       "      <th>BMI</th>\n",
       "      <th>Underfive_Deaths</th>\n",
       "      <th>Polio</th>\n",
       "      <th>Diphtheria</th>\n",
       "      <th>HIV</th>\n",
       "      <th>GDP</th>\n",
       "      <th>Population</th>\n",
       "      <th>Malnourished10_19</th>\n",
       "      <th>Malnourished5_9</th>\n",
       "      <th>Income_Index</th>\n",
       "      <th>Schooling</th>\n",
       "      <th>Expected</th>\n",
       "    </tr>\n",
       "    <tr>\n",
       "      <th>Country</th>\n",
       "      <th></th>\n",
       "      <th></th>\n",
       "      <th></th>\n",
       "      <th></th>\n",
       "      <th></th>\n",
       "      <th></th>\n",
       "      <th></th>\n",
       "      <th></th>\n",
       "      <th></th>\n",
       "      <th></th>\n",
       "      <th></th>\n",
       "      <th></th>\n",
       "      <th></th>\n",
       "      <th></th>\n",
       "      <th></th>\n",
       "      <th></th>\n",
       "      <th></th>\n",
       "    </tr>\n",
       "  </thead>\n",
       "  <tbody>\n",
       "    <tr>\n",
       "      <th>Afghanistan</th>\n",
       "      <td>Developing</td>\n",
       "      <td>263</td>\n",
       "      <td>62</td>\n",
       "      <td>65</td>\n",
       "      <td>1154</td>\n",
       "      <td>19.1</td>\n",
       "      <td>83</td>\n",
       "      <td>6</td>\n",
       "      <td>65</td>\n",
       "      <td>0.1</td>\n",
       "      <td>584.259210</td>\n",
       "      <td>33736494</td>\n",
       "      <td>17.2</td>\n",
       "      <td>17.3</td>\n",
       "      <td>0.479</td>\n",
       "      <td>10.1</td>\n",
       "      <td>65.0</td>\n",
       "    </tr>\n",
       "    <tr>\n",
       "      <th>Albania</th>\n",
       "      <td>Developing</td>\n",
       "      <td>8</td>\n",
       "      <td>0</td>\n",
       "      <td>98</td>\n",
       "      <td>0</td>\n",
       "      <td>57.2</td>\n",
       "      <td>1</td>\n",
       "      <td>98</td>\n",
       "      <td>98</td>\n",
       "      <td>0.1</td>\n",
       "      <td>4575.763787</td>\n",
       "      <td>288914</td>\n",
       "      <td>1.2</td>\n",
       "      <td>1.3</td>\n",
       "      <td>0.761</td>\n",
       "      <td>14.2</td>\n",
       "      <td>77.5</td>\n",
       "    </tr>\n",
       "    <tr>\n",
       "      <th>Algeria</th>\n",
       "      <td>Developing</td>\n",
       "      <td>19</td>\n",
       "      <td>21</td>\n",
       "      <td>95</td>\n",
       "      <td>63</td>\n",
       "      <td>59.5</td>\n",
       "      <td>24</td>\n",
       "      <td>95</td>\n",
       "      <td>95</td>\n",
       "      <td>0.1</td>\n",
       "      <td>4132.762920</td>\n",
       "      <td>39871528</td>\n",
       "      <td>6.0</td>\n",
       "      <td>5.8</td>\n",
       "      <td>0.743</td>\n",
       "      <td>14.4</td>\n",
       "      <td>75.6</td>\n",
       "    </tr>\n",
       "    <tr>\n",
       "      <th>Angola</th>\n",
       "      <td>Developing</td>\n",
       "      <td>335</td>\n",
       "      <td>66</td>\n",
       "      <td>64</td>\n",
       "      <td>118</td>\n",
       "      <td>23.3</td>\n",
       "      <td>98</td>\n",
       "      <td>7</td>\n",
       "      <td>64</td>\n",
       "      <td>1.9</td>\n",
       "      <td>3695.793748</td>\n",
       "      <td>2785935</td>\n",
       "      <td>8.3</td>\n",
       "      <td>8.2</td>\n",
       "      <td>0.531</td>\n",
       "      <td>11.4</td>\n",
       "      <td>52.4</td>\n",
       "    </tr>\n",
       "    <tr>\n",
       "      <th>Argentina</th>\n",
       "      <td>Developing</td>\n",
       "      <td>116</td>\n",
       "      <td>8</td>\n",
       "      <td>94</td>\n",
       "      <td>0</td>\n",
       "      <td>62.8</td>\n",
       "      <td>9</td>\n",
       "      <td>93</td>\n",
       "      <td>94</td>\n",
       "      <td>0.1</td>\n",
       "      <td>13467.123600</td>\n",
       "      <td>43417765</td>\n",
       "      <td>1.0</td>\n",
       "      <td>0.9</td>\n",
       "      <td>0.826</td>\n",
       "      <td>17.3</td>\n",
       "      <td>76.3</td>\n",
       "    </tr>\n",
       "  </tbody>\n",
       "</table>\n",
       "</div>"
      ],
      "text/plain": [
       "                 Status  Adult_Mortality  Infant_Deaths  Hepatitis   Measles   \\\n",
       "Country                                                                         \n",
       "Afghanistan  Developing              263             62          65      1154   \n",
       "Albania      Developing                8              0          98         0   \n",
       "Algeria      Developing               19             21          95        63   \n",
       "Angola       Developing              335             66          64       118   \n",
       "Argentina    Developing              116              8          94         0   \n",
       "\n",
       "              BMI   Underfive_Deaths   Polio  Diphtheria    HIV           GDP  \\\n",
       "Country                                                                         \n",
       "Afghanistan   19.1                 83      6           65   0.1    584.259210   \n",
       "Albania       57.2                  1     98           98   0.1   4575.763787   \n",
       "Algeria       59.5                 24     95           95   0.1   4132.762920   \n",
       "Angola        23.3                 98      7           64   1.9   3695.793748   \n",
       "Argentina     62.8                  9     93           94   0.1  13467.123600   \n",
       "\n",
       "             Population  Malnourished10_19   Malnourished5_9  Income_Index  \\\n",
       "Country                                                                      \n",
       "Afghanistan    33736494                17.2             17.3         0.479   \n",
       "Albania          288914                 1.2              1.3         0.761   \n",
       "Algeria        39871528                 6.0              5.8         0.743   \n",
       "Angola          2785935                 8.3              8.2         0.531   \n",
       "Argentina      43417765                 1.0              0.9         0.826   \n",
       "\n",
       "             Schooling  Expected  \n",
       "Country                           \n",
       "Afghanistan       10.1      65.0  \n",
       "Albania           14.2      77.5  \n",
       "Algeria           14.4      75.6  \n",
       "Angola            11.4      52.4  \n",
       "Argentina         17.3      76.3  "
      ]
     },
     "execution_count": 461,
     "metadata": {},
     "output_type": "execute_result"
    }
   ],
   "source": [
    "df = pd.read_csv('Life_Expectancy.csv')\n",
    "df.set_index('Country', inplace=True)\n",
    "df.head()"
   ]
  },
  {
   "cell_type": "markdown",
   "metadata": {
    "id": "PSLxiiJDO5MB"
   },
   "source": [
    "### Let's begin with some hands-on practice exercises"
   ]
  },
  {
   "cell_type": "markdown",
   "metadata": {
    "id": "3nQ-XAUKO5MC"
   },
   "source": [
    "<a id=\"Bivariate\"> </a>\n",
    "## 1. Bivariate Regression"
   ]
  },
  {
   "cell_type": "markdown",
   "metadata": {
    "id": "jZbRMMufO5MC"
   },
   "source": [
    "## We shall use the life expectancy dataset"
   ]
  },
  {
   "cell_type": "markdown",
   "metadata": {
    "collapsed": true,
    "id": "BuVRq0FaO5MD"
   },
   "source": [
    "<table align=\"left\">\n",
    "    <tr>\n",
    "        <td width=\"6%\">\n",
    "            <img src=\"question_icon.png\">\n",
    "        </td>\n",
    "        <td>\n",
    "            <div align=\"left\", style=\"font-size:120%\">\n",
    "                <font color=\"#21618C\">\n",
    "                    <b>1. How do we analyze the impact of adult mortality rate on average life expectancy of a country?</b>\n",
    "                </font>\n",
    "            </div>\n",
    "        </td>\n",
    "    </tr>\n",
    "</table>"
   ]
  },
  {
   "cell_type": "code",
   "execution_count": 462,
   "metadata": {},
   "outputs": [
    {
     "data": {
      "image/png": "[encoded data removed]",
      "text/plain": [
       "<Figure size 640x480 with 1 Axes>"
      ]
     },
     "metadata": {},
     "output_type": "display_data"
    }
   ],
   "source": [
    "plt.scatter(df['Adult_Mortality'], df['Expected'])\n",
    "plt.xlabel('Adult Mortality')\n",
    "plt.ylabel('Life Expectancy')\n",
    "plt.show()"
   ]
  },
  {
   "cell_type": "markdown",
   "metadata": {},
   "source": [
    "#### Seems to be a negative correlation"
   ]
  },
  {
   "cell_type": "code",
   "execution_count": 463,
   "metadata": {
    "id": "vOO3WH-yO5MD"
   },
   "outputs": [],
   "source": [
    "X = sm.add_constant(df['Adult_Mortality'])\n",
    "y = df[['Expected']]"
   ]
  },
  {
   "cell_type": "code",
   "execution_count": 464,
   "metadata": {},
   "outputs": [
    {
     "name": "stdout",
     "output_type": "stream",
     "text": [
      "                            OLS Regression Results                            \n",
      "==============================================================================\n",
      "Dep. Variable:               Expected   R-squared:                       0.505\n",
      "Model:                            OLS   Adj. R-squared:                  0.501\n",
      "Method:                 Least Squares   F-statistic:                     124.6\n",
      "Date:                Tue, 09 Jan 2024   Prob (F-statistic):           2.27e-20\n",
      "Time:                        12:37:43   Log-Likelihood:                -396.71\n",
      "No. Observations:                 124   AIC:                             797.4\n",
      "Df Residuals:                     122   BIC:                             803.1\n",
      "Df Model:                           1                                         \n",
      "Covariance Type:            nonrobust                                         \n",
      "===================================================================================\n",
      "                      coef    std err          t      P>|t|      [0.025      0.975]\n",
      "-----------------------------------------------------------------------------------\n",
      "const              80.7106      1.005     80.272      0.000      78.720      82.701\n",
      "Adult_Mortality    -0.0591      0.005    -11.164      0.000      -0.070      -0.049\n",
      "==============================================================================\n",
      "Omnibus:                       57.611   Durbin-Watson:                   1.624\n",
      "Prob(Omnibus):                  0.000   Jarque-Bera (JB):              160.621\n",
      "Skew:                          -1.821   Prob(JB):                     1.32e-35\n",
      "Kurtosis:                       7.222   Cond. No.                         355.\n",
      "==============================================================================\n",
      "\n",
      "Notes:\n",
      "[1] Standard Errors assume that the covariance matrix of the errors is correctly specified.\n"
     ]
    }
   ],
   "source": [
    "SLR = sm.OLS(y,X).fit()\n",
    "print(SLR.summary())"
   ]
  },
  {
   "cell_type": "markdown",
   "metadata": {},
   "source": [
    "#### We can see that slope is negative (-0.05)"
   ]
  },
  {
   "cell_type": "markdown",
   "metadata": {
    "collapsed": true,
    "id": "BPep3bI9O5ME"
   },
   "source": [
    "<table align=\"left\">\n",
    "    <tr>\n",
    "        <td width=\"6%\">\n",
    "            <img src=\"question_icon.png\">\n",
    "        </td>\n",
    "        <td>\n",
    "            <div align=\"left\", style=\"font-size:120%\">\n",
    "                <font color=\"#21618C\">\n",
    "                    <b>2. A regression model is built to check the impact of Human Development Index (Income) on the life expectancy of a nation. What is the expected error value?</b>\n",
    "                </font>\n",
    "            </div>\n",
    "        </td>\n",
    "    </tr>\n",
    "</table>"
   ]
  },
  {
   "cell_type": "code",
   "execution_count": 465,
   "metadata": {},
   "outputs": [
    {
     "data": {
      "image/png": "[encoded data removed]",
      "text/plain": [
       "<Figure size 640x480 with 1 Axes>"
      ]
     },
     "metadata": {},
     "output_type": "display_data"
    }
   ],
   "source": [
    "plt.scatter(df['Income_Index'], df['Expected'])\n",
    "plt.xlabel('HDI')\n",
    "plt.ylabel('Life Expectancy')\n",
    "plt.show()"
   ]
  },
  {
   "cell_type": "markdown",
   "metadata": {},
   "source": [
    "#### Seems to be a positive correlation"
   ]
  },
  {
   "cell_type": "code",
   "execution_count": 466,
   "metadata": {
    "id": "K5OGcYbDO5ME"
   },
   "outputs": [],
   "source": [
    "X = sm.add_constant(df['Income_Index'])\n",
    "y = df[['Expected']]"
   ]
  },
  {
   "cell_type": "code",
   "execution_count": 467,
   "metadata": {},
   "outputs": [
    {
     "name": "stdout",
     "output_type": "stream",
     "text": [
      "                            OLS Regression Results                            \n",
      "==============================================================================\n",
      "Dep. Variable:               Expected   R-squared:                       0.711\n",
      "Model:                            OLS   Adj. R-squared:                  0.709\n",
      "Method:                 Least Squares   F-statistic:                     300.0\n",
      "Date:                Tue, 09 Jan 2024   Prob (F-statistic):           1.13e-34\n",
      "Time:                        12:37:43   Log-Likelihood:                -363.40\n",
      "No. Observations:                 124   AIC:                             730.8\n",
      "Df Residuals:                     122   BIC:                             736.4\n",
      "Df Model:                           1                                         \n",
      "Covariance Type:            nonrobust                                         \n",
      "================================================================================\n",
      "                   coef    std err          t      P>|t|      [0.025      0.975]\n",
      "--------------------------------------------------------------------------------\n",
      "const           41.9191      1.741     24.081      0.000      38.473      45.365\n",
      "Income_Index    42.4243      2.449     17.322      0.000      37.576      47.273\n",
      "==============================================================================\n",
      "Omnibus:                       11.870   Durbin-Watson:                   1.355\n",
      "Prob(Omnibus):                  0.003   Jarque-Bera (JB):               26.475\n",
      "Skew:                           0.280   Prob(JB):                     1.78e-06\n",
      "Kurtosis:                       5.193   Cond. No.                         8.87\n",
      "==============================================================================\n",
      "\n",
      "Notes:\n",
      "[1] Standard Errors assume that the covariance matrix of the errors is correctly specified.\n"
     ]
    }
   ],
   "source": [
    "SLR = sm.OLS(y,X).fit()\n",
    "print(SLR.summary())"
   ]
  },
  {
   "cell_type": "code",
   "execution_count": 468,
   "metadata": {},
   "outputs": [
    {
     "data": {
      "text/plain": [
       "0.7085555861465764"
      ]
     },
     "execution_count": 468,
     "metadata": {},
     "output_type": "execute_result"
    }
   ],
   "source": [
    "SLR.rsquared_adj"
   ]
  },
  {
   "cell_type": "markdown",
   "metadata": {},
   "source": [
    "#### Around 71% accuracy"
   ]
  },
  {
   "cell_type": "code",
   "execution_count": 469,
   "metadata": {},
   "outputs": [
    {
     "data": {
      "text/plain": [
       "array([65. , 77.5, 75.6, 52.4, 76.3, 74.8, 82.8, 81.5, 72.7, 76.9, 71.8,\n",
       "       75.5, 72.3, 81.1, 71. , 60. , 69.8, 77.4, 65.7, 75. , 77.7, 74.5,\n",
       "       68.7, 82.2, 52.5, 53.1, 85. , 76.1, 74.8, 63.5, 79.6, 78. , 79.1,\n",
       "       85. , 86. , 76.2, 79. , 73.5, 77.6, 64.8, 69.9, 81.1, 82.4, 74.4,\n",
       "       81. , 62.4, 81. , 71.9, 59. , 63.5, 75.8, 82.7, 68.3, 69.1, 75.5,\n",
       "       68.9, 81.4, 82.5, 82.7, 76.2, 83.7, 72. , 63.4, 74.7, 74.9, 61.4,\n",
       "       82. , 65.5, 75. , 78.5, 58.2, 74.6, 76.7, 68.8, 74.3, 66.6, 69.2,\n",
       "       81.9, 81.6, 74.8, 69. , 53.2, 81.6, 76.2, 77.6, 74. , 75.5, 68.5,\n",
       "       68.4, 77.5, 81.1, 82.3, 72.1, 75. , 73. , 70. , 69.6, 69.4, 68.4,\n",
       "       68.2, 67.5, 67.3, 66.4, 65. , 64.9, 64.6, 64.8, 65.1, 65. , 66.1,\n",
       "       65.7, 65.2, 64.6, 63.8, 62.8, 61. , 68. , 59.6, 57.6, 55.3, 53.4,\n",
       "       52. , 57. , 48.6])"
      ]
     },
     "execution_count": 469,
     "metadata": {},
     "output_type": "execute_result"
    }
   ],
   "source": [
    "np.array(df['Expected'].values)"
   ]
  },
  {
   "cell_type": "code",
   "execution_count": 470,
   "metadata": {},
   "outputs": [
    {
     "data": {
      "text/plain": [
       "array([62.24036288, 74.20401067, 73.44037358, 64.44642559, 76.96158906,\n",
       "       73.35552501, 81.67068447, 79.76159173, 74.07673782, 76.83431621,\n",
       "       66.31309404, 75.60401201, 75.77370914, 79.88886458, 71.87067511,\n",
       "       62.32521145, 67.54339825, 73.61007071, 71.53128084, 73.90704069,\n",
       "       78.57371181, 75.51916344, 65.59188123, 80.90704737, 56.64035753,\n",
       "       58.63429883, 77.76765044, 73.05855503, 72.6343122 , 63.04642426,\n",
       "       74.79795063, 76.83431621, 74.71310206, 78.14946898, 81.07674451,\n",
       "       73.27067644, 71.10703801, 70.68279518, 78.53128753, 60.62824013,\n",
       "       73.05855503, 79.80401602, 79.8464403 , 74.50098065, 81.11916879,\n",
       "       66.31309404, 78.61613609, 68.94339958, 59.48278449, 62.70702999,\n",
       "       77.30098332, 80.90704737, 68.01006536, 71.02218945, 74.75552635,\n",
       "       69.45249098, 80.94947166, 80.01613743, 79.29492462, 72.84643361,\n",
       "       80.18583456, 75.56158772, 65.25248697, 75.81613342, 74.28885923,\n",
       "       60.03430017, 79.93128887, 63.59793993, 75.30704203, 71.65855369,\n",
       "       60.50096728, 74.96764776, 74.07673782, 73.01613075, 69.28279385,\n",
       "       65.33733553, 65.46460838, 81.07674451, 80.65250168, 69.155521  ,\n",
       "       56.38581183, 63.72521278, 82.01007873, 75.68886057, 75.01007204,\n",
       "       71.27673515, 73.18582788, 70.72521947, 70.59794662, 78.06462042,\n",
       "       77.5979533 , 62.79187856, 75.81613342, 76.07067912, 75.98583055,\n",
       "       75.81613342, 75.51916344, 75.22219346, 74.71310206, 74.84037491,\n",
       "       74.54340493, 74.20401067, 73.90704069, 73.65249499, 73.35552501,\n",
       "       73.01613075, 72.76158505, 72.46461507, 71.99794796, 62.83430284,\n",
       "       62.62218143, 62.49490858, 62.07066575, 61.60399864, 61.17975581,\n",
       "       60.88278583, 60.50096728, 59.90702732, 59.05854166, 58.37975313,\n",
       "       57.65854032, 57.14944893, 56.4706604 , 56.00399329])"
      ]
     },
     "execution_count": 470,
     "metadata": {},
     "output_type": "execute_result"
    }
   ],
   "source": [
    "SLR.predict()"
   ]
  },
  {
   "cell_type": "code",
   "execution_count": 471,
   "metadata": {},
   "outputs": [
    {
     "data": {
      "text/plain": [
       "array([  2.75963712,   3.29598933,   2.15962642, -12.04642559,\n",
       "        -0.66158906,   1.44447499,   1.12931553,   1.73840827,\n",
       "        -1.37673782,   0.06568379,   5.48690596,  -0.10401201,\n",
       "        -3.47370914,   1.21113542,  -0.87067511,  -2.32521145,\n",
       "         2.25660175,   3.78992929,  -5.83128084,   1.09295931,\n",
       "        -0.87371181,  -1.01916344,   3.10811877,   1.29295263,\n",
       "        -4.14035753,  -5.53429883,   7.23234956,   3.04144497,\n",
       "         2.1656878 ,   0.45357574,   4.80204937,   1.16568379,\n",
       "         4.38689794,   6.85053102,   4.92325549,   2.92932356,\n",
       "         7.89296199,   2.81720482,  -0.93128753,   4.17175987,\n",
       "        -3.15855503,   1.29598398,   2.5535597 ,  -0.10098065,\n",
       "        -0.11916879,  -3.91309404,   2.38386391,   2.95660042,\n",
       "        -0.48278449,   0.79297001,  -1.50098332,   1.79295263,\n",
       "         0.28993464,  -1.92218945,   0.74447365,  -0.55249098,\n",
       "         0.45052834,   2.48386257,   3.40507538,   3.35356639,\n",
       "         3.51416544,  -3.56158772,  -1.85248697,  -1.11613342,\n",
       "         0.61114077,   1.36569983,   2.06871113,   1.90206007,\n",
       "        -0.30704203,   6.84144631,  -2.30096728,  -0.36764776,\n",
       "         2.62326218,  -4.21613075,   5.01720615,   1.26266447,\n",
       "         3.73539162,   0.82325549,   0.94749832,   5.644479  ,\n",
       "        12.61418817, -10.52521278,  -0.41007873,   0.51113943,\n",
       "         2.58992796,   2.72326485,   2.31417212,  -2.22521947,\n",
       "        -2.19794662,  -0.56462042,   3.5020467 ,  19.50812144,\n",
       "        -3.71613342,  -1.07067912,  -2.98583055,  -5.81613342,\n",
       "        -5.91916344,  -5.82219346,  -6.31310206,  -6.64037491,\n",
       "        -7.04340493,  -6.90401067,  -7.50704069,  -8.65249499,\n",
       "        -8.45552501,  -8.41613075,  -7.96158505,  -7.36461507,\n",
       "        -6.99794796,   3.26569716,   3.07781857,   2.70509142,\n",
       "         2.52933425,   2.19600136,   1.62024419,   0.11721417,\n",
       "         7.49903272,  -0.30702732,  -1.45854166,  -3.07975313,\n",
       "        -4.25854032,  -5.14944893,   0.5293396 ,  -7.40399329])"
      ]
     },
     "execution_count": 471,
     "metadata": {},
     "output_type": "execute_result"
    }
   ],
   "source": [
    "np.array(df['Expected'].values) - SLR.predict()"
   ]
  },
  {
   "cell_type": "code",
   "execution_count": 472,
   "metadata": {},
   "outputs": [
    {
     "data": {
      "text/plain": [
       "Country\n",
       "Afghanistan     2.759637\n",
       "Albania         3.295989\n",
       "Algeria         2.159626\n",
       "Angola        -12.046426\n",
       "Argentina      -0.661589\n",
       "                 ...    \n",
       "Venezuela      -3.079753\n",
       "Viet Nam       -4.258540\n",
       "Yemen          -5.149449\n",
       "Zambia          0.529340\n",
       "Zimbabwe       -7.403993\n",
       "Length: 124, dtype: float64"
      ]
     },
     "execution_count": 472,
     "metadata": {},
     "output_type": "execute_result"
    }
   ],
   "source": [
    "SLR.resid"
   ]
  },
  {
   "cell_type": "code",
   "execution_count": 473,
   "metadata": {},
   "outputs": [
    {
     "name": "stdout",
     "output_type": "stream",
     "text": [
      "Expected residual value: -1.4440062049318165e-14\n"
     ]
    }
   ],
   "source": [
    "print(\"Expected residual value:\",np.sum(SLR.resid.values)/len(df['Expected']))"
   ]
  },
  {
   "cell_type": "markdown",
   "metadata": {},
   "source": [
    "---"
   ]
  },
  {
   "cell_type": "code",
   "execution_count": 474,
   "metadata": {},
   "outputs": [
    {
     "data": {
      "text/html": [
       "<div>\n",
       "<style scoped>\n",
       "    .dataframe tbody tr th:only-of-type {\n",
       "        vertical-align: middle;\n",
       "    }\n",
       "\n",
       "    .dataframe tbody tr th {\n",
       "        vertical-align: top;\n",
       "    }\n",
       "\n",
       "    .dataframe thead th {\n",
       "        text-align: right;\n",
       "    }\n",
       "</style>\n",
       "<table border=\"1\" class=\"dataframe\">\n",
       "  <thead>\n",
       "    <tr style=\"text-align: right;\">\n",
       "      <th></th>\n",
       "      <th>Status</th>\n",
       "      <th>Adult_Mortality</th>\n",
       "      <th>Infant_Deaths</th>\n",
       "      <th>Hepatitis</th>\n",
       "      <th>Measles</th>\n",
       "      <th>BMI</th>\n",
       "      <th>Underfive_Deaths</th>\n",
       "      <th>Polio</th>\n",
       "      <th>Diphtheria</th>\n",
       "      <th>HIV</th>\n",
       "      <th>GDP</th>\n",
       "      <th>Population</th>\n",
       "      <th>Malnourished10_19</th>\n",
       "      <th>Malnourished5_9</th>\n",
       "      <th>Income_Index</th>\n",
       "      <th>Schooling</th>\n",
       "      <th>Expected</th>\n",
       "    </tr>\n",
       "    <tr>\n",
       "      <th>Country</th>\n",
       "      <th></th>\n",
       "      <th></th>\n",
       "      <th></th>\n",
       "      <th></th>\n",
       "      <th></th>\n",
       "      <th></th>\n",
       "      <th></th>\n",
       "      <th></th>\n",
       "      <th></th>\n",
       "      <th></th>\n",
       "      <th></th>\n",
       "      <th></th>\n",
       "      <th></th>\n",
       "      <th></th>\n",
       "      <th></th>\n",
       "      <th></th>\n",
       "      <th></th>\n",
       "    </tr>\n",
       "  </thead>\n",
       "  <tbody>\n",
       "    <tr>\n",
       "      <th>Afghanistan</th>\n",
       "      <td>Developing</td>\n",
       "      <td>263</td>\n",
       "      <td>62</td>\n",
       "      <td>65</td>\n",
       "      <td>1154</td>\n",
       "      <td>19.1</td>\n",
       "      <td>83</td>\n",
       "      <td>6</td>\n",
       "      <td>65</td>\n",
       "      <td>0.1</td>\n",
       "      <td>584.259210</td>\n",
       "      <td>33736494</td>\n",
       "      <td>17.2</td>\n",
       "      <td>17.3</td>\n",
       "      <td>0.479</td>\n",
       "      <td>10.1</td>\n",
       "      <td>65.0</td>\n",
       "    </tr>\n",
       "    <tr>\n",
       "      <th>Albania</th>\n",
       "      <td>Developing</td>\n",
       "      <td>8</td>\n",
       "      <td>0</td>\n",
       "      <td>98</td>\n",
       "      <td>0</td>\n",
       "      <td>57.2</td>\n",
       "      <td>1</td>\n",
       "      <td>98</td>\n",
       "      <td>98</td>\n",
       "      <td>0.1</td>\n",
       "      <td>4575.763787</td>\n",
       "      <td>288914</td>\n",
       "      <td>1.2</td>\n",
       "      <td>1.3</td>\n",
       "      <td>0.761</td>\n",
       "      <td>14.2</td>\n",
       "      <td>77.5</td>\n",
       "    </tr>\n",
       "    <tr>\n",
       "      <th>Algeria</th>\n",
       "      <td>Developing</td>\n",
       "      <td>19</td>\n",
       "      <td>21</td>\n",
       "      <td>95</td>\n",
       "      <td>63</td>\n",
       "      <td>59.5</td>\n",
       "      <td>24</td>\n",
       "      <td>95</td>\n",
       "      <td>95</td>\n",
       "      <td>0.1</td>\n",
       "      <td>4132.762920</td>\n",
       "      <td>39871528</td>\n",
       "      <td>6.0</td>\n",
       "      <td>5.8</td>\n",
       "      <td>0.743</td>\n",
       "      <td>14.4</td>\n",
       "      <td>75.6</td>\n",
       "    </tr>\n",
       "    <tr>\n",
       "      <th>Angola</th>\n",
       "      <td>Developing</td>\n",
       "      <td>335</td>\n",
       "      <td>66</td>\n",
       "      <td>64</td>\n",
       "      <td>118</td>\n",
       "      <td>23.3</td>\n",
       "      <td>98</td>\n",
       "      <td>7</td>\n",
       "      <td>64</td>\n",
       "      <td>1.9</td>\n",
       "      <td>3695.793748</td>\n",
       "      <td>2785935</td>\n",
       "      <td>8.3</td>\n",
       "      <td>8.2</td>\n",
       "      <td>0.531</td>\n",
       "      <td>11.4</td>\n",
       "      <td>52.4</td>\n",
       "    </tr>\n",
       "    <tr>\n",
       "      <th>Argentina</th>\n",
       "      <td>Developing</td>\n",
       "      <td>116</td>\n",
       "      <td>8</td>\n",
       "      <td>94</td>\n",
       "      <td>0</td>\n",
       "      <td>62.8</td>\n",
       "      <td>9</td>\n",
       "      <td>93</td>\n",
       "      <td>94</td>\n",
       "      <td>0.1</td>\n",
       "      <td>13467.123600</td>\n",
       "      <td>43417765</td>\n",
       "      <td>1.0</td>\n",
       "      <td>0.9</td>\n",
       "      <td>0.826</td>\n",
       "      <td>17.3</td>\n",
       "      <td>76.3</td>\n",
       "    </tr>\n",
       "    <tr>\n",
       "      <th>...</th>\n",
       "      <td>...</td>\n",
       "      <td>...</td>\n",
       "      <td>...</td>\n",
       "      <td>...</td>\n",
       "      <td>...</td>\n",
       "      <td>...</td>\n",
       "      <td>...</td>\n",
       "      <td>...</td>\n",
       "      <td>...</td>\n",
       "      <td>...</td>\n",
       "      <td>...</td>\n",
       "      <td>...</td>\n",
       "      <td>...</td>\n",
       "      <td>...</td>\n",
       "      <td>...</td>\n",
       "      <td>...</td>\n",
       "      <td>...</td>\n",
       "    </tr>\n",
       "    <tr>\n",
       "      <th>Serbia</th>\n",
       "      <td>Developing</td>\n",
       "      <td>229</td>\n",
       "      <td>14</td>\n",
       "      <td>97</td>\n",
       "      <td>2339</td>\n",
       "      <td>59.3</td>\n",
       "      <td>16</td>\n",
       "      <td>98</td>\n",
       "      <td>97</td>\n",
       "      <td>0.2</td>\n",
       "      <td>15543.676530</td>\n",
       "      <td>14356911</td>\n",
       "      <td>2.3</td>\n",
       "      <td>2.3</td>\n",
       "      <td>0.799</td>\n",
       "      <td>14.6</td>\n",
       "      <td>70.0</td>\n",
       "    </tr>\n",
       "    <tr>\n",
       "      <th>Seychelles</th>\n",
       "      <td>Developing</td>\n",
       "      <td>237</td>\n",
       "      <td>14</td>\n",
       "      <td>97</td>\n",
       "      <td>2123</td>\n",
       "      <td>58.7</td>\n",
       "      <td>16</td>\n",
       "      <td>98</td>\n",
       "      <td>97</td>\n",
       "      <td>0.3</td>\n",
       "      <td>15154.456870</td>\n",
       "      <td>14321676</td>\n",
       "      <td>2.3</td>\n",
       "      <td>2.4</td>\n",
       "      <td>0.792</td>\n",
       "      <td>14.3</td>\n",
       "      <td>69.6</td>\n",
       "    </tr>\n",
       "    <tr>\n",
       "      <th>Sierra Leone</th>\n",
       "      <td>Developing</td>\n",
       "      <td>242</td>\n",
       "      <td>14</td>\n",
       "      <td>97</td>\n",
       "      <td>629</td>\n",
       "      <td>58.1</td>\n",
       "      <td>17</td>\n",
       "      <td>97</td>\n",
       "      <td>97</td>\n",
       "      <td>0.3</td>\n",
       "      <td>14212.687000</td>\n",
       "      <td>14296868</td>\n",
       "      <td>2.3</td>\n",
       "      <td>2.4</td>\n",
       "      <td>0.785</td>\n",
       "      <td>14.0</td>\n",
       "      <td>69.4</td>\n",
       "    </tr>\n",
       "    <tr>\n",
       "      <th>Singapore</th>\n",
       "      <td>Developing</td>\n",
       "      <td>256</td>\n",
       "      <td>15</td>\n",
       "      <td>97</td>\n",
       "      <td>129</td>\n",
       "      <td>57.5</td>\n",
       "      <td>17</td>\n",
       "      <td>98</td>\n",
       "      <td>97</td>\n",
       "      <td>0.2</td>\n",
       "      <td>1674.987710</td>\n",
       "      <td>142849449</td>\n",
       "      <td>2.3</td>\n",
       "      <td>2.5</td>\n",
       "      <td>0.773</td>\n",
       "      <td>13.7</td>\n",
       "      <td>68.4</td>\n",
       "    </tr>\n",
       "    <tr>\n",
       "      <th>Solomon Islands</th>\n",
       "      <td>Developing</td>\n",
       "      <td>261</td>\n",
       "      <td>15</td>\n",
       "      <td>98</td>\n",
       "      <td>101</td>\n",
       "      <td>57.0</td>\n",
       "      <td>18</td>\n",
       "      <td>98</td>\n",
       "      <td>98</td>\n",
       "      <td>0.3</td>\n",
       "      <td>8562.895980</td>\n",
       "      <td>142785342</td>\n",
       "      <td>2.3</td>\n",
       "      <td>2.5</td>\n",
       "      <td>0.776</td>\n",
       "      <td>14.0</td>\n",
       "      <td>68.2</td>\n",
       "    </tr>\n",
       "  </tbody>\n",
       "</table>\n",
       "<p>100 rows × 17 columns</p>\n",
       "</div>"
      ],
      "text/plain": [
       "                     Status  Adult_Mortality  Infant_Deaths  Hepatitis   \\\n",
       "Country                                                                   \n",
       "Afghanistan      Developing              263             62          65   \n",
       "Albania          Developing                8              0          98   \n",
       "Algeria          Developing               19             21          95   \n",
       "Angola           Developing              335             66          64   \n",
       "Argentina        Developing              116              8          94   \n",
       "...                     ...              ...            ...         ...   \n",
       "Serbia           Developing              229             14          97   \n",
       "Seychelles       Developing              237             14          97   \n",
       "Sierra Leone     Developing              242             14          97   \n",
       "Singapore        Developing              256             15          97   \n",
       "Solomon Islands  Developing              261             15          98   \n",
       "\n",
       "                 Measles    BMI   Underfive_Deaths   Polio  Diphtheria    HIV  \\\n",
       "Country                                                                         \n",
       "Afghanistan          1154   19.1                 83      6           65   0.1   \n",
       "Albania                 0   57.2                  1     98           98   0.1   \n",
       "Algeria                63   59.5                 24     95           95   0.1   \n",
       "Angola                118   23.3                 98      7           64   1.9   \n",
       "Argentina               0   62.8                  9     93           94   0.1   \n",
       "...                   ...    ...                ...    ...          ...   ...   \n",
       "Serbia               2339   59.3                 16     98           97   0.2   \n",
       "Seychelles           2123   58.7                 16     98           97   0.3   \n",
       "Sierra Leone          629   58.1                 17     97           97   0.3   \n",
       "Singapore             129   57.5                 17     98           97   0.2   \n",
       "Solomon Islands       101   57.0                 18     98           98   0.3   \n",
       "\n",
       "                          GDP  Population  Malnourished10_19   \\\n",
       "Country                                                         \n",
       "Afghanistan        584.259210    33736494                17.2   \n",
       "Albania           4575.763787      288914                 1.2   \n",
       "Algeria           4132.762920    39871528                 6.0   \n",
       "Angola            3695.793748     2785935                 8.3   \n",
       "Argentina        13467.123600    43417765                 1.0   \n",
       "...                       ...         ...                 ...   \n",
       "Serbia           15543.676530    14356911                 2.3   \n",
       "Seychelles       15154.456870    14321676                 2.3   \n",
       "Sierra Leone     14212.687000    14296868                 2.3   \n",
       "Singapore         1674.987710   142849449                 2.3   \n",
       "Solomon Islands   8562.895980   142785342                 2.3   \n",
       "\n",
       "                 Malnourished5_9  Income_Index  Schooling  Expected  \n",
       "Country                                                              \n",
       "Afghanistan                 17.3         0.479       10.1      65.0  \n",
       "Albania                      1.3         0.761       14.2      77.5  \n",
       "Algeria                      5.8         0.743       14.4      75.6  \n",
       "Angola                       8.2         0.531       11.4      52.4  \n",
       "Argentina                    0.9         0.826       17.3      76.3  \n",
       "...                          ...           ...        ...       ...  \n",
       "Serbia                       2.3         0.799       14.6      70.0  \n",
       "Seychelles                   2.4         0.792       14.3      69.6  \n",
       "Sierra Leone                 2.4         0.785       14.0      69.4  \n",
       "Singapore                    2.5         0.773       13.7      68.4  \n",
       "Solomon Islands              2.5         0.776       14.0      68.2  \n",
       "\n",
       "[100 rows x 17 columns]"
      ]
     },
     "execution_count": 474,
     "metadata": {},
     "output_type": "execute_result"
    }
   ],
   "source": [
    "df.head(100)"
   ]
  },
  {
   "cell_type": "markdown",
   "metadata": {
    "id": "jCDCNMaHO5MF"
   },
   "source": [
    "<a id=\"MLR\"> </a>\n",
    "## 2. Multiple Linear Regression(MLR)"
   ]
  },
  {
   "cell_type": "markdown",
   "metadata": {
    "collapsed": true,
    "id": "ReE0XhiEO5MF"
   },
   "source": [
    "<table align=\"left\">\n",
    "    <tr>\n",
    "        <td width=\"6%\">\n",
    "            <img src=\"question_icon.png\">\n",
    "        </td>\n",
    "        <td>\n",
    "            <div align=\"left\", style=\"font-size:120%\">\n",
    "                <font color=\"#21618C\">\n",
    "                    <b>3. Analyze the impact of immunization on life expectancy. </b>\n",
    "                </font>\n",
    "            </div>\n",
    "        </td>\n",
    "    </tr>\n",
    "</table>"
   ]
  },
  {
   "cell_type": "code",
   "execution_count": 475,
   "metadata": {
    "id": "Mz76ezJJO5MG"
   },
   "outputs": [
    {
     "data": {
      "text/plain": [
       "Index(['Status', 'Adult_Mortality', 'Infant_Deaths', 'Hepatitis ', 'Measles ',\n",
       "       ' BMI ', 'Underfive_Deaths ', 'Polio', 'Diphtheria ', ' HIV', 'GDP',\n",
       "       'Population', 'Malnourished10_19 ', 'Malnourished5_9', 'Income_Index',\n",
       "       'Schooling', 'Expected'],\n",
       "      dtype='object')"
      ]
     },
     "execution_count": 475,
     "metadata": {},
     "output_type": "execute_result"
    }
   ],
   "source": [
    "df.columns"
   ]
  },
  {
   "cell_type": "code",
   "execution_count": 476,
   "metadata": {},
   "outputs": [],
   "source": [
    "X = sm.add_constant(df[['Hepatitis ','Polio','Diphtheria ']])\n",
    "y = df[['Expected']]"
   ]
  },
  {
   "cell_type": "code",
   "execution_count": 477,
   "metadata": {},
   "outputs": [],
   "source": [
    "X_train, X_test, y_train, y_test = train_test_split(X, y, test_size=0.3, random_state=42)"
   ]
  },
  {
   "cell_type": "code",
   "execution_count": 478,
   "metadata": {},
   "outputs": [
    {
     "name": "stdout",
     "output_type": "stream",
     "text": [
      "                            OLS Regression Results                            \n",
      "==============================================================================\n",
      "Dep. Variable:               Expected   R-squared:                       0.173\n",
      "Model:                            OLS   Adj. R-squared:                  0.143\n",
      "Method:                 Least Squares   F-statistic:                     5.737\n",
      "Date:                Tue, 09 Jan 2024   Prob (F-statistic):            0.00130\n",
      "Time:                        12:37:43   Log-Likelihood:                -296.38\n",
      "No. Observations:                  86   AIC:                             600.8\n",
      "Df Residuals:                      82   BIC:                             610.6\n",
      "Df Model:                           3                                         \n",
      "Covariance Type:            nonrobust                                         \n",
      "===============================================================================\n",
      "                  coef    std err          t      P>|t|      [0.025      0.975]\n",
      "-------------------------------------------------------------------------------\n",
      "const          56.8729      4.372     13.008      0.000      48.176      65.570\n",
      "Hepatitis      -0.1471      0.074     -1.975      0.052      -0.295       0.001\n",
      "Polio           0.1872      0.071      2.635      0.010       0.046       0.329\n",
      "Diphtheria      0.1192      0.093      1.279      0.204      -0.066       0.304\n",
      "==============================================================================\n",
      "Omnibus:                        1.474   Durbin-Watson:                   2.062\n",
      "Prob(Omnibus):                  0.479   Jarque-Bera (JB):                1.485\n",
      "Skew:                          -0.300   Prob(JB):                        0.476\n",
      "Kurtosis:                       2.768   Cond. No.                         800.\n",
      "==============================================================================\n",
      "\n",
      "Notes:\n",
      "[1] Standard Errors assume that the covariance matrix of the errors is correctly specified.\n"
     ]
    }
   ],
   "source": [
    "SLR = sm.OLS(y_train, X_train).fit()\n",
    "print(SLR.summary())"
   ]
  },
  {
   "cell_type": "code",
   "execution_count": 479,
   "metadata": {},
   "outputs": [],
   "source": [
    "y_pred = SLR.predict(X_test)"
   ]
  },
  {
   "cell_type": "code",
   "execution_count": 480,
   "metadata": {},
   "outputs": [
    {
     "data": {
      "text/plain": [
       "8.89526881843037"
      ]
     },
     "execution_count": 480,
     "metadata": {},
     "output_type": "execute_result"
    }
   ],
   "source": [
    "rmse(y_test, y_pred.to_frame())[0]"
   ]
  },
  {
   "cell_type": "code",
   "execution_count": 481,
   "metadata": {},
   "outputs": [
    {
     "data": {
      "text/plain": [
       "14.323015295220065"
      ]
     },
     "execution_count": 481,
     "metadata": {},
     "output_type": "execute_result"
    }
   ],
   "source": [
    "100*SLR.rsquared_adj"
   ]
  },
  {
   "cell_type": "markdown",
   "metadata": {},
   "source": [
    "#### Very low $R^2$ "
   ]
  },
  {
   "cell_type": "markdown",
   "metadata": {
    "collapsed": true,
    "id": "JYXNOH_fO5MG"
   },
   "source": [
    "<table align=\"left\">\n",
    "    <tr>\n",
    "        <td width=\"6%\">\n",
    "            <img src=\"question_icon.png\">\n",
    "        </td>\n",
    "        <td>\n",
    "            <div align=\"left\", style=\"font-size:120%\">\n",
    "                <font color=\"#21618C\">\n",
    "                    <b>4. If the information that whether the country is a developed or a developing country is included, does it alter the impact of immunzation on life expectancy ?</b>\n",
    "                </font>\n",
    "            </div>\n",
    "        </td>\n",
    "    </tr>\n",
    "</table>"
   ]
  },
  {
   "cell_type": "code",
   "execution_count": 482,
   "metadata": {
    "id": "JnPkOfb3O5MH"
   },
   "outputs": [],
   "source": [
    "# Assigning 1 to Developed and 0 to Developing countries\n",
    "df['Status_Binary'] = np.where(df['Status'] == 'Developed', 1, 0)"
   ]
  },
  {
   "cell_type": "code",
   "execution_count": 483,
   "metadata": {},
   "outputs": [],
   "source": [
    "X = sm.add_constant(df[['Status_Binary','Hepatitis ','Polio','Diphtheria ']])\n",
    "y = df[['Expected']]"
   ]
  },
  {
   "cell_type": "code",
   "execution_count": 484,
   "metadata": {},
   "outputs": [],
   "source": [
    "X_train, X_test, y_train, y_test = train_test_split(X, y, test_size=0.3, random_state=42)"
   ]
  },
  {
   "cell_type": "code",
   "execution_count": 485,
   "metadata": {},
   "outputs": [
    {
     "name": "stdout",
     "output_type": "stream",
     "text": [
      "                            OLS Regression Results                            \n",
      "==============================================================================\n",
      "Dep. Variable:               Expected   R-squared:                       0.329\n",
      "Model:                            OLS   Adj. R-squared:                  0.296\n",
      "Method:                 Least Squares   F-statistic:                     9.937\n",
      "Date:                Tue, 09 Jan 2024   Prob (F-statistic):           1.36e-06\n",
      "Time:                        12:37:43   Log-Likelihood:                -287.41\n",
      "No. Observations:                  86   AIC:                             584.8\n",
      "Df Residuals:                      81   BIC:                             597.1\n",
      "Df Model:                           4                                         \n",
      "Covariance Type:            nonrobust                                         \n",
      "=================================================================================\n",
      "                    coef    std err          t      P>|t|      [0.025      0.975]\n",
      "---------------------------------------------------------------------------------\n",
      "const            57.7014      3.968     14.543      0.000      49.807      65.596\n",
      "Status_Binary    10.6101      2.447      4.336      0.000       5.742      15.479\n",
      "Hepatitis        -0.0118      0.074     -0.159      0.874      -0.160       0.136\n",
      "Polio             0.1766      0.064      2.740      0.008       0.048       0.305\n",
      "Diphtheria       -0.0268      0.091     -0.295      0.769      -0.208       0.154\n",
      "==============================================================================\n",
      "Omnibus:                        2.341   Durbin-Watson:                   1.956\n",
      "Prob(Omnibus):                  0.310   Jarque-Bera (JB):                1.701\n",
      "Skew:                          -0.308   Prob(JB):                        0.427\n",
      "Kurtosis:                       3.310   Cond. No.                         802.\n",
      "==============================================================================\n",
      "\n",
      "Notes:\n",
      "[1] Standard Errors assume that the covariance matrix of the errors is correctly specified.\n"
     ]
    }
   ],
   "source": [
    "SLR = sm.OLS(y_train, X_train).fit()\n",
    "print(SLR.summary())"
   ]
  },
  {
   "cell_type": "code",
   "execution_count": 486,
   "metadata": {},
   "outputs": [],
   "source": [
    "y_pred = SLR.predict(X_test)"
   ]
  },
  {
   "cell_type": "code",
   "execution_count": 487,
   "metadata": {},
   "outputs": [
    {
     "data": {
      "text/plain": [
       "7.789226826432632"
      ]
     },
     "execution_count": 487,
     "metadata": {},
     "output_type": "execute_result"
    }
   ],
   "source": [
    "rmse(y_test, y_pred.to_frame())[0]"
   ]
  },
  {
   "cell_type": "code",
   "execution_count": 488,
   "metadata": {},
   "outputs": [
    {
     "data": {
      "text/plain": [
       "29.60547151264914"
      ]
     },
     "execution_count": 488,
     "metadata": {},
     "output_type": "execute_result"
    }
   ],
   "source": [
    "100*SLR.rsquared_adj"
   ]
  },
  {
   "cell_type": "markdown",
   "metadata": {},
   "source": [
    "#### RMSE slightly decreased and $R^2$ has doubled. Positive effect on model."
   ]
  },
  {
   "cell_type": "markdown",
   "metadata": {
    "id": "OSjInVY1O5MI"
   },
   "source": [
    "<a id=\"ins\"> </a>\n",
    "## 3. Inferences about slope"
   ]
  },
  {
   "cell_type": "markdown",
   "metadata": {
    "collapsed": true,
    "id": "3byiFGZJO5MI"
   },
   "source": [
    "<table align=\"left\">\n",
    "    <tr>\n",
    "        <td width=\"6%\">\n",
    "            <img src=\"question_icon.png\">\n",
    "        </td>\n",
    "        <td>\n",
    "            <div align=\"left\", style=\"font-size:120%\">\n",
    "                <font color=\"#21618C\">\n",
    "                    <b>5. Find the significant variables in the full model when all the variables are considered for prediction of life expectancy.</b>\n",
    "                </font>\n",
    "            </div>\n",
    "        </td>\n",
    "    </tr>\n",
    "</table>"
   ]
  },
  {
   "cell_type": "code",
   "execution_count": 489,
   "metadata": {
    "id": "KnIG25MqO5MJ"
   },
   "outputs": [],
   "source": [
    "X = sm.add_constant(df.drop(columns=['Status', 'Expected'], axis=1))\n",
    "y = df[['Expected']]"
   ]
  },
  {
   "cell_type": "code",
   "execution_count": 490,
   "metadata": {},
   "outputs": [],
   "source": [
    "X_train, X_test, y_train, y_test = train_test_split(X, y, test_size=0.3, random_state=42)"
   ]
  },
  {
   "cell_type": "code",
   "execution_count": 491,
   "metadata": {},
   "outputs": [
    {
     "name": "stdout",
     "output_type": "stream",
     "text": [
      "                            OLS Regression Results                            \n",
      "==============================================================================\n",
      "Dep. Variable:               Expected   R-squared:                       0.857\n",
      "Model:                            OLS   Adj. R-squared:                  0.824\n",
      "Method:                 Least Squares   F-statistic:                     25.86\n",
      "Date:                Tue, 09 Jan 2024   Prob (F-statistic):           6.12e-23\n",
      "Time:                        12:37:43   Log-Likelihood:                -220.92\n",
      "No. Observations:                  86   AIC:                             475.8\n",
      "Df Residuals:                      69   BIC:                             517.6\n",
      "Df Model:                          16                                         \n",
      "Covariance Type:            nonrobust                                         \n",
      "======================================================================================\n",
      "                         coef    std err          t      P>|t|      [0.025      0.975]\n",
      "--------------------------------------------------------------------------------------\n",
      "const                 56.6185      4.585     12.349      0.000      47.472      65.765\n",
      "Adult_Mortality       -0.0225      0.005     -4.493      0.000      -0.033      -0.013\n",
      "Infant_Deaths          0.0087      0.130      0.066      0.947      -0.251       0.269\n",
      "Hepatitis              0.0459      0.038      1.223      0.225      -0.029       0.121\n",
      "Measles            -6.641e-05   7.69e-05     -0.864      0.391      -0.000     8.7e-05\n",
      " BMI                  -0.0217      0.026     -0.849      0.399      -0.073       0.029\n",
      "Underfive_Deaths       0.0007      0.105      0.006      0.995      -0.209       0.211\n",
      "Polio                  0.0446      0.039      1.143      0.257      -0.033       0.122\n",
      "Diphtheria            -0.0377      0.048     -0.783      0.437      -0.134       0.058\n",
      " HIV                  -1.2016      0.338     -3.552      0.001      -1.876      -0.527\n",
      "GDP                 5.287e-05   4.08e-05      1.294      0.200   -2.86e-05       0.000\n",
      "Population         -2.917e-08    1.1e-08     -2.661      0.010    -5.1e-08    -7.3e-09\n",
      "Malnourished10_19     -0.4769      0.349     -1.366      0.176      -1.173       0.220\n",
      "Malnourished5_9        0.2279      0.329      0.692      0.491      -0.429       0.885\n",
      "Income_Index          15.0701      7.256      2.077      0.042       0.594      29.546\n",
      "Schooling              0.4724      0.413      1.144      0.257      -0.352       1.296\n",
      "Status_Binary          2.0050      1.496      1.340      0.184      -0.979       4.989\n",
      "==============================================================================\n",
      "Omnibus:                        5.417   Durbin-Watson:                   1.829\n",
      "Prob(Omnibus):                  0.067   Jarque-Bera (JB):                7.412\n",
      "Skew:                          -0.154   Prob(JB):                       0.0246\n",
      "Kurtosis:                       4.405   Cond. No.                     8.50e+08\n",
      "==============================================================================\n",
      "\n",
      "Notes:\n",
      "[1] Standard Errors assume that the covariance matrix of the errors is correctly specified.\n",
      "[2] The condition number is large, 8.5e+08. This might indicate that there are\n",
      "strong multicollinearity or other numerical problems.\n"
     ]
    }
   ],
   "source": [
    "SLR = sm.OLS(y_train, X_train).fit()\n",
    "print(SLR.summary())"
   ]
  },
  {
   "cell_type": "code",
   "execution_count": 492,
   "metadata": {},
   "outputs": [
    {
     "data": {
      "text/plain": [
       "82.39509027071504"
      ]
     },
     "execution_count": 492,
     "metadata": {},
     "output_type": "execute_result"
    }
   ],
   "source": [
    "100*SLR.rsquared_adj"
   ]
  },
  {
   "cell_type": "markdown",
   "metadata": {},
   "source": [
    "#### Good Accuracy !! "
   ]
  },
  {
   "cell_type": "code",
   "execution_count": 493,
   "metadata": {},
   "outputs": [
    {
     "data": {
      "text/plain": [
       "const                 3.839678e-19\n",
       "Adult_Mortality       2.751463e-05\n",
       "Infant_Deaths         9.472853e-01\n",
       "Hepatitis             2.253481e-01\n",
       "Measles               3.907996e-01\n",
       " BMI                  3.988230e-01\n",
       "Underfive_Deaths      9.949172e-01\n",
       "Polio                 2.568739e-01\n",
       "Diphtheria            4.365604e-01\n",
       " HIV                  6.940152e-04\n",
       "GDP                   1.998142e-01\n",
       "Population            9.685854e-03\n",
       "Malnourished10_19     1.764131e-01\n",
       "Malnourished5_9       4.914769e-01\n",
       "Income_Index          4.153984e-02\n",
       "Schooling             2.566680e-01\n",
       "Status_Binary         1.844904e-01\n",
       "dtype: float64"
      ]
     },
     "execution_count": 493,
     "metadata": {},
     "output_type": "execute_result"
    }
   ],
   "source": [
    "SLR.pvalues"
   ]
  },
  {
   "cell_type": "code",
   "execution_count": 494,
   "metadata": {},
   "outputs": [
    {
     "name": "stdout",
     "output_type": "stream",
     "text": [
      "const                  -----> Significant\n",
      "Adult_Mortality                  -----> Significant\n",
      "Infant_Deaths                  -----> Insignificant\n",
      "Hepatitis                   -----> Insignificant\n",
      "Measles                   -----> Insignificant\n",
      " BMI                   -----> Insignificant\n",
      "Underfive_Deaths                   -----> Insignificant\n",
      "Polio                  -----> Insignificant\n",
      "Diphtheria                   -----> Insignificant\n",
      " HIV                  -----> Significant\n",
      "GDP                  -----> Insignificant\n",
      "Population                  -----> Significant\n",
      "Malnourished10_19                   -----> Insignificant\n",
      "Malnourished5_9                  -----> Insignificant\n",
      "Income_Index                  -----> Significant\n",
      "Schooling                  -----> Insignificant\n",
      "Status_Binary                  -----> Insignificant\n"
     ]
    }
   ],
   "source": [
    "for i,j in SLR.pvalues.to_dict().items():\n",
    "    if j > 0.05:\n",
    "        print(f\"{i}                  -----> Insignificant\")\n",
    "    else:\n",
    "        print(f\"{i}                  -----> Significant\")"
   ]
  },
  {
   "cell_type": "code",
   "execution_count": 495,
   "metadata": {},
   "outputs": [
    {
     "name": "stdout",
     "output_type": "stream",
     "text": [
      "Significant features are ['const', 'Adult_Mortality', ' HIV', 'Population', 'Income_Index']\n"
     ]
    }
   ],
   "source": [
    "print('Significant features are',list(SLR.pvalues[SLR.pvalues < 0.05].index))"
   ]
  },
  {
   "cell_type": "markdown",
   "metadata": {
    "collapsed": true,
    "id": "newURYBsO5MJ"
   },
   "source": [
    "<table align=\"left\">\n",
    "    <tr>\n",
    "        <td width=\"6%\">\n",
    "            <img src=\"question_icon.png\">\n",
    "        </td>\n",
    "        <td>\n",
    "            <div align=\"left\", style=\"font-size:120%\">\n",
    "                <font color=\"#21618C\">\n",
    "                    <b>6. If economic indices are used to predict the life expectancy, calculate the total variation for the observed values of life expectancy.</b>\n",
    "                </font>\n",
    "            </div>\n",
    "        </td>\n",
    "    </tr>\n",
    "</table>"
   ]
  },
  {
   "cell_type": "markdown",
   "metadata": {},
   "source": [
    "#### SST = SSR + SSE"
   ]
  },
  {
   "cell_type": "code",
   "execution_count": 496,
   "metadata": {},
   "outputs": [],
   "source": [
    "X = sm.add_constant(df[['Status_Binary','Income_Index']])\n",
    "y = df[['Expected']]"
   ]
  },
  {
   "cell_type": "code",
   "execution_count": 497,
   "metadata": {},
   "outputs": [
    {
     "name": "stdout",
     "output_type": "stream",
     "text": [
      "                            OLS Regression Results                            \n",
      "==============================================================================\n",
      "Dep. Variable:               Expected   R-squared:                       0.719\n",
      "Model:                            OLS   Adj. R-squared:                  0.715\n",
      "Method:                 Least Squares   F-statistic:                     155.1\n",
      "Date:                Tue, 09 Jan 2024   Prob (F-statistic):           4.13e-34\n",
      "Time:                        12:37:43   Log-Likelihood:                -361.57\n",
      "No. Observations:                 124   AIC:                             729.1\n",
      "Df Residuals:                     121   BIC:                             737.6\n",
      "Df Model:                           2                                         \n",
      "Covariance Type:            nonrobust                                         \n",
      "=================================================================================\n",
      "                    coef    std err          t      P>|t|      [0.025      0.975]\n",
      "---------------------------------------------------------------------------------\n",
      "const            43.3786      1.885     23.009      0.000      39.646      47.111\n",
      "Status_Binary     2.4785      1.302      1.904      0.059      -0.099       5.056\n",
      "Income_Index     39.7614      2.798     14.210      0.000      34.222      45.301\n",
      "==============================================================================\n",
      "Omnibus:                       12.928   Durbin-Watson:                   1.445\n",
      "Prob(Omnibus):                  0.002   Jarque-Bera (JB):               27.856\n",
      "Skew:                           0.352   Prob(JB):                     8.94e-07\n",
      "Kurtosis:                       5.212   Cond. No.                         10.4\n",
      "==============================================================================\n",
      "\n",
      "Notes:\n",
      "[1] Standard Errors assume that the covariance matrix of the errors is correctly specified.\n"
     ]
    }
   ],
   "source": [
    "SLR = sm.OLS(y, X).fit()\n",
    "print(SLR.summary())"
   ]
  },
  {
   "cell_type": "code",
   "execution_count": 498,
   "metadata": {},
   "outputs": [],
   "source": [
    "y_pred = SLR.predict()"
   ]
  },
  {
   "cell_type": "code",
   "execution_count": 499,
   "metadata": {},
   "outputs": [
    {
     "data": {
      "text/plain": [
       "6344.3484947268835"
      ]
     },
     "execution_count": 499,
     "metadata": {},
     "output_type": "execute_result"
    }
   ],
   "source": [
    "np.sum(np.square(y_pred - y.mean()[0]))"
   ]
  },
  {
   "cell_type": "code",
   "execution_count": 500,
   "metadata": {},
   "outputs": [
    {
     "data": {
      "text/plain": [
       "2475.456989144078"
      ]
     },
     "execution_count": 500,
     "metadata": {},
     "output_type": "execute_result"
    }
   ],
   "source": [
    "np.sum(np.square(SLR.resid))"
   ]
  },
  {
   "cell_type": "code",
   "execution_count": 501,
   "metadata": {},
   "outputs": [
    {
     "name": "stdout",
     "output_type": "stream",
     "text": [
      "SSR = 6344.3484947268835\n",
      "SSE = 2475.456989144078\n",
      "SST = SSR + SSE = 8819.805483870961\n"
     ]
    }
   ],
   "source": [
    "print('SSR =',np.sum(np.square(y_pred - y.mean()[0])))\n",
    "print('SSE =',np.sum(np.square(SLR.resid)))\n",
    "print('SST = SSR + SSE =',np.sum(np.square(y_pred - y.mean()[0])) + np.sum(np.square(SLR.resid)))"
   ]
  },
  {
   "cell_type": "code",
   "execution_count": 502,
   "metadata": {},
   "outputs": [
    {
     "name": "stdout",
     "output_type": "stream",
     "text": [
      "RMSE = 11.807953106820488\n"
     ]
    }
   ],
   "source": [
    "print('RMSE =',rmse(np.array(y_test.values), y_pred)[0])"
   ]
  },
  {
   "cell_type": "markdown",
   "metadata": {},
   "source": [
    "#### Very low RMSE. Which is good."
   ]
  },
  {
   "cell_type": "markdown",
   "metadata": {
    "collapsed": true,
    "id": "wjkhqR4AO5MK"
   },
   "source": [
    "<table align=\"left\">\n",
    "    <tr>\n",
    "        <td width=\"6%\">\n",
    "            <img src=\"question_icon.png\">\n",
    "        </td>\n",
    "        <td>\n",
    "            <div align=\"left\", style=\"font-size:120%\">\n",
    "                <font color=\"#21618C\">\n",
    "                    <b>7. Determine the lower bound and upper bound for estimated value of life expectancy per unit change in HDI (for income)</b>\n",
    "                </font>\n",
    "            </div>\n",
    "        </td>\n",
    "    </tr>\n",
    "</table>"
   ]
  },
  {
   "cell_type": "code",
   "execution_count": 503,
   "metadata": {
    "id": "v0alPvAgO5MK"
   },
   "outputs": [
    {
     "data": {
      "text/html": [
       "<div>\n",
       "<style scoped>\n",
       "    .dataframe tbody tr th:only-of-type {\n",
       "        vertical-align: middle;\n",
       "    }\n",
       "\n",
       "    .dataframe tbody tr th {\n",
       "        vertical-align: top;\n",
       "    }\n",
       "\n",
       "    .dataframe thead th {\n",
       "        text-align: right;\n",
       "    }\n",
       "</style>\n",
       "<table border=\"1\" class=\"dataframe\">\n",
       "  <thead>\n",
       "    <tr style=\"text-align: right;\">\n",
       "      <th></th>\n",
       "      <th>0</th>\n",
       "      <th>1</th>\n",
       "    </tr>\n",
       "  </thead>\n",
       "  <tbody>\n",
       "    <tr>\n",
       "      <th>const</th>\n",
       "      <td>39.646180</td>\n",
       "      <td>47.110951</td>\n",
       "    </tr>\n",
       "    <tr>\n",
       "      <th>Status_Binary</th>\n",
       "      <td>-0.099284</td>\n",
       "      <td>5.056249</td>\n",
       "    </tr>\n",
       "    <tr>\n",
       "      <th>Income_Index</th>\n",
       "      <td>34.221832</td>\n",
       "      <td>45.301005</td>\n",
       "    </tr>\n",
       "  </tbody>\n",
       "</table>\n",
       "</div>"
      ],
      "text/plain": [
       "                       0          1\n",
       "const          39.646180  47.110951\n",
       "Status_Binary  -0.099284   5.056249\n",
       "Income_Index   34.221832  45.301005"
      ]
     },
     "execution_count": 503,
     "metadata": {},
     "output_type": "execute_result"
    }
   ],
   "source": [
    "SLR.conf_int()"
   ]
  },
  {
   "cell_type": "code",
   "execution_count": 504,
   "metadata": {},
   "outputs": [
    {
     "name": "stdout",
     "output_type": "stream",
     "text": [
      "Lower Bound = 34.22183189643261\n",
      "Upper Bound = 45.301004875212705\n"
     ]
    }
   ],
   "source": [
    "print('Lower Bound =',SLR.conf_int().iloc[2,0])\n",
    "print('Upper Bound =',SLR.conf_int().iloc[2,1])"
   ]
  },
  {
   "cell_type": "markdown",
   "metadata": {
    "id": "lMLLc8-WO5ML"
   },
   "source": [
    "<a id=\"ML_eval\"> </a>\n",
    "## 4. Model Evaluation"
   ]
  },
  {
   "cell_type": "markdown",
   "metadata": {
    "collapsed": true,
    "id": "_8iBrQLFO5ML"
   },
   "source": [
    "<table align=\"left\">\n",
    "    <tr>\n",
    "        <td width=\"6%\">\n",
    "            <img src=\"question_icon.png\">\n",
    "        </td>\n",
    "        <td>\n",
    "            <div align=\"left\", style=\"font-size:120%\">\n",
    "                <font color=\"#21618C\">\n",
    "                    <b>8. A model is built to analyze the impact of mortality on Life expectancy. Would the addition of information about population of the country lead to a better prediction?</b>\n",
    "                </font>\n",
    "            </div>\n",
    "        </td>\n",
    "    </tr>\n",
    "</table>"
   ]
  },
  {
   "cell_type": "markdown",
   "metadata": {},
   "source": [
    "#### Case 1: Adult_Mortality, Infant_Deaths, Underfive_Deaths"
   ]
  },
  {
   "cell_type": "code",
   "execution_count": 505,
   "metadata": {
    "id": "RqansM6DO5ML"
   },
   "outputs": [],
   "source": [
    "X = sm.add_constant(df[['Adult_Mortality', 'Infant_Deaths', 'Underfive_Deaths ']])\n",
    "y = df[['Expected']]"
   ]
  },
  {
   "cell_type": "code",
   "execution_count": 506,
   "metadata": {},
   "outputs": [],
   "source": [
    "X_train, X_test, y_train, y_test = train_test_split(X, y, test_size=0.3, random_state=42)"
   ]
  },
  {
   "cell_type": "code",
   "execution_count": 507,
   "metadata": {},
   "outputs": [
    {
     "name": "stdout",
     "output_type": "stream",
     "text": [
      "                            OLS Regression Results                            \n",
      "==============================================================================\n",
      "Dep. Variable:               Expected   R-squared:                       0.598\n",
      "Model:                            OLS   Adj. R-squared:                  0.584\n",
      "Method:                 Least Squares   F-statistic:                     40.71\n",
      "Date:                Tue, 09 Jan 2024   Prob (F-statistic):           3.26e-16\n",
      "Time:                        12:37:43   Log-Likelihood:                -265.35\n",
      "No. Observations:                  86   AIC:                             538.7\n",
      "Df Residuals:                      82   BIC:                             548.5\n",
      "Df Model:                           3                                         \n",
      "Covariance Type:            nonrobust                                         \n",
      "=====================================================================================\n",
      "                        coef    std err          t      P>|t|      [0.025      0.975]\n",
      "-------------------------------------------------------------------------------------\n",
      "const                80.2253      1.089     73.658      0.000      78.059      82.392\n",
      "Adult_Mortality      -0.0490      0.006     -7.671      0.000      -0.062      -0.036\n",
      "Infant_Deaths         0.4557      0.128      3.570      0.001       0.202       0.710\n",
      "Underfive_Deaths     -0.3808      0.105     -3.623      0.001      -0.590      -0.172\n",
      "==============================================================================\n",
      "Omnibus:                       29.017   Durbin-Watson:                   2.346\n",
      "Prob(Omnibus):                  0.000   Jarque-Bera (JB):               51.940\n",
      "Skew:                          -1.324   Prob(JB):                     5.26e-12\n",
      "Kurtosis:                       5.736   Cond. No.                         372.\n",
      "==============================================================================\n",
      "\n",
      "Notes:\n",
      "[1] Standard Errors assume that the covariance matrix of the errors is correctly specified.\n"
     ]
    }
   ],
   "source": [
    "SLR = sm.OLS(y_train, X_train).fit()\n",
    "print(SLR.summary())"
   ]
  },
  {
   "cell_type": "code",
   "execution_count": 508,
   "metadata": {},
   "outputs": [],
   "source": [
    "y_pred = SLR.predict(X_test)"
   ]
  },
  {
   "cell_type": "code",
   "execution_count": 509,
   "metadata": {},
   "outputs": [
    {
     "name": "stdout",
     "output_type": "stream",
     "text": [
      "Total Variation for observed values is 11.000482919208661\n"
     ]
    }
   ],
   "source": [
    "print('Total Variation for observed values is',rmse(y_test, y_pred.to_frame())[0])"
   ]
  },
  {
   "cell_type": "code",
   "execution_count": 510,
   "metadata": {},
   "outputs": [
    {
     "name": "stdout",
     "output_type": "stream",
     "text": [
      "R2 Adjusted = 58.36273864232198 %\n"
     ]
    }
   ],
   "source": [
    "print('R2 Adjusted =',100*SLR.rsquared_adj,'%')"
   ]
  },
  {
   "cell_type": "markdown",
   "metadata": {},
   "source": [
    "#### Case 2: Population and Mortality."
   ]
  },
  {
   "cell_type": "code",
   "execution_count": 511,
   "metadata": {},
   "outputs": [],
   "source": [
    "X = sm.add_constant(df[['Adult_Mortality', 'Infant_Deaths', 'Underfive_Deaths ','Population']])\n",
    "y = df[['Expected']]"
   ]
  },
  {
   "cell_type": "code",
   "execution_count": 512,
   "metadata": {},
   "outputs": [],
   "source": [
    "X_train, X_test, y_train, y_test = train_test_split(X, y, test_size=0.3, random_state=42)"
   ]
  },
  {
   "cell_type": "code",
   "execution_count": 513,
   "metadata": {},
   "outputs": [
    {
     "name": "stdout",
     "output_type": "stream",
     "text": [
      "                            OLS Regression Results                            \n",
      "==============================================================================\n",
      "Dep. Variable:               Expected   R-squared:                       0.601\n",
      "Model:                            OLS   Adj. R-squared:                  0.582\n",
      "Method:                 Least Squares   F-statistic:                     30.54\n",
      "Date:                Tue, 09 Jan 2024   Prob (F-statistic):           1.70e-15\n",
      "Time:                        12:37:44   Log-Likelihood:                -265.03\n",
      "No. Observations:                  86   AIC:                             540.1\n",
      "Df Residuals:                      81   BIC:                             552.3\n",
      "Df Model:                           4                                         \n",
      "Covariance Type:            nonrobust                                         \n",
      "=====================================================================================\n",
      "                        coef    std err          t      P>|t|      [0.025      0.975]\n",
      "-------------------------------------------------------------------------------------\n",
      "const                80.2991      1.096     73.276      0.000      78.119      82.479\n",
      "Adult_Mortality      -0.0476      0.007     -7.162      0.000      -0.061      -0.034\n",
      "Infant_Deaths         0.4820      0.132      3.643      0.000       0.219       0.745\n",
      "Underfive_Deaths     -0.4027      0.109     -3.693      0.000      -0.620      -0.186\n",
      "Population        -1.225e-08   1.57e-08     -0.780      0.437   -4.35e-08     1.9e-08\n",
      "==============================================================================\n",
      "Omnibus:                       27.139   Durbin-Watson:                   2.355\n",
      "Prob(Omnibus):                  0.000   Jarque-Bera (JB):               46.668\n",
      "Skew:                          -1.257   Prob(JB):                     7.35e-11\n",
      "Kurtosis:                       5.590   Cond. No.                     8.18e+07\n",
      "==============================================================================\n",
      "\n",
      "Notes:\n",
      "[1] Standard Errors assume that the covariance matrix of the errors is correctly specified.\n",
      "[2] The condition number is large, 8.18e+07. This might indicate that there are\n",
      "strong multicollinearity or other numerical problems.\n"
     ]
    }
   ],
   "source": [
    "SLR = sm.OLS(y_train, X_train).fit()\n",
    "print(SLR.summary())"
   ]
  },
  {
   "cell_type": "code",
   "execution_count": 514,
   "metadata": {},
   "outputs": [],
   "source": [
    "y_pred = SLR.predict(X_test)"
   ]
  },
  {
   "cell_type": "code",
   "execution_count": 515,
   "metadata": {},
   "outputs": [
    {
     "name": "stdout",
     "output_type": "stream",
     "text": [
      "Total Variation for observed values is 11.50961829342646\n"
     ]
    }
   ],
   "source": [
    "print('Total Variation for observed values is',rmse(y_test, y_pred.to_frame())[0])"
   ]
  },
  {
   "cell_type": "code",
   "execution_count": 516,
   "metadata": {},
   "outputs": [
    {
     "name": "stdout",
     "output_type": "stream",
     "text": [
      "R2 Adjusted = 58.16324875757879 %\n"
     ]
    }
   ],
   "source": [
    "print('R2 Adjusted =',100*SLR.rsquared_adj,'%')"
   ]
  },
  {
   "cell_type": "markdown",
   "metadata": {},
   "source": [
    "#### The information of population didn't made much difference to the model. In fact Adjusted $R^2$ has very slightly come down."
   ]
  },
  {
   "cell_type": "markdown",
   "metadata": {
    "collapsed": true,
    "id": "hXAGbS1BO5ML"
   },
   "source": [
    "<table align=\"left\">\n",
    "    <tr>\n",
    "        <td width=\"6%\">\n",
    "            <img src=\"question_icon.png\">\n",
    "        </td>\n",
    "        <td>\n",
    "            <div align=\"left\", style=\"font-size:120%\">\n",
    "                <font color=\"#21618C\">\n",
    "                    <b>9. Fit a full model and test the significance of the overall model. <br></b>\n",
    "                </font>\n",
    "            </div>\n",
    "        </td>\n",
    "    </tr>\n",
    "</table>"
   ]
  },
  {
   "cell_type": "markdown",
   "metadata": {},
   "source": [
    "> #### $H_0$ : The regression model is not significant\n",
    "\n",
    "> #### $H_a$ : The regression model is significant"
   ]
  },
  {
   "cell_type": "code",
   "execution_count": 517,
   "metadata": {
    "id": "r8uzfprtO5MM",
    "scrolled": true
   },
   "outputs": [],
   "source": [
    "X = sm.add_constant(df.drop(columns=['Status','Expected']))\n",
    "y = df[['Expected']]"
   ]
  },
  {
   "cell_type": "code",
   "execution_count": 518,
   "metadata": {},
   "outputs": [
    {
     "name": "stdout",
     "output_type": "stream",
     "text": [
      "                            OLS Regression Results                            \n",
      "==============================================================================\n",
      "Dep. Variable:               Expected   R-squared:                       0.848\n",
      "Model:                            OLS   Adj. R-squared:                  0.826\n",
      "Method:                 Least Squares   F-statistic:                     37.43\n",
      "Date:                Tue, 09 Jan 2024   Prob (F-statistic):           1.94e-36\n",
      "Time:                        12:37:44   Log-Likelihood:                -323.38\n",
      "No. Observations:                 124   AIC:                             680.8\n",
      "Df Residuals:                     107   BIC:                             728.7\n",
      "Df Model:                          16                                         \n",
      "Covariance Type:            nonrobust                                         \n",
      "======================================================================================\n",
      "                         coef    std err          t      P>|t|      [0.025      0.975]\n",
      "--------------------------------------------------------------------------------------\n",
      "const                 58.0318      3.284     17.673      0.000      51.522      64.541\n",
      "Adult_Mortality       -0.0231      0.004     -5.685      0.000      -0.031      -0.015\n",
      "Infant_Deaths          0.0556      0.037      1.507      0.135      -0.018       0.129\n",
      "Hepatitis              0.0656      0.032      2.056      0.042       0.002       0.129\n",
      "Measles             -5.93e-05   6.09e-05     -0.974      0.332      -0.000    6.14e-05\n",
      " BMI                  -0.0266      0.023     -1.179      0.241      -0.071       0.018\n",
      "Underfive_Deaths      -0.0389      0.027     -1.439      0.153      -0.093       0.015\n",
      "Polio                 -0.0091      0.022     -0.417      0.677      -0.053       0.034\n",
      "Diphtheria            -0.0345      0.040     -0.868      0.387      -0.113       0.044\n",
      " HIV                  -1.0385      0.268     -3.881      0.000      -1.569      -0.508\n",
      "GDP                 5.021e-05   3.48e-05      1.445      0.151   -1.87e-05       0.000\n",
      "Population         -1.845e-08    8.6e-09     -2.146      0.034   -3.55e-08   -1.41e-09\n",
      "Malnourished10_19     -0.4850      0.300     -1.616      0.109      -1.080       0.110\n",
      "Malnourished5_9        0.2983      0.283      1.053      0.294      -0.263       0.860\n",
      "Income_Index          18.6518      6.313      2.955      0.004       6.138      31.166\n",
      "Schooling              0.3599      0.346      1.040      0.301      -0.326       1.046\n",
      "Status_Binary          2.0360      1.168      1.743      0.084      -0.280       4.352\n",
      "==============================================================================\n",
      "Omnibus:                        6.529   Durbin-Watson:                   1.754\n",
      "Prob(Omnibus):                  0.038   Jarque-Bera (JB):               10.518\n",
      "Skew:                           0.122   Prob(JB):                      0.00520\n",
      "Kurtosis:                       4.406   Cond. No.                     9.14e+08\n",
      "==============================================================================\n",
      "\n",
      "Notes:\n",
      "[1] Standard Errors assume that the covariance matrix of the errors is correctly specified.\n",
      "[2] The condition number is large, 9.14e+08. This might indicate that there are\n",
      "strong multicollinearity or other numerical problems.\n"
     ]
    }
   ],
   "source": [
    "SLR = sm.OLS(y, X).fit()\n",
    "print(SLR.summary())"
   ]
  },
  {
   "cell_type": "code",
   "execution_count": 519,
   "metadata": {},
   "outputs": [
    {
     "data": {
      "text/plain": [
       "1.9430668554848386e-36"
      ]
     },
     "execution_count": 519,
     "metadata": {},
     "output_type": "execute_result"
    }
   ],
   "source": [
    "SLR.f_pvalue"
   ]
  },
  {
   "cell_type": "markdown",
   "metadata": {},
   "source": [
    "#### Since the p-value  for F-statistic is less than the significance level 0.05, hence we can reject $H_0$ and conclude that the regression model is  significant."
   ]
  },
  {
   "cell_type": "code",
   "execution_count": 520,
   "metadata": {},
   "outputs": [
    {
     "data": {
      "text/plain": [
       "84.84171838775856"
      ]
     },
     "execution_count": 520,
     "metadata": {},
     "output_type": "execute_result"
    }
   ],
   "source": [
    "100*SLR.rsquared"
   ]
  },
  {
   "cell_type": "code",
   "execution_count": 521,
   "metadata": {},
   "outputs": [
    {
     "data": {
      "text/plain": [
       "82.57505945508694"
      ]
     },
     "execution_count": 521,
     "metadata": {},
     "output_type": "execute_result"
    }
   ],
   "source": [
    "100*SLR.rsquared_adj"
   ]
  },
  {
   "cell_type": "markdown",
   "metadata": {
    "id": "_uR09uDXO5MM"
   },
   "source": [
    "<a id=\"assum\"> </a>\n",
    "## 4. Assumptions of Linear Regression"
   ]
  },
  {
   "cell_type": "markdown",
   "metadata": {
    "collapsed": true,
    "id": "ywO29nb5O5MM"
   },
   "source": [
    "<table align=\"left\">\n",
    "    <tr>\n",
    "        <td width=\"6%\">\n",
    "            <img src=\"question_icon.png\">\n",
    "        </td>\n",
    "        <td>\n",
    "            <div align=\"left\", style=\"font-size:120%\">\n",
    "                <font color=\"#21618C\">\n",
    "                    <b>10. A model is built using all the features (full model) to predict the life expectancy. Check whether the residuals obtained form the model follow a normal distribution.</b>\n",
    "                </font>\n",
    "            </div>\n",
    "        </td>\n",
    "    </tr>\n",
    "</table>"
   ]
  },
  {
   "cell_type": "code",
   "execution_count": 522,
   "metadata": {},
   "outputs": [
    {
     "data": {
      "image/png": "[encoded data removed]",
      "text/plain": [
       "<Figure size 640x480 with 1 Axes>"
      ]
     },
     "metadata": {},
     "output_type": "display_data"
    }
   ],
   "source": [
    "sns.kdeplot(SLR.resid.values, fill=True)\n",
    "plt.title('Distribution of Residuals')\n",
    "plt.show()"
   ]
  },
  {
   "cell_type": "code",
   "execution_count": 523,
   "metadata": {},
   "outputs": [
    {
     "name": "stdout",
     "output_type": "stream",
     "text": [
      "Wilk Shapiro P-value = 0.03209252282977104\n"
     ]
    }
   ],
   "source": [
    "from scipy.stats import shapiro\n",
    "test_stat, p_value = shapiro(SLR.resid.values)\n",
    "print('Wilk Shapiro P-value =',p_value)"
   ]
  },
  {
   "cell_type": "markdown",
   "metadata": {},
   "source": [
    "#### With Significance level of 95%, the resuiduals are not normal as p-value is less than 0.05."
   ]
  },
  {
   "cell_type": "markdown",
   "metadata": {
    "collapsed": true,
    "id": "7V3GmHr-O5MN"
   },
   "source": [
    "<table align=\"left\">\n",
    "    <tr>\n",
    "        <td width=\"6%\">\n",
    "            <img src=\"question_icon.png\">\n",
    "        </td>\n",
    "        <td>\n",
    "            <div align=\"left\", style=\"font-size:120%\">\n",
    "                <font color=\"#21618C\">\n",
    "                        <b>11. Does the interaction of status of the country and its GDP have significant effect on life expectancy? (consider the full model)</b>\n",
    "                </font>\n",
    "            </div>\n",
    "        </td>\n",
    "    </tr>\n",
    "</table>"
   ]
  },
  {
   "cell_type": "code",
   "execution_count": 524,
   "metadata": {
    "id": "LryhYdF4O5MN"
   },
   "outputs": [],
   "source": [
    "X = sm.add_constant(df.drop(columns=['Status','Expected']))\n",
    "X['Interaction'] = X['Status_Binary']*X['GDP']\n",
    "y = df[['Expected']]"
   ]
  },
  {
   "cell_type": "code",
   "execution_count": 525,
   "metadata": {},
   "outputs": [
    {
     "name": "stdout",
     "output_type": "stream",
     "text": [
      "                            OLS Regression Results                            \n",
      "==============================================================================\n",
      "Dep. Variable:               Expected   R-squared:                       0.853\n",
      "Model:                            OLS   Adj. R-squared:                  0.830\n",
      "Method:                 Least Squares   F-statistic:                     36.30\n",
      "Date:                Tue, 09 Jan 2024   Prob (F-statistic):           2.14e-36\n",
      "Time:                        12:37:44   Log-Likelihood:                -321.30\n",
      "No. Observations:                 124   AIC:                             678.6\n",
      "Df Residuals:                     106   BIC:                             729.4\n",
      "Df Model:                          17                                         \n",
      "Covariance Type:            nonrobust                                         \n",
      "======================================================================================\n",
      "                         coef    std err          t      P>|t|      [0.025      0.975]\n",
      "--------------------------------------------------------------------------------------\n",
      "const                 58.7216      3.265     17.988      0.000      52.249      65.194\n",
      "Adult_Mortality       -0.0228      0.004     -5.680      0.000      -0.031      -0.015\n",
      "Infant_Deaths          0.0564      0.036      1.547      0.125      -0.016       0.129\n",
      "Hepatitis              0.0715      0.032      2.259      0.026       0.009       0.134\n",
      "Measles            -5.287e-05   6.03e-05     -0.877      0.382      -0.000    6.66e-05\n",
      " BMI                  -0.0291      0.022     -1.306      0.194      -0.073       0.015\n",
      "Underfive_Deaths      -0.0401      0.027     -1.497      0.137      -0.093       0.013\n",
      "Polio                 -0.0056      0.022     -0.258      0.797      -0.049       0.037\n",
      "Diphtheria            -0.0446      0.040     -1.124      0.264      -0.123       0.034\n",
      " HIV                  -1.0748      0.265     -4.054      0.000      -1.600      -0.549\n",
      "GDP                    0.0001   5.08e-05      2.390      0.019    2.07e-05       0.000\n",
      "Population         -1.612e-08   8.58e-09     -1.878      0.063   -3.31e-08    8.96e-10\n",
      "Malnourished10_19     -0.4757      0.297     -1.604      0.112      -1.064       0.112\n",
      "Malnourished5_9        0.2995      0.280      1.071      0.287      -0.255       0.854\n",
      "Income_Index          15.9884      6.392      2.501      0.014       3.315      28.662\n",
      "Schooling              0.4188      0.343      1.220      0.225      -0.262       1.099\n",
      "Status_Binary          3.8250      1.489      2.569      0.012       0.873       6.777\n",
      "Interaction           -0.0001    6.8e-05     -1.902      0.060      -0.000     5.5e-06\n",
      "==============================================================================\n",
      "Omnibus:                        4.411   Durbin-Watson:                   1.813\n",
      "Prob(Omnibus):                  0.110   Jarque-Bera (JB):                5.490\n",
      "Skew:                           0.109   Prob(JB):                       0.0642\n",
      "Kurtosis:                       4.008   Cond. No.                     9.38e+08\n",
      "==============================================================================\n",
      "\n",
      "Notes:\n",
      "[1] Standard Errors assume that the covariance matrix of the errors is correctly specified.\n",
      "[2] The condition number is large, 9.38e+08. This might indicate that there are\n",
      "strong multicollinearity or other numerical problems.\n"
     ]
    }
   ],
   "source": [
    "SLR = sm.OLS(y, X).fit()\n",
    "print(SLR.summary())"
   ]
  },
  {
   "cell_type": "code",
   "execution_count": 526,
   "metadata": {},
   "outputs": [
    {
     "data": {
      "text/plain": [
       "85.34177170311085"
      ]
     },
     "execution_count": 526,
     "metadata": {},
     "output_type": "execute_result"
    }
   ],
   "source": [
    "100*SLR.rsquared"
   ]
  },
  {
   "cell_type": "code",
   "execution_count": 527,
   "metadata": {},
   "outputs": [
    {
     "data": {
      "text/plain": [
       "82.9909237687041"
      ]
     },
     "execution_count": 527,
     "metadata": {},
     "output_type": "execute_result"
    }
   ],
   "source": [
    "100*SLR.rsquared_adj"
   ]
  },
  {
   "cell_type": "markdown",
   "metadata": {},
   "source": [
    "#### There isn't much change in $R^2$ and Adjusted $R^2$ with adding Interaction feature."
   ]
  },
  {
   "cell_type": "markdown",
   "metadata": {
    "collapsed": true,
    "id": "YZZJu6XwO5MO"
   },
   "source": [
    "<table align=\"left\">\n",
    "    <tr>\n",
    "        <td width=\"6%\">\n",
    "            <img src=\"question_icon.png\">\n",
    "        </td>\n",
    "        <td>\n",
    "            <div align=\"left\", style=\"font-size:120%\">\n",
    "                <font color=\"#21618C\">\n",
    "                    <b>12. Construct a full no-intecept model. What would you conclude when all the variables take value 0? </b>\n",
    "                </font>\n",
    "            </div>\n",
    "        </td>\n",
    "    </tr>\n",
    "</table>"
   ]
  },
  {
   "cell_type": "code",
   "execution_count": 528,
   "metadata": {
    "id": "7MBBGcpBO5MO"
   },
   "outputs": [],
   "source": [
    "X = df.drop(columns=['Status','Expected'])\n",
    "y = df[['Expected']]"
   ]
  },
  {
   "cell_type": "code",
   "execution_count": 529,
   "metadata": {},
   "outputs": [
    {
     "name": "stdout",
     "output_type": "stream",
     "text": [
      "                                 OLS Regression Results                                \n",
      "=======================================================================================\n",
      "Dep. Variable:               Expected   R-squared (uncentered):                   0.992\n",
      "Model:                            OLS   Adj. R-squared (uncentered):              0.991\n",
      "Method:                 Least Squares   F-statistic:                              815.0\n",
      "Date:                Tue, 09 Jan 2024   Prob (F-statistic):                   1.01e-104\n",
      "Time:                        12:37:44   Log-Likelihood:                         -408.05\n",
      "No. Observations:                 124   AIC:                                      848.1\n",
      "Df Residuals:                     108   BIC:                                      893.2\n",
      "Df Model:                          16                                                  \n",
      "Covariance Type:            nonrobust                                                  \n",
      "======================================================================================\n",
      "                         coef    std err          t      P>|t|      [0.025      0.975]\n",
      "--------------------------------------------------------------------------------------\n",
      "Adult_Mortality        0.0004      0.008      0.048      0.962      -0.015       0.015\n",
      "Infant_Deaths         -0.1158      0.070     -1.651      0.102      -0.255       0.023\n",
      "Hepatitis              0.0606      0.063      0.964      0.337      -0.064       0.185\n",
      "Measles               -0.0002      0.000     -1.298      0.197      -0.000    8.18e-05\n",
      " BMI                  -0.0599      0.044     -1.353      0.179      -0.148       0.028\n",
      "Underfive_Deaths       0.0957      0.051      1.871      0.064      -0.006       0.197\n",
      "Polio                  0.0382      0.043      0.891      0.375      -0.047       0.123\n",
      "Diphtheria             0.0198      0.078      0.254      0.800      -0.135       0.175\n",
      " HIV                   0.6215      0.494      1.259      0.211      -0.357       1.600\n",
      "GDP                -7.256e-05   6.71e-05     -1.081      0.282      -0.000    6.05e-05\n",
      "Population         -1.138e-08   1.69e-08     -0.673      0.503   -4.49e-08    2.22e-08\n",
      "Malnourished10_19     -1.0431      0.588     -1.773      0.079      -2.209       0.123\n",
      "Malnourished5_9        1.8353      0.531      3.457      0.001       0.783       2.888\n",
      "Income_Index          49.3277     11.959      4.125      0.000      25.623      73.033\n",
      "Schooling              1.9852      0.657      3.020      0.003       0.682       3.288\n",
      "Status_Binary         -3.0619      2.230     -1.373      0.173      -7.483       1.359\n",
      "==============================================================================\n",
      "Omnibus:                       18.032   Durbin-Watson:                   1.626\n",
      "Prob(Omnibus):                  0.000   Jarque-Bera (JB):               21.337\n",
      "Skew:                           0.880   Prob(JB):                     2.33e-05\n",
      "Kurtosis:                       4.017   Cond. No.                     8.67e+08\n",
      "==============================================================================\n",
      "\n",
      "Notes:\n",
      "[1] R² is computed without centering (uncentered) since the model does not contain a constant.\n",
      "[2] Standard Errors assume that the covariance matrix of the errors is correctly specified.\n",
      "[3] The condition number is large, 8.67e+08. This might indicate that there are\n",
      "strong multicollinearity or other numerical problems.\n"
     ]
    }
   ],
   "source": [
    "SLR = sm.OLS(y, X).fit()\n",
    "print(SLR.summary())"
   ]
  },
  {
   "cell_type": "code",
   "execution_count": 530,
   "metadata": {},
   "outputs": [
    {
     "data": {
      "text/plain": [
       "99.05684545177449"
      ]
     },
     "execution_count": 530,
     "metadata": {},
     "output_type": "execute_result"
    }
   ],
   "source": [
    "100*SLR.rsquared_adj"
   ]
  },
  {
   "cell_type": "code",
   "execution_count": 531,
   "metadata": {},
   "outputs": [
    {
     "data": {
      "text/plain": [
       "67.24460323651755"
      ]
     },
     "execution_count": 531,
     "metadata": {},
     "output_type": "execute_result"
    }
   ],
   "source": [
    "SLR.resid.sum()"
   ]
  },
  {
   "cell_type": "markdown",
   "metadata": {},
   "source": [
    "#### Adjusted $R^2$ is very high and residuals sum is also far from zero. Since there is no constant the regression line would pass through origin i.e., when all values are 0 then Expected value will also be zero which doesn't make sense."
   ]
  },
  {
   "cell_type": "markdown",
   "metadata": {},
   "source": [
    "---"
   ]
  },
  {
   "cell_type": "markdown",
   "metadata": {
    "id": "JG0CDoZZO5MO"
   },
   "source": [
    "### About the data set (Respiratory function data)\n",
    "\n",
    "Dataset consists of information about respiratory function in children and adolescents and factors that might impact the respiratory function. <br> Attribute information: \n",
    "\n",
    "**Age:** Age in years\n",
    "\n",
    "**Height:** Height in inches \n",
    "\n",
    "**Gender:** Gender value is 1 if male 0 if female\n",
    "\n",
    "**Smoke:** Whether the person is a smoker or non- smoker, the value is 1 if smoker and 0 otherwise\n",
    "\n",
    "**FEV:**  Forced Exhalation Volume (FEV), a measure of how much air somebody can forcibly exhale from their lung (Percentage)"
   ]
  },
  {
   "cell_type": "markdown",
   "metadata": {
    "id": "EwyRs_6YO5MP"
   },
   "source": [
    "#### Load the dataset and check the first five observations"
   ]
  },
  {
   "cell_type": "code",
   "execution_count": 532,
   "metadata": {
    "id": "O_X3x9-eO5MP"
   },
   "outputs": [
    {
     "data": {
      "text/html": [
       "<div>\n",
       "<style scoped>\n",
       "    .dataframe tbody tr th:only-of-type {\n",
       "        vertical-align: middle;\n",
       "    }\n",
       "\n",
       "    .dataframe tbody tr th {\n",
       "        vertical-align: top;\n",
       "    }\n",
       "\n",
       "    .dataframe thead th {\n",
       "        text-align: right;\n",
       "    }\n",
       "</style>\n",
       "<table border=\"1\" class=\"dataframe\">\n",
       "  <thead>\n",
       "    <tr style=\"text-align: right;\">\n",
       "      <th></th>\n",
       "      <th>Age</th>\n",
       "      <th>Height</th>\n",
       "      <th>Gender</th>\n",
       "      <th>Smoke</th>\n",
       "      <th>FEV</th>\n",
       "    </tr>\n",
       "  </thead>\n",
       "  <tbody>\n",
       "    <tr>\n",
       "      <th>0</th>\n",
       "      <td>9</td>\n",
       "      <td>57.0</td>\n",
       "      <td>0</td>\n",
       "      <td>0</td>\n",
       "      <td>1.708</td>\n",
       "    </tr>\n",
       "    <tr>\n",
       "      <th>1</th>\n",
       "      <td>8</td>\n",
       "      <td>67.5</td>\n",
       "      <td>0</td>\n",
       "      <td>0</td>\n",
       "      <td>1.724</td>\n",
       "    </tr>\n",
       "    <tr>\n",
       "      <th>2</th>\n",
       "      <td>7</td>\n",
       "      <td>54.5</td>\n",
       "      <td>0</td>\n",
       "      <td>0</td>\n",
       "      <td>1.720</td>\n",
       "    </tr>\n",
       "    <tr>\n",
       "      <th>3</th>\n",
       "      <td>9</td>\n",
       "      <td>53.0</td>\n",
       "      <td>1</td>\n",
       "      <td>0</td>\n",
       "      <td>1.558</td>\n",
       "    </tr>\n",
       "    <tr>\n",
       "      <th>4</th>\n",
       "      <td>9</td>\n",
       "      <td>57.0</td>\n",
       "      <td>1</td>\n",
       "      <td>0</td>\n",
       "      <td>1.895</td>\n",
       "    </tr>\n",
       "  </tbody>\n",
       "</table>\n",
       "</div>"
      ],
      "text/plain": [
       "   Age  Height  Gender  Smoke    FEV\n",
       "0    9    57.0       0      0  1.708\n",
       "1    8    67.5       0      0  1.724\n",
       "2    7    54.5       0      0  1.720\n",
       "3    9    53.0       1      0  1.558\n",
       "4    9    57.0       1      0  1.895"
      ]
     },
     "execution_count": 532,
     "metadata": {},
     "output_type": "execute_result"
    }
   ],
   "source": [
    "df = pd.read_csv('LungCapdata.csv')\n",
    "df.head()"
   ]
  },
  {
   "cell_type": "code",
   "execution_count": 533,
   "metadata": {},
   "outputs": [
    {
     "name": "stdout",
     "output_type": "stream",
     "text": [
      "<class 'pandas.core.frame.DataFrame'>\n",
      "RangeIndex: 654 entries, 0 to 653\n",
      "Data columns (total 5 columns):\n",
      " #   Column  Non-Null Count  Dtype  \n",
      "---  ------  --------------  -----  \n",
      " 0   Age     654 non-null    int64  \n",
      " 1   Height  654 non-null    float64\n",
      " 2   Gender  654 non-null    int64  \n",
      " 3   Smoke   654 non-null    int64  \n",
      " 4   FEV     654 non-null    float64\n",
      "dtypes: float64(2), int64(3)\n",
      "memory usage: 25.7 KB\n"
     ]
    }
   ],
   "source": [
    "df.info()"
   ]
  },
  {
   "cell_type": "markdown",
   "metadata": {
    "collapsed": true,
    "id": "hmpLbIshO5MP"
   },
   "source": [
    "<table align=\"left\">\n",
    "    <tr>\n",
    "        <td width=\"6%\">\n",
    "            <img src=\"question_icon.png\">\n",
    "        </td>\n",
    "        <td>\n",
    "            <div align=\"left\", style=\"font-size:120%\">\n",
    "                <font color=\"#21618C\">\n",
    "                    <b>13. Can we use a linear regression model to analyze the impact of all the features on respiratory function (FEV) ? </b>\n",
    "                </font>\n",
    "            </div>\n",
    "        </td>\n",
    "    </tr>\n",
    "</table>"
   ]
  },
  {
   "cell_type": "markdown",
   "metadata": {},
   "source": [
    "#### Preliminary Points to check:-\n",
    "* ##### Target Variable should be Numeric -- Checked\n",
    "* ##### Check for Multi Collinearity -- To be Checked"
   ]
  },
  {
   "cell_type": "code",
   "execution_count": 534,
   "metadata": {},
   "outputs": [
    {
     "data": {
      "text/html": [
       "<div>\n",
       "<style scoped>\n",
       "    .dataframe tbody tr th:only-of-type {\n",
       "        vertical-align: middle;\n",
       "    }\n",
       "\n",
       "    .dataframe tbody tr th {\n",
       "        vertical-align: top;\n",
       "    }\n",
       "\n",
       "    .dataframe thead th {\n",
       "        text-align: right;\n",
       "    }\n",
       "</style>\n",
       "<table border=\"1\" class=\"dataframe\">\n",
       "  <thead>\n",
       "    <tr style=\"text-align: right;\">\n",
       "      <th></th>\n",
       "      <th>Age</th>\n",
       "      <th>Height</th>\n",
       "      <th>Gender</th>\n",
       "      <th>Smoke</th>\n",
       "      <th>FEV</th>\n",
       "    </tr>\n",
       "  </thead>\n",
       "  <tbody>\n",
       "    <tr>\n",
       "      <th>0</th>\n",
       "      <td>9</td>\n",
       "      <td>57.0</td>\n",
       "      <td>0</td>\n",
       "      <td>0</td>\n",
       "      <td>1.708</td>\n",
       "    </tr>\n",
       "    <tr>\n",
       "      <th>1</th>\n",
       "      <td>8</td>\n",
       "      <td>67.5</td>\n",
       "      <td>0</td>\n",
       "      <td>0</td>\n",
       "      <td>1.724</td>\n",
       "    </tr>\n",
       "    <tr>\n",
       "      <th>2</th>\n",
       "      <td>7</td>\n",
       "      <td>54.5</td>\n",
       "      <td>0</td>\n",
       "      <td>0</td>\n",
       "      <td>1.720</td>\n",
       "    </tr>\n",
       "    <tr>\n",
       "      <th>3</th>\n",
       "      <td>9</td>\n",
       "      <td>53.0</td>\n",
       "      <td>1</td>\n",
       "      <td>0</td>\n",
       "      <td>1.558</td>\n",
       "    </tr>\n",
       "    <tr>\n",
       "      <th>4</th>\n",
       "      <td>9</td>\n",
       "      <td>57.0</td>\n",
       "      <td>1</td>\n",
       "      <td>0</td>\n",
       "      <td>1.895</td>\n",
       "    </tr>\n",
       "  </tbody>\n",
       "</table>\n",
       "</div>"
      ],
      "text/plain": [
       "   Age  Height  Gender  Smoke    FEV\n",
       "0    9    57.0       0      0  1.708\n",
       "1    8    67.5       0      0  1.724\n",
       "2    7    54.5       0      0  1.720\n",
       "3    9    53.0       1      0  1.558\n",
       "4    9    57.0       1      0  1.895"
      ]
     },
     "execution_count": 534,
     "metadata": {},
     "output_type": "execute_result"
    }
   ],
   "source": [
    "df.head()"
   ]
  },
  {
   "cell_type": "code",
   "execution_count": 535,
   "metadata": {
    "id": "GbFiDmBpO5MQ"
   },
   "outputs": [
    {
     "data": {
      "text/html": [
       "<div>\n",
       "<style scoped>\n",
       "    .dataframe tbody tr th:only-of-type {\n",
       "        vertical-align: middle;\n",
       "    }\n",
       "\n",
       "    .dataframe tbody tr th {\n",
       "        vertical-align: top;\n",
       "    }\n",
       "\n",
       "    .dataframe thead th {\n",
       "        text-align: right;\n",
       "    }\n",
       "</style>\n",
       "<table border=\"1\" class=\"dataframe\">\n",
       "  <thead>\n",
       "    <tr style=\"text-align: right;\">\n",
       "      <th></th>\n",
       "      <th>Age</th>\n",
       "      <th>Height</th>\n",
       "    </tr>\n",
       "  </thead>\n",
       "  <tbody>\n",
       "    <tr>\n",
       "      <th>Age</th>\n",
       "      <td>1.000000</td>\n",
       "      <td>0.791944</td>\n",
       "    </tr>\n",
       "    <tr>\n",
       "      <th>Height</th>\n",
       "      <td>0.791944</td>\n",
       "      <td>1.000000</td>\n",
       "    </tr>\n",
       "  </tbody>\n",
       "</table>\n",
       "</div>"
      ],
      "text/plain": [
       "             Age    Height\n",
       "Age     1.000000  0.791944\n",
       "Height  0.791944  1.000000"
      ]
     },
     "execution_count": 535,
     "metadata": {},
     "output_type": "execute_result"
    }
   ],
   "source": [
    "df[['Age','Height']].corr()"
   ]
  },
  {
   "cell_type": "markdown",
   "metadata": {},
   "source": [
    "#### There is high correlation between Age and Height. Let's Tackle MultiCollinearity in general."
   ]
  },
  {
   "cell_type": "markdown",
   "metadata": {
    "collapsed": true,
    "id": "7Di4izVBO5MQ"
   },
   "source": [
    "<table align=\"left\">\n",
    "    <tr>\n",
    "        <td width=\"6%\">\n",
    "            <img src=\"question_icon.png\">\n",
    "        </td>\n",
    "        <td>\n",
    "            <div align=\"left\", style=\"font-size:120%\">\n",
    "                <font color=\"#21618C\">\n",
    "                    <b>14. How can we rectify the multicollinearity detected in question 13? </b>\n",
    "                </font>\n",
    "            </div>\n",
    "        </td>\n",
    "    </tr>\n",
    "</table>"
   ]
  },
  {
   "cell_type": "markdown",
   "metadata": {},
   "source": [
    "#### Variance Inflation Factor VIF = $1/(1-R^2)$"
   ]
  },
  {
   "cell_type": "markdown",
   "metadata": {},
   "source": [
    "* ##### If VIF > 5, then High Correlation\n",
    "* ##### If 5 < VIF < 1, then Moderate Correlation\n",
    "* ##### If VIF = 1, then No Correlation"
   ]
  },
  {
   "cell_type": "code",
   "execution_count": 536,
   "metadata": {},
   "outputs": [],
   "source": [
    "from statsmodels.stats.outliers_influence import variance_inflation_factor"
   ]
  },
  {
   "cell_type": "code",
   "execution_count": 537,
   "metadata": {
    "id": "mjUSdE2BO5MQ"
   },
   "outputs": [],
   "source": [
    "X = df.drop('FEV', axis=1)"
   ]
  },
  {
   "cell_type": "code",
   "execution_count": 538,
   "metadata": {},
   "outputs": [
    {
     "data": {
      "text/plain": [
       "array([[ 9. , 57. ,  0. ,  0. ],\n",
       "       [ 8. , 67.5,  0. ,  0. ],\n",
       "       [ 7. , 54.5,  0. ,  0. ],\n",
       "       ...,\n",
       "       [18. , 60. ,  0. ,  0. ],\n",
       "       [16. , 63. ,  0. ,  1. ],\n",
       "       [15. , 66.5,  0. ,  0. ]])"
      ]
     },
     "execution_count": 538,
     "metadata": {},
     "output_type": "execute_result"
    }
   ],
   "source": [
    "X.values"
   ]
  },
  {
   "cell_type": "code",
   "execution_count": 539,
   "metadata": {},
   "outputs": [],
   "source": [
    "a = pd.DataFrame()\n",
    "a['Features'] = X.columns\n",
    "a['VIF'] = [variance_inflation_factor(X.values,i) for i in range(X.shape[1])]"
   ]
  },
  {
   "cell_type": "code",
   "execution_count": 540,
   "metadata": {},
   "outputs": [
    {
     "data": {
      "text/html": [
       "<div>\n",
       "<style scoped>\n",
       "    .dataframe tbody tr th:only-of-type {\n",
       "        vertical-align: middle;\n",
       "    }\n",
       "\n",
       "    .dataframe tbody tr th {\n",
       "        vertical-align: top;\n",
       "    }\n",
       "\n",
       "    .dataframe thead th {\n",
       "        text-align: right;\n",
       "    }\n",
       "</style>\n",
       "<table border=\"1\" class=\"dataframe\">\n",
       "  <thead>\n",
       "    <tr style=\"text-align: right;\">\n",
       "      <th></th>\n",
       "      <th>Features</th>\n",
       "      <th>VIF</th>\n",
       "    </tr>\n",
       "  </thead>\n",
       "  <tbody>\n",
       "    <tr>\n",
       "      <th>0</th>\n",
       "      <td>Age</td>\n",
       "      <td>24.322098</td>\n",
       "    </tr>\n",
       "    <tr>\n",
       "      <th>1</th>\n",
       "      <td>Height</td>\n",
       "      <td>24.524524</td>\n",
       "    </tr>\n",
       "    <tr>\n",
       "      <th>2</th>\n",
       "      <td>Gender</td>\n",
       "      <td>2.130851</td>\n",
       "    </tr>\n",
       "    <tr>\n",
       "      <th>3</th>\n",
       "      <td>Smoke</td>\n",
       "      <td>1.342164</td>\n",
       "    </tr>\n",
       "  </tbody>\n",
       "</table>\n",
       "</div>"
      ],
      "text/plain": [
       "  Features        VIF\n",
       "0      Age  24.322098\n",
       "1   Height  24.524524\n",
       "2   Gender   2.130851\n",
       "3    Smoke   1.342164"
      ]
     },
     "execution_count": 540,
     "metadata": {},
     "output_type": "execute_result"
    }
   ],
   "source": [
    "a"
   ]
  },
  {
   "cell_type": "markdown",
   "metadata": {},
   "source": [
    "#### 'Height' has Highest VIF, dropping that feature."
   ]
  },
  {
   "cell_type": "code",
   "execution_count": 541,
   "metadata": {},
   "outputs": [],
   "source": [
    "X.drop('Height', axis=1, inplace=True)"
   ]
  },
  {
   "cell_type": "markdown",
   "metadata": {},
   "source": [
    "#### Repeating the VIF again.."
   ]
  },
  {
   "cell_type": "code",
   "execution_count": 542,
   "metadata": {},
   "outputs": [],
   "source": [
    "a = pd.DataFrame()\n",
    "a['Features'] = X.columns\n",
    "a['VIF'] = [variance_inflation_factor(X.values,i) for i in range(X.shape[1])]"
   ]
  },
  {
   "cell_type": "code",
   "execution_count": 543,
   "metadata": {},
   "outputs": [
    {
     "data": {
      "text/html": [
       "<div>\n",
       "<style scoped>\n",
       "    .dataframe tbody tr th:only-of-type {\n",
       "        vertical-align: middle;\n",
       "    }\n",
       "\n",
       "    .dataframe tbody tr th {\n",
       "        vertical-align: top;\n",
       "    }\n",
       "\n",
       "    .dataframe thead th {\n",
       "        text-align: right;\n",
       "    }\n",
       "</style>\n",
       "<table border=\"1\" class=\"dataframe\">\n",
       "  <thead>\n",
       "    <tr style=\"text-align: right;\">\n",
       "      <th></th>\n",
       "      <th>Features</th>\n",
       "      <th>VIF</th>\n",
       "    </tr>\n",
       "  </thead>\n",
       "  <tbody>\n",
       "    <tr>\n",
       "      <th>0</th>\n",
       "      <td>Age</td>\n",
       "      <td>2.307311</td>\n",
       "    </tr>\n",
       "    <tr>\n",
       "      <th>1</th>\n",
       "      <td>Gender</td>\n",
       "      <td>1.977845</td>\n",
       "    </tr>\n",
       "    <tr>\n",
       "      <th>2</th>\n",
       "      <td>Smoke</td>\n",
       "      <td>1.238003</td>\n",
       "    </tr>\n",
       "  </tbody>\n",
       "</table>\n",
       "</div>"
      ],
      "text/plain": [
       "  Features       VIF\n",
       "0      Age  2.307311\n",
       "1   Gender  1.977845\n",
       "2    Smoke  1.238003"
      ]
     },
     "execution_count": 543,
     "metadata": {},
     "output_type": "execute_result"
    }
   ],
   "source": [
    "a"
   ]
  },
  {
   "cell_type": "markdown",
   "metadata": {},
   "source": [
    "#### All features have a VIF < 5 so we can retain them for building the regression model "
   ]
  },
  {
   "cell_type": "code",
   "execution_count": null,
   "metadata": {},
   "outputs": [],
   "source": [
    "\"\"\"\n",
    "while True:\n",
    "    a = pd.DataFrame()\n",
    "    a['Features'] = predictor_variables.columns\n",
    "    a['VIF'] = [variance_inflation_factor(predictor_variables.values, i) for i in range(len(predictor_variables.columns))]\n",
    "\n",
    "    for i in a.index:\n",
    "        if a.loc[i]['VIF'] == np.max(a['VIF']) and a.loc[i]['VIF'] > 10:\n",
    "            predictor_variables.drop(a.loc[i]['Features'], axis=1, inplace=True)\n",
    "    \n",
    "    if len(a[a['VIF'] < 10]) == len(a):\n",
    "        break\n",
    "\"\"\""
   ]
  },
  {
   "cell_type": "markdown",
   "metadata": {
    "collapsed": true,
    "id": "0IXqRaw9O5MR"
   },
   "source": [
    "<table align=\"left\">\n",
    "    <tr>\n",
    "        <td width=\"6%\">\n",
    "            <img src=\"question_icon.png\">\n",
    "        </td>\n",
    "        <td>\n",
    "            <div align=\"left\", style=\"font-size:120%\">\n",
    "                <font color=\"#21618C\">\n",
    "                    <b>15. A Linear regression model is used to analyze the impact of all possible features on respiratory function (FEV). How do we check whether or not the model adequately captures the relationship between the response and predictor variables?</b>\n",
    "                </font>\n",
    "            </div>\n",
    "        </td>\n",
    "    </tr>\n",
    "</table>"
   ]
  },
  {
   "cell_type": "markdown",
   "metadata": {},
   "source": [
    "#### Examining the scatter plot between fitted values and residuals provides valuable insights into the appropriateness of the regression model and helps identify potential issues such as heteroscedasticity, outliers, or violations of other assumptions. Ideally, you want to see a random scatter of points with no discernible pattern."
   ]
  },
  {
   "cell_type": "code",
   "execution_count": 544,
   "metadata": {
    "id": "wY4GwmMDO5MR",
    "scrolled": false
   },
   "outputs": [],
   "source": [
    "X = sm.add_constant(df.drop(columns=['Height','FEV']))\n",
    "y = df[['FEV']]"
   ]
  },
  {
   "cell_type": "code",
   "execution_count": 545,
   "metadata": {},
   "outputs": [
    {
     "name": "stdout",
     "output_type": "stream",
     "text": [
      "                            OLS Regression Results                            \n",
      "==============================================================================\n",
      "Dep. Variable:                    FEV   R-squared:                       0.609\n",
      "Model:                            OLS   Adj. R-squared:                  0.608\n",
      "Method:                 Least Squares   F-statistic:                     337.9\n",
      "Date:                Tue, 09 Jan 2024   Prob (F-statistic):          3.45e-132\n",
      "Time:                        12:37:44   Log-Likelihood:                -526.84\n",
      "No. Observations:                 654   AIC:                             1062.\n",
      "Df Residuals:                     650   BIC:                             1080.\n",
      "Df Model:                           3                                         \n",
      "Covariance Type:            nonrobust                                         \n",
      "==============================================================================\n",
      "                 coef    std err          t      P>|t|      [0.025      0.975]\n",
      "------------------------------------------------------------------------------\n",
      "const          0.2378      0.080      2.964      0.003       0.080       0.395\n",
      "Age            0.2268      0.008     28.765      0.000       0.211       0.242\n",
      "Gender         0.3153      0.043      7.382      0.000       0.231       0.399\n",
      "Smoke         -0.1540      0.078     -1.975      0.049      -0.307      -0.001\n",
      "==============================================================================\n",
      "Omnibus:                       18.151   Durbin-Watson:                   1.597\n",
      "Prob(Omnibus):                  0.000   Jarque-Bera (JB):               20.607\n",
      "Skew:                           0.340   Prob(JB):                     3.35e-05\n",
      "Kurtosis:                       3.542   Cond. No.                         44.0\n",
      "==============================================================================\n",
      "\n",
      "Notes:\n",
      "[1] Standard Errors assume that the covariance matrix of the errors is correctly specified.\n"
     ]
    }
   ],
   "source": [
    "SLR = sm.OLS(y,X).fit()\n",
    "print(SLR.summary())"
   ]
  },
  {
   "cell_type": "code",
   "execution_count": 546,
   "metadata": {},
   "outputs": [
    {
     "data": {
      "image/png": "[encoded data removed]",
      "text/plain": [
       "<Figure size 640x480 with 1 Axes>"
      ]
     },
     "metadata": {},
     "output_type": "display_data"
    }
   ],
   "source": [
    "plt.scatter(np.array(SLR.predict()), np.array(SLR.resid))\n",
    "plt.ylabel('Fitted')\n",
    "plt.xlabel('Residuals')\n",
    "plt.title('Scatter Plot b/w Fitted and Residuals')\n",
    "plt.show()"
   ]
  },
  {
   "cell_type": "markdown",
   "metadata": {},
   "source": [
    "#### Because above plot doesn't show a distinctive pattern between fitted values and residuals, we can conclude that model accurately captures the relationship between response and predictor variables."
   ]
  },
  {
   "cell_type": "markdown",
   "metadata": {
    "collapsed": true,
    "id": "8vAUczGGO5MR"
   },
   "source": [
    "<table align=\"left\">\n",
    "    <tr>\n",
    "        <td width=\"6%\">\n",
    "            <img src=\"question_icon.png\">\n",
    "        </td>\n",
    "        <td>\n",
    "            <div align=\"left\", style=\"font-size:120%\">\n",
    "                <font color=\"#21618C\">\n",
    "                    <b>16.  A Linear regression model is used to analyze the impact of all possible features on respiratory function (FEV). Check whether the error terms are serially independent?</b>\n",
    "                </font>\n",
    "            </div>\n",
    "        </td>\n",
    "    </tr>\n",
    "</table>"
   ]
  },
  {
   "cell_type": "code",
   "execution_count": 547,
   "metadata": {
    "id": "RlYOqgS5O5MR"
   },
   "outputs": [
    {
     "name": "stdout",
     "output_type": "stream",
     "text": [
      "                            OLS Regression Results                            \n",
      "==============================================================================\n",
      "Dep. Variable:                    FEV   R-squared:                       0.609\n",
      "Model:                            OLS   Adj. R-squared:                  0.608\n",
      "Method:                 Least Squares   F-statistic:                     337.9\n",
      "Date:                Tue, 09 Jan 2024   Prob (F-statistic):          3.45e-132\n",
      "Time:                        12:37:45   Log-Likelihood:                -526.84\n",
      "No. Observations:                 654   AIC:                             1062.\n",
      "Df Residuals:                     650   BIC:                             1080.\n",
      "Df Model:                           3                                         \n",
      "Covariance Type:            nonrobust                                         \n",
      "==============================================================================\n",
      "                 coef    std err          t      P>|t|      [0.025      0.975]\n",
      "------------------------------------------------------------------------------\n",
      "const          0.2378      0.080      2.964      0.003       0.080       0.395\n",
      "Age            0.2268      0.008     28.765      0.000       0.211       0.242\n",
      "Gender         0.3153      0.043      7.382      0.000       0.231       0.399\n",
      "Smoke         -0.1540      0.078     -1.975      0.049      -0.307      -0.001\n",
      "==============================================================================\n",
      "Omnibus:                       18.151   Durbin-Watson:                   1.597\n",
      "Prob(Omnibus):                  0.000   Jarque-Bera (JB):               20.607\n",
      "Skew:                           0.340   Prob(JB):                     3.35e-05\n",
      "Kurtosis:                       3.542   Cond. No.                         44.0\n",
      "==============================================================================\n",
      "\n",
      "Notes:\n",
      "[1] Standard Errors assume that the covariance matrix of the errors is correctly specified.\n"
     ]
    }
   ],
   "source": [
    "print(SLR.summary())"
   ]
  },
  {
   "cell_type": "code",
   "execution_count": 548,
   "metadata": {},
   "outputs": [
    {
     "data": {
      "text/plain": [
       "1.5969678178341284"
      ]
     },
     "execution_count": 548,
     "metadata": {},
     "output_type": "execute_result"
    }
   ],
   "source": [
    "from statsmodels.stats.stattools import durbin_watson\n",
    "durbin_watson(SLR.resid)"
   ]
  },
  {
   "cell_type": "markdown",
   "metadata": {},
   "source": [
    "#### Because the value is close to 2, will we take it as no correlation between residuals. "
   ]
  },
  {
   "cell_type": "markdown",
   "metadata": {
    "collapsed": true,
    "id": "-Z1hABHHO5MS"
   },
   "source": [
    "<table align=\"left\">\n",
    "    <tr>\n",
    "        <td width=\"6%\">\n",
    "            <img src=\"question_icon.png\">\n",
    "        </td>\n",
    "        <td>\n",
    "            <div align=\"left\", style=\"font-size:120%\">\n",
    "                <font color=\"#21618C\">\n",
    "                    <b>17. A model is built using all the features to predict the FEV. Check whether the residuals obtained form the model are normally distributed. </b>\n",
    "                </font>\n",
    "            </div>\n",
    "        </td>\n",
    "    </tr>\n",
    "</table>"
   ]
  },
  {
   "cell_type": "code",
   "execution_count": 549,
   "metadata": {
    "id": "GrOuG1AuO5MS",
    "scrolled": false
   },
   "outputs": [
    {
     "data": {
      "image/png": "[encoded data removed]",
      "text/plain": [
       "<Figure size 640x480 with 1 Axes>"
      ]
     },
     "metadata": {},
     "output_type": "display_data"
    }
   ],
   "source": [
    "sns.kdeplot(SLR.resid, fill=True)\n",
    "plt.title('Distribution of Residuals')\n",
    "plt.show()"
   ]
  },
  {
   "cell_type": "code",
   "execution_count": 550,
   "metadata": {},
   "outputs": [
    {
     "data": {
      "image/png": "[encoded data removed]",
      "text/plain": [
       "<Figure size 640x480 with 1 Axes>"
      ]
     },
     "metadata": {},
     "output_type": "display_data"
    }
   ],
   "source": [
    "from statsmodels.graphics.gofplots import qqplot\n",
    "qqplot(SLR.resid, line = 'r')\n",
    "plt.title('Q-Q Plot', fontsize = 15)\n",
    "plt.show()"
   ]
  },
  {
   "cell_type": "markdown",
   "metadata": {},
   "source": [
    "#### Seems to be deflection in later Quantiles. Let's statistically test for Normality"
   ]
  },
  {
   "cell_type": "code",
   "execution_count": 551,
   "metadata": {},
   "outputs": [
    {
     "name": "stdout",
     "output_type": "stream",
     "text": [
      "P-value = 0.0005548810586333275\n"
     ]
    }
   ],
   "source": [
    "test_stat, p_value = shapiro(SLR.resid)\n",
    "print('P-value =',p_value)"
   ]
  },
  {
   "cell_type": "markdown",
   "metadata": {},
   "source": [
    "#### As Shapiro's P-value is less than 0.05, we can reject the $H_0$ that residuals are Normal."
   ]
  },
  {
   "cell_type": "markdown",
   "metadata": {
    "id": "tjQAepY3O5MS"
   },
   "source": [
    "<a id=\"ml_perf\"> </a>\n",
    "## 6. Model Performance"
   ]
  },
  {
   "cell_type": "markdown",
   "metadata": {
    "collapsed": true,
    "id": "7B08gHDuO5MS"
   },
   "source": [
    "<table align=\"left\">\n",
    "    <tr>\n",
    "        <td width=\"6%\">\n",
    "            <img src=\"question_icon.png\">\n",
    "        </td>\n",
    "        <td>\n",
    "            <div align=\"left\", style=\"font-size:120%\">\n",
    "                <font color=\"#21618C\">\n",
    "                    <b>18. Consider the full model. Calculate the mean square error and the root mean square error.</b>\n",
    "                </font>\n",
    "            </div>\n",
    "        </td>\n",
    "    </tr>\n",
    "</table>"
   ]
  },
  {
   "cell_type": "code",
   "execution_count": 552,
   "metadata": {},
   "outputs": [],
   "source": [
    "y_pred = SLR.predict()"
   ]
  },
  {
   "cell_type": "code",
   "execution_count": 553,
   "metadata": {},
   "outputs": [
    {
     "name": "stdout",
     "output_type": "stream",
     "text": [
      "MSE = 0.29324846507820534\n",
      "RMSE = 0.5415242054407221\n"
     ]
    }
   ],
   "source": [
    "print('MSE =',mean_squared_error(y['FEV'], pd.Series(y_pred)))\n",
    "print('RMSE =',rmse(y['FEV'], pd.Series(y_pred)))"
   ]
  },
  {
   "cell_type": "markdown",
   "metadata": {
    "collapsed": true,
    "id": "Teaa86lWO5MT"
   },
   "source": [
    "<table align=\"left\">\n",
    "    <tr>\n",
    "        <td width=\"6%\">\n",
    "            <img src=\"question_icon.png\">\n",
    "        </td>\n",
    "        <td>\n",
    "            <div align=\"left\", style=\"font-size:120%\">\n",
    "                <font color=\"#21618C\">\n",
    "                    <b>19. Calculate the mean absolute error and the  mean absolute percentage error. Compare the values of RMSE and MAE. </b>\n",
    "                </font>\n",
    "            </div>\n",
    "        </td>\n",
    "    </tr>\n",
    "</table>"
   ]
  },
  {
   "cell_type": "code",
   "execution_count": 554,
   "metadata": {
    "id": "-Cn8CnlhO5MT"
   },
   "outputs": [
    {
     "name": "stdout",
     "output_type": "stream",
     "text": [
      "MAE = 0.4230011019786966\n",
      "MAPE = 0.16943351032455398\n"
     ]
    }
   ],
   "source": [
    "print('MAE =',mean_absolute_error(y['FEV'], pd.Series(y_pred)))\n",
    "print('MAPE =',mean_absolute_percentage_error(y['FEV'], pd.Series(y_pred)))"
   ]
  },
  {
   "cell_type": "markdown",
   "metadata": {},
   "source": [
    "#### As you can see, the value of RMSE is greater than the value of MAE. The reason for this is that the RMSE punishes the model for large error terms. Thus, RMSE is a robust method that is generally used."
   ]
  },
  {
   "cell_type": "markdown",
   "metadata": {
    "collapsed": true,
    "id": "7_zVqMlmO5MT"
   },
   "source": [
    "<table align=\"left\">\n",
    "    <tr>\n",
    "        <td width=\"6%\">\n",
    "            <img src=\"question_icon.png\">\n",
    "        </td>\n",
    "        <td>\n",
    "            <div align=\"left\", style=\"font-size:120%\">\n",
    "                <font color=\"#21618C\">\n",
    "                    <b>20. Consider the full model, has the model overfitted? </b>\n",
    "                </font>\n",
    "            </div>\n",
    "        </td>\n",
    "    </tr>\n",
    "</table>"
   ]
  },
  {
   "cell_type": "code",
   "execution_count": 555,
   "metadata": {
    "id": "0_2RqsIaO5MT"
   },
   "outputs": [],
   "source": [
    "X = sm.add_constant(df.drop('FEV', axis=1))\n",
    "y = df[['FEV']]"
   ]
  },
  {
   "cell_type": "code",
   "execution_count": 556,
   "metadata": {},
   "outputs": [],
   "source": [
    "X_train, X_test, y_train, y_test = train_test_split(X, y, test_size=0.3, random_state=42)"
   ]
  },
  {
   "cell_type": "code",
   "execution_count": 557,
   "metadata": {},
   "outputs": [
    {
     "name": "stdout",
     "output_type": "stream",
     "text": [
      "                            OLS Regression Results                            \n",
      "==============================================================================\n",
      "Dep. Variable:                    FEV   R-squared:                       0.763\n",
      "Model:                            OLS   Adj. R-squared:                  0.761\n",
      "Method:                 Least Squares   F-statistic:                     363.2\n",
      "Date:                Tue, 09 Jan 2024   Prob (F-statistic):          1.16e-139\n",
      "Time:                        12:37:45   Log-Likelihood:                -249.64\n",
      "No. Observations:                 457   AIC:                             509.3\n",
      "Df Residuals:                     452   BIC:                             529.9\n",
      "Df Model:                           4                                         \n",
      "Covariance Type:            nonrobust                                         \n",
      "==============================================================================\n",
      "                 coef    std err          t      P>|t|      [0.025      0.975]\n",
      "------------------------------------------------------------------------------\n",
      "const         -4.4204      0.275    -16.098      0.000      -4.960      -3.881\n",
      "Age            0.0662      0.012      5.402      0.000       0.042       0.090\n",
      "Height         0.1032      0.006     17.379      0.000       0.092       0.115\n",
      "Gender         0.1389      0.040      3.449      0.001       0.060       0.218\n",
      "Smoke         -0.0950      0.071     -1.331      0.184      -0.235       0.045\n",
      "==============================================================================\n",
      "Omnibus:                       11.415   Durbin-Watson:                   2.098\n",
      "Prob(Omnibus):                  0.003   Jarque-Bera (JB):               16.862\n",
      "Skew:                           0.192   Prob(JB):                     0.000218\n",
      "Kurtosis:                       3.859   Cond. No.                         870.\n",
      "==============================================================================\n",
      "\n",
      "Notes:\n",
      "[1] Standard Errors assume that the covariance matrix of the errors is correctly specified.\n"
     ]
    }
   ],
   "source": [
    "SLR = sm.OLS(y_train, X_train).fit()\n",
    "print(SLR.summary())"
   ]
  },
  {
   "cell_type": "code",
   "execution_count": 558,
   "metadata": {},
   "outputs": [],
   "source": [
    "y_pred_of_train = SLR.predict(X_train)\n",
    "y_pred_of_test = SLR.predict(X_test)"
   ]
  },
  {
   "cell_type": "code",
   "execution_count": 559,
   "metadata": {},
   "outputs": [
    {
     "name": "stdout",
     "output_type": "stream",
     "text": [
      "RMSE on Train Data = 0.41783251140058153\n",
      "RMSE on Test Data = 0.39665538993268534\n"
     ]
    }
   ],
   "source": [
    "print('RMSE on Train Data =',rmse(y_train['FEV'], y_pred_of_train))\n",
    "print('RMSE on Test Data =',rmse(y_test['FEV'], y_pred_of_test))"
   ]
  },
  {
   "cell_type": "markdown",
   "metadata": {},
   "source": [
    "#### Generally , if the model created shows less error on training data and more on test data, that means model learned the training data too well and is considered overfitted. In our case train error is more so we can conclude that model is not overfitted."
   ]
  },
  {
   "cell_type": "code",
   "execution_count": 560,
   "metadata": {},
   "outputs": [
    {
     "data": {
      "text/plain": [
       "0.7626821431304026"
      ]
     },
     "execution_count": 560,
     "metadata": {},
     "output_type": "execute_result"
    }
   ],
   "source": [
    "SLR.rsquared"
   ]
  },
  {
   "cell_type": "markdown",
   "metadata": {},
   "source": [
    "#### Also $R^2$ is good indicator whether the model has overfiited or not. Overfitted model whould have $R^2$ very close to 100%. Our model has moderate $R^2$ so we can say it's not overfitted."
   ]
  },
  {
   "cell_type": "markdown",
   "metadata": {},
   "source": [
    "## THE END"
   ]
  }
 ],
 "metadata": {
  "colab": {
   "collapsed_sections": [],
   "name": "SLR - In-Class - Lab Exercise (Week-1) - Questions  .ipynb",
   "provenance": []
  },
  "kernelspec": {
   "display_name": "Python 3 (ipykernel)",
   "language": "python",
   "name": "python3"
  },
  "language_info": {
   "codemirror_mode": {
    "name": "ipython",
    "version": 3
   },
   "file_extension": ".py",
   "mimetype": "text/x-python",
   "name": "python",
   "nbconvert_exporter": "python",
   "pygments_lexer": "ipython3",
   "version": "3.12.0"
  }
 },
 "nbformat": 4,
 "nbformat_minor": 1
}
