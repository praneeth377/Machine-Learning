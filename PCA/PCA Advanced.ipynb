{
 "cells": [
  {
   "cell_type": "code",
   "execution_count": 105,
   "metadata": {},
   "outputs": [],
   "source": [
    "import numpy as np\n",
    "import pandas as pd\n",
    "import matplotlib.pyplot as plt\n",
    "import seaborn as sns\n",
    "import time\n",
    "\n",
    "import warnings\n",
    "warnings.filterwarnings('ignore')\n",
    "\n",
    "from scipy.stats import zscore\n",
    "from sklearn.model_selection import train_test_split\n",
    "from sklearn.ensemble import RandomForestClassifier\n",
    "from sklearn.decomposition import PCA"
   ]
  },
  {
   "cell_type": "code",
   "execution_count": 106,
   "metadata": {},
   "outputs": [
    {
     "data": {
      "text/html": [
       "<div>\n",
       "<style scoped>\n",
       "    .dataframe tbody tr th:only-of-type {\n",
       "        vertical-align: middle;\n",
       "    }\n",
       "\n",
       "    .dataframe tbody tr th {\n",
       "        vertical-align: top;\n",
       "    }\n",
       "\n",
       "    .dataframe thead th {\n",
       "        text-align: right;\n",
       "    }\n",
       "</style>\n",
       "<table border=\"1\" class=\"dataframe\">\n",
       "  <thead>\n",
       "    <tr style=\"text-align: right;\">\n",
       "      <th></th>\n",
       "      <th>Temperature_min</th>\n",
       "      <th>Temperature_max</th>\n",
       "      <th>WindSpeedAt3am</th>\n",
       "      <th>WindSpeedAt10am</th>\n",
       "      <th>WindSpeedAt6pm</th>\n",
       "      <th>HumidityLevelAt10am</th>\n",
       "      <th>HumidityAt6pm</th>\n",
       "      <th>PressureAt10am</th>\n",
       "      <th>PressureAt6pm</th>\n",
       "      <th>TemperatureAt10am</th>\n",
       "      <th>TemperatureAt6pm</th>\n",
       "      <th>WillRainTomorrow?</th>\n",
       "    </tr>\n",
       "  </thead>\n",
       "  <tbody>\n",
       "    <tr>\n",
       "      <th>0</th>\n",
       "      <td>20.3</td>\n",
       "      <td>30.7</td>\n",
       "      <td>32</td>\n",
       "      <td>6</td>\n",
       "      <td>17</td>\n",
       "      <td>110</td>\n",
       "      <td>72</td>\n",
       "      <td>1025.2</td>\n",
       "      <td>1015.4</td>\n",
       "      <td>26.6</td>\n",
       "      <td>40.4</td>\n",
       "      <td>No</td>\n",
       "    </tr>\n",
       "    <tr>\n",
       "      <th>1</th>\n",
       "      <td>30.0</td>\n",
       "      <td>33.3</td>\n",
       "      <td>33</td>\n",
       "      <td>10</td>\n",
       "      <td>20</td>\n",
       "      <td>70</td>\n",
       "      <td>35</td>\n",
       "      <td>1032.6</td>\n",
       "      <td>1035.4</td>\n",
       "      <td>26.6</td>\n",
       "      <td>39.3</td>\n",
       "      <td>No</td>\n",
       "    </tr>\n",
       "    <tr>\n",
       "      <th>2</th>\n",
       "      <td>23.5</td>\n",
       "      <td>26.9</td>\n",
       "      <td>24</td>\n",
       "      <td>14</td>\n",
       "      <td>20</td>\n",
       "      <td>98</td>\n",
       "      <td>63</td>\n",
       "      <td>1025.5</td>\n",
       "      <td>1026.0</td>\n",
       "      <td>29.8</td>\n",
       "      <td>34.6</td>\n",
       "      <td>Yes</td>\n",
       "    </tr>\n",
       "    <tr>\n",
       "      <th>3</th>\n",
       "      <td>25.5</td>\n",
       "      <td>26.9</td>\n",
       "      <td>45</td>\n",
       "      <td>20</td>\n",
       "      <td>30</td>\n",
       "      <td>82</td>\n",
       "      <td>59</td>\n",
       "      <td>1019.3</td>\n",
       "      <td>1016.9</td>\n",
       "      <td>24.2</td>\n",
       "      <td>30.8</td>\n",
       "      <td>No</td>\n",
       "    </tr>\n",
       "    <tr>\n",
       "      <th>4</th>\n",
       "      <td>33.5</td>\n",
       "      <td>39.3</td>\n",
       "      <td>33</td>\n",
       "      <td>4</td>\n",
       "      <td>12</td>\n",
       "      <td>94</td>\n",
       "      <td>49</td>\n",
       "      <td>1027.3</td>\n",
       "      <td>1022.2</td>\n",
       "      <td>33.6</td>\n",
       "      <td>43.6</td>\n",
       "      <td>No</td>\n",
       "    </tr>\n",
       "  </tbody>\n",
       "</table>\n",
       "</div>"
      ],
      "text/plain": [
       "   Temperature_min  Temperature_max  WindSpeedAt3am  WindSpeedAt10am  \\\n",
       "0             20.3             30.7              32                6   \n",
       "1             30.0             33.3              33               10   \n",
       "2             23.5             26.9              24               14   \n",
       "3             25.5             26.9              45               20   \n",
       "4             33.5             39.3              33                4   \n",
       "\n",
       "   WindSpeedAt6pm  HumidityLevelAt10am  HumidityAt6pm  PressureAt10am  \\\n",
       "0              17                  110             72          1025.2   \n",
       "1              20                   70             35          1032.6   \n",
       "2              20                   98             63          1025.5   \n",
       "3              30                   82             59          1019.3   \n",
       "4              12                   94             49          1027.3   \n",
       "\n",
       "   PressureAt6pm  TemperatureAt10am  TemperatureAt6pm WillRainTomorrow?  \n",
       "0         1015.4               26.6              40.4                No  \n",
       "1         1035.4               26.6              39.3                No  \n",
       "2         1026.0               29.8              34.6               Yes  \n",
       "3         1016.9               24.2              30.8                No  \n",
       "4         1022.2               33.6              43.6                No  "
      ]
     },
     "execution_count": 106,
     "metadata": {},
     "output_type": "execute_result"
    }
   ],
   "source": [
    "df = pd.read_csv('Ind_Climate_RainPred.csv')\n",
    "df.head()"
   ]
  },
  {
   "cell_type": "code",
   "execution_count": 107,
   "metadata": {},
   "outputs": [
    {
     "name": "stdout",
     "output_type": "stream",
     "text": [
      "<class 'pandas.core.frame.DataFrame'>\n",
      "RangeIndex: 10464 entries, 0 to 10463\n",
      "Data columns (total 12 columns):\n",
      " #   Column               Non-Null Count  Dtype  \n",
      "---  ------               --------------  -----  \n",
      " 0   Temperature_min      10464 non-null  float64\n",
      " 1   Temperature_max      10464 non-null  float64\n",
      " 2   WindSpeedAt3am       10464 non-null  int64  \n",
      " 3   WindSpeedAt10am      10464 non-null  int64  \n",
      " 4   WindSpeedAt6pm       10464 non-null  int64  \n",
      " 5   HumidityLevelAt10am  10464 non-null  int64  \n",
      " 6   HumidityAt6pm        10464 non-null  int64  \n",
      " 7   PressureAt10am       10464 non-null  float64\n",
      " 8   PressureAt6pm        10464 non-null  float64\n",
      " 9   TemperatureAt10am    10464 non-null  float64\n",
      " 10  TemperatureAt6pm     10464 non-null  float64\n",
      " 11  WillRainTomorrow?    10464 non-null  object \n",
      "dtypes: float64(6), int64(5), object(1)\n",
      "memory usage: 981.1+ KB\n"
     ]
    }
   ],
   "source": [
    "df.info()"
   ]
  },
  {
   "cell_type": "markdown",
   "metadata": {},
   "source": [
    "## 1. Exploratory Data Analysis"
   ]
  },
  {
   "cell_type": "markdown",
   "metadata": {},
   "source": [
    "### 1. Check the datatype of all the variables in the dataset. If the datatype is not as per the definition, do the needful."
   ]
  },
  {
   "cell_type": "code",
   "execution_count": 108,
   "metadata": {},
   "outputs": [
    {
     "data": {
      "text/plain": [
       "Temperature_min        float64\n",
       "Temperature_max        float64\n",
       "WindSpeedAt3am           int64\n",
       "WindSpeedAt10am          int64\n",
       "WindSpeedAt6pm           int64\n",
       "HumidityLevelAt10am      int64\n",
       "HumidityAt6pm            int64\n",
       "PressureAt10am         float64\n",
       "PressureAt6pm          float64\n",
       "TemperatureAt10am      float64\n",
       "TemperatureAt6pm       float64\n",
       "WillRainTomorrow?       object\n",
       "dtype: object"
      ]
     },
     "execution_count": 108,
     "metadata": {},
     "output_type": "execute_result"
    }
   ],
   "source": [
    "df.dtypes"
   ]
  },
  {
   "cell_type": "markdown",
   "metadata": {},
   "source": [
    "### 2. Check the statistical summary of all the numerical variables."
   ]
  },
  {
   "cell_type": "code",
   "execution_count": 109,
   "metadata": {},
   "outputs": [
    {
     "data": {
      "text/html": [
       "<div>\n",
       "<style scoped>\n",
       "    .dataframe tbody tr th:only-of-type {\n",
       "        vertical-align: middle;\n",
       "    }\n",
       "\n",
       "    .dataframe tbody tr th {\n",
       "        vertical-align: top;\n",
       "    }\n",
       "\n",
       "    .dataframe thead th {\n",
       "        text-align: right;\n",
       "    }\n",
       "</style>\n",
       "<table border=\"1\" class=\"dataframe\">\n",
       "  <thead>\n",
       "    <tr style=\"text-align: right;\">\n",
       "      <th></th>\n",
       "      <th>count</th>\n",
       "      <th>mean</th>\n",
       "      <th>std</th>\n",
       "      <th>min</th>\n",
       "      <th>25%</th>\n",
       "      <th>50%</th>\n",
       "      <th>75%</th>\n",
       "      <th>max</th>\n",
       "    </tr>\n",
       "  </thead>\n",
       "  <tbody>\n",
       "    <tr>\n",
       "      <th>Temperature_min</th>\n",
       "      <td>10464.0</td>\n",
       "      <td>26.308964</td>\n",
       "      <td>6.843041</td>\n",
       "      <td>7.2</td>\n",
       "      <td>21.3</td>\n",
       "      <td>26.2</td>\n",
       "      <td>31.5</td>\n",
       "      <td>47.3</td>\n",
       "    </tr>\n",
       "    <tr>\n",
       "      <th>Temperature_max</th>\n",
       "      <td>10464.0</td>\n",
       "      <td>30.309939</td>\n",
       "      <td>7.424327</td>\n",
       "      <td>13.2</td>\n",
       "      <td>24.6</td>\n",
       "      <td>29.5</td>\n",
       "      <td>35.6</td>\n",
       "      <td>55.8</td>\n",
       "    </tr>\n",
       "    <tr>\n",
       "      <th>WindSpeedAt3am</th>\n",
       "      <td>10464.0</td>\n",
       "      <td>41.391820</td>\n",
       "      <td>14.437279</td>\n",
       "      <td>9.0</td>\n",
       "      <td>31.0</td>\n",
       "      <td>39.0</td>\n",
       "      <td>49.0</td>\n",
       "      <td>131.0</td>\n",
       "    </tr>\n",
       "    <tr>\n",
       "      <th>WindSpeedAt10am</th>\n",
       "      <td>10464.0</td>\n",
       "      <td>15.379683</td>\n",
       "      <td>7.449217</td>\n",
       "      <td>2.0</td>\n",
       "      <td>10.0</td>\n",
       "      <td>14.0</td>\n",
       "      <td>20.0</td>\n",
       "      <td>58.0</td>\n",
       "    </tr>\n",
       "    <tr>\n",
       "      <th>WindSpeedAt6pm</th>\n",
       "      <td>10464.0</td>\n",
       "      <td>20.394209</td>\n",
       "      <td>7.847386</td>\n",
       "      <td>2.0</td>\n",
       "      <td>15.0</td>\n",
       "      <td>20.0</td>\n",
       "      <td>25.0</td>\n",
       "      <td>63.0</td>\n",
       "    </tr>\n",
       "    <tr>\n",
       "      <th>HumidityLevelAt10am</th>\n",
       "      <td>10464.0</td>\n",
       "      <td>82.210627</td>\n",
       "      <td>18.557838</td>\n",
       "      <td>11.0</td>\n",
       "      <td>70.0</td>\n",
       "      <td>85.0</td>\n",
       "      <td>98.0</td>\n",
       "      <td>110.0</td>\n",
       "    </tr>\n",
       "    <tr>\n",
       "      <th>HumidityAt6pm</th>\n",
       "      <td>10464.0</td>\n",
       "      <td>60.992928</td>\n",
       "      <td>22.737736</td>\n",
       "      <td>4.0</td>\n",
       "      <td>44.0</td>\n",
       "      <td>59.0</td>\n",
       "      <td>77.0</td>\n",
       "      <td>110.0</td>\n",
       "    </tr>\n",
       "    <tr>\n",
       "      <th>PressureAt10am</th>\n",
       "      <td>10464.0</td>\n",
       "      <td>1023.362481</td>\n",
       "      <td>7.536385</td>\n",
       "      <td>993.7</td>\n",
       "      <td>1018.4</td>\n",
       "      <td>1023.4</td>\n",
       "      <td>1028.6</td>\n",
       "      <td>1048.9</td>\n",
       "    </tr>\n",
       "    <tr>\n",
       "      <th>PressureAt6pm</th>\n",
       "      <td>10464.0</td>\n",
       "      <td>1020.702332</td>\n",
       "      <td>7.433202</td>\n",
       "      <td>991.9</td>\n",
       "      <td>1015.6</td>\n",
       "      <td>1020.7</td>\n",
       "      <td>1025.7</td>\n",
       "      <td>1046.4</td>\n",
       "    </tr>\n",
       "    <tr>\n",
       "      <th>TemperatureAt10am</th>\n",
       "      <td>10464.0</td>\n",
       "      <td>30.713083</td>\n",
       "      <td>6.752840</td>\n",
       "      <td>10.3</td>\n",
       "      <td>25.8</td>\n",
       "      <td>30.8</td>\n",
       "      <td>35.4</td>\n",
       "      <td>56.3</td>\n",
       "    </tr>\n",
       "    <tr>\n",
       "      <th>TemperatureAt6pm</th>\n",
       "      <td>10464.0</td>\n",
       "      <td>36.218626</td>\n",
       "      <td>7.723442</td>\n",
       "      <td>16.7</td>\n",
       "      <td>30.6</td>\n",
       "      <td>35.6</td>\n",
       "      <td>41.4</td>\n",
       "      <td>63.3</td>\n",
       "    </tr>\n",
       "  </tbody>\n",
       "</table>\n",
       "</div>"
      ],
      "text/plain": [
       "                       count         mean        std    min     25%     50%  \\\n",
       "Temperature_min      10464.0    26.308964   6.843041    7.2    21.3    26.2   \n",
       "Temperature_max      10464.0    30.309939   7.424327   13.2    24.6    29.5   \n",
       "WindSpeedAt3am       10464.0    41.391820  14.437279    9.0    31.0    39.0   \n",
       "WindSpeedAt10am      10464.0    15.379683   7.449217    2.0    10.0    14.0   \n",
       "WindSpeedAt6pm       10464.0    20.394209   7.847386    2.0    15.0    20.0   \n",
       "HumidityLevelAt10am  10464.0    82.210627  18.557838   11.0    70.0    85.0   \n",
       "HumidityAt6pm        10464.0    60.992928  22.737736    4.0    44.0    59.0   \n",
       "PressureAt10am       10464.0  1023.362481   7.536385  993.7  1018.4  1023.4   \n",
       "PressureAt6pm        10464.0  1020.702332   7.433202  991.9  1015.6  1020.7   \n",
       "TemperatureAt10am    10464.0    30.713083   6.752840   10.3    25.8    30.8   \n",
       "TemperatureAt6pm     10464.0    36.218626   7.723442   16.7    30.6    35.6   \n",
       "\n",
       "                        75%     max  \n",
       "Temperature_min        31.5    47.3  \n",
       "Temperature_max        35.6    55.8  \n",
       "WindSpeedAt3am         49.0   131.0  \n",
       "WindSpeedAt10am        20.0    58.0  \n",
       "WindSpeedAt6pm         25.0    63.0  \n",
       "HumidityLevelAt10am    98.0   110.0  \n",
       "HumidityAt6pm          77.0   110.0  \n",
       "PressureAt10am       1028.6  1048.9  \n",
       "PressureAt6pm        1025.7  1046.4  \n",
       "TemperatureAt10am      35.4    56.3  \n",
       "TemperatureAt6pm       41.4    63.3  "
      ]
     },
     "execution_count": 109,
     "metadata": {},
     "output_type": "execute_result"
    }
   ],
   "source": [
    "df.describe().T"
   ]
  },
  {
   "cell_type": "markdown",
   "metadata": {},
   "source": [
    "### 3. Is the target variable highly imbalanced?"
   ]
  },
  {
   "cell_type": "code",
   "execution_count": 110,
   "metadata": {},
   "outputs": [
    {
     "data": {
      "text/plain": [
       "WillRainTomorrow?\n",
       "No     5464\n",
       "Yes    5000\n",
       "Name: count, dtype: int64"
      ]
     },
     "execution_count": 110,
     "metadata": {},
     "output_type": "execute_result"
    }
   ],
   "source": [
    "df['WillRainTomorrow?'].value_counts()"
   ]
  },
  {
   "cell_type": "markdown",
   "metadata": {},
   "source": [
    "#### No target variable is not imbalanced"
   ]
  },
  {
   "cell_type": "markdown",
   "metadata": {},
   "source": [
    "### 4. Check if any missing values are present in the data. If yes, do the needful."
   ]
  },
  {
   "cell_type": "code",
   "execution_count": 111,
   "metadata": {},
   "outputs": [
    {
     "data": {
      "text/plain": [
       "Temperature_min        0\n",
       "Temperature_max        0\n",
       "WindSpeedAt3am         0\n",
       "WindSpeedAt10am        0\n",
       "WindSpeedAt6pm         0\n",
       "HumidityLevelAt10am    0\n",
       "HumidityAt6pm          0\n",
       "PressureAt10am         0\n",
       "PressureAt6pm          0\n",
       "TemperatureAt10am      0\n",
       "TemperatureAt6pm       0\n",
       "WillRainTomorrow?      0\n",
       "dtype: int64"
      ]
     },
     "execution_count": 111,
     "metadata": {},
     "output_type": "execute_result"
    }
   ],
   "source": [
    "df.isna().sum()"
   ]
  },
  {
   "cell_type": "markdown",
   "metadata": {},
   "source": [
    "### 5. Visualize the distribution of all the independent variables and identify the type of skewness."
   ]
  },
  {
   "cell_type": "code",
   "execution_count": 112,
   "metadata": {},
   "outputs": [
    {
     "name": "stdout",
     "output_type": "stream",
     "text": [
      "Skewness of Temperature_min = 0.01\n",
      "Skewness of Temperature_max = 0.36\n",
      "Skewness of WindSpeedAt3am = 0.97\n",
      "Skewness of WindSpeedAt10am = 0.68\n",
      "Skewness of WindSpeedAt6pm = 0.63\n",
      "Skewness of HumidityLevelAt10am = -0.64\n",
      "Skewness of HumidityAt6pm = 0.19\n",
      "Skewness of PressureAt10am = -0.05\n",
      "Skewness of PressureAt6pm = 0.0\n",
      "Skewness of TemperatureAt10am = 0.08\n",
      "Skewness of TemperatureAt6pm = 0.31\n"
     ]
    },
    {
     "data": {
      "image/png": "[encoded data removed]",
      "text/plain": [
       "<Figure size 1400x700 with 12 Axes>"
      ]
     },
     "metadata": {},
     "output_type": "display_data"
    }
   ],
   "source": [
    "fig, axes = plt.subplots(3, 4, figsize=(14,7))\n",
    "axes = axes.ravel()\n",
    "\n",
    "for i,j in enumerate(df.columns[:-1]):\n",
    "    sns.kdeplot(df[j], fill=True, ax=axes[i])\n",
    "    axes[i].set_title(f\"Distribution of {j}\", fontsize=10)\n",
    "    axes[i].set_xlabel(\"\")\n",
    "    axes[i].set_ylabel(\"\")\n",
    "    print(f\"Skewness of {j} = {round(df[j].skew(), 2)}\")\n",
    "\n",
    "plt.tight_layout()\n",
    "plt.show()"
   ]
  },
  {
   "cell_type": "markdown",
   "metadata": {},
   "source": [
    "### 6. Transform the independent variables such that each variable will have a mean zero and standard deviation of 1."
   ]
  },
  {
   "cell_type": "code",
   "execution_count": 113,
   "metadata": {},
   "outputs": [],
   "source": [
    "df1 = df[df.columns[:-1]].apply(zscore)\n",
    "df1['WillRainTomorrow?'] = df['WillRainTomorrow?'].values\n",
    "df = df1.copy()"
   ]
  },
  {
   "cell_type": "code",
   "execution_count": 114,
   "metadata": {},
   "outputs": [],
   "source": [
    "df['WillRainTomorrow?'].replace({'Yes': 1, 'No': 0}, inplace=True)\n",
    "df['WillRainTomorrow?'] = df['WillRainTomorrow?'].astype('int64')"
   ]
  },
  {
   "cell_type": "code",
   "execution_count": 115,
   "metadata": {},
   "outputs": [
    {
     "data": {
      "text/html": [
       "<div>\n",
       "<style scoped>\n",
       "    .dataframe tbody tr th:only-of-type {\n",
       "        vertical-align: middle;\n",
       "    }\n",
       "\n",
       "    .dataframe tbody tr th {\n",
       "        vertical-align: top;\n",
       "    }\n",
       "\n",
       "    .dataframe thead th {\n",
       "        text-align: right;\n",
       "    }\n",
       "</style>\n",
       "<table border=\"1\" class=\"dataframe\">\n",
       "  <thead>\n",
       "    <tr style=\"text-align: right;\">\n",
       "      <th></th>\n",
       "      <th>Temperature_min</th>\n",
       "      <th>Temperature_max</th>\n",
       "      <th>WindSpeedAt3am</th>\n",
       "      <th>WindSpeedAt10am</th>\n",
       "      <th>WindSpeedAt6pm</th>\n",
       "      <th>HumidityLevelAt10am</th>\n",
       "      <th>HumidityAt6pm</th>\n",
       "      <th>PressureAt10am</th>\n",
       "      <th>PressureAt6pm</th>\n",
       "      <th>TemperatureAt10am</th>\n",
       "      <th>TemperatureAt6pm</th>\n",
       "      <th>WillRainTomorrow?</th>\n",
       "    </tr>\n",
       "  </thead>\n",
       "  <tbody>\n",
       "    <tr>\n",
       "      <th>0</th>\n",
       "      <td>-0.878155</td>\n",
       "      <td>0.052541</td>\n",
       "      <td>-0.650557</td>\n",
       "      <td>-1.259210</td>\n",
       "      <td>-0.432548</td>\n",
       "      <td>1.497518</td>\n",
       "      <td>0.484111</td>\n",
       "      <td>0.243831</td>\n",
       "      <td>-0.713365</td>\n",
       "      <td>-0.609118</td>\n",
       "      <td>0.541413</td>\n",
       "      <td>0</td>\n",
       "    </tr>\n",
       "    <tr>\n",
       "      <th>1</th>\n",
       "      <td>0.539411</td>\n",
       "      <td>0.402758</td>\n",
       "      <td>-0.581288</td>\n",
       "      <td>-0.722216</td>\n",
       "      <td>-0.050237</td>\n",
       "      <td>-0.658008</td>\n",
       "      <td>-1.143217</td>\n",
       "      <td>1.225781</td>\n",
       "      <td>1.977394</td>\n",
       "      <td>-0.609118</td>\n",
       "      <td>0.398983</td>\n",
       "      <td>0</td>\n",
       "    </tr>\n",
       "    <tr>\n",
       "      <th>2</th>\n",
       "      <td>-0.410504</td>\n",
       "      <td>-0.459315</td>\n",
       "      <td>-1.204704</td>\n",
       "      <td>-0.185221</td>\n",
       "      <td>-0.050237</td>\n",
       "      <td>0.850860</td>\n",
       "      <td>0.088275</td>\n",
       "      <td>0.283640</td>\n",
       "      <td>0.712737</td>\n",
       "      <td>-0.135221</td>\n",
       "      <td>-0.209583</td>\n",
       "      <td>1</td>\n",
       "    </tr>\n",
       "    <tr>\n",
       "      <th>3</th>\n",
       "      <td>-0.118223</td>\n",
       "      <td>-0.459315</td>\n",
       "      <td>0.249933</td>\n",
       "      <td>0.620272</td>\n",
       "      <td>1.224134</td>\n",
       "      <td>-0.011350</td>\n",
       "      <td>-0.087653</td>\n",
       "      <td>-0.539075</td>\n",
       "      <td>-0.511558</td>\n",
       "      <td>-0.964541</td>\n",
       "      <td>-0.701615</td>\n",
       "      <td>0</td>\n",
       "    </tr>\n",
       "    <tr>\n",
       "      <th>4</th>\n",
       "      <td>1.050904</td>\n",
       "      <td>1.210950</td>\n",
       "      <td>-0.581288</td>\n",
       "      <td>-1.527708</td>\n",
       "      <td>-1.069733</td>\n",
       "      <td>0.635308</td>\n",
       "      <td>-0.527471</td>\n",
       "      <td>0.522493</td>\n",
       "      <td>0.201493</td>\n",
       "      <td>0.427532</td>\n",
       "      <td>0.955756</td>\n",
       "      <td>0</td>\n",
       "    </tr>\n",
       "  </tbody>\n",
       "</table>\n",
       "</div>"
      ],
      "text/plain": [
       "   Temperature_min  Temperature_max  WindSpeedAt3am  WindSpeedAt10am  \\\n",
       "0        -0.878155         0.052541       -0.650557        -1.259210   \n",
       "1         0.539411         0.402758       -0.581288        -0.722216   \n",
       "2        -0.410504        -0.459315       -1.204704        -0.185221   \n",
       "3        -0.118223        -0.459315        0.249933         0.620272   \n",
       "4         1.050904         1.210950       -0.581288        -1.527708   \n",
       "\n",
       "   WindSpeedAt6pm  HumidityLevelAt10am  HumidityAt6pm  PressureAt10am  \\\n",
       "0       -0.432548             1.497518       0.484111        0.243831   \n",
       "1       -0.050237            -0.658008      -1.143217        1.225781   \n",
       "2       -0.050237             0.850860       0.088275        0.283640   \n",
       "3        1.224134            -0.011350      -0.087653       -0.539075   \n",
       "4       -1.069733             0.635308      -0.527471        0.522493   \n",
       "\n",
       "   PressureAt6pm  TemperatureAt10am  TemperatureAt6pm  WillRainTomorrow?  \n",
       "0      -0.713365          -0.609118          0.541413                  0  \n",
       "1       1.977394          -0.609118          0.398983                  0  \n",
       "2       0.712737          -0.135221         -0.209583                  1  \n",
       "3      -0.511558          -0.964541         -0.701615                  0  \n",
       "4       0.201493           0.427532          0.955756                  0  "
      ]
     },
     "execution_count": 115,
     "metadata": {},
     "output_type": "execute_result"
    }
   ],
   "source": [
    "df.head()"
   ]
  },
  {
   "cell_type": "markdown",
   "metadata": {},
   "source": [
    "## 2. Principal Component Analysis (PCA)"
   ]
  },
  {
   "cell_type": "markdown",
   "metadata": {},
   "source": [
    "### 7. Find the covariance matrix of the standardized data."
   ]
  },
  {
   "cell_type": "code",
   "execution_count": 116,
   "metadata": {},
   "outputs": [],
   "source": [
    "df_num = df[df.columns[:-1]]"
   ]
  },
  {
   "cell_type": "markdown",
   "metadata": {},
   "source": [
    "https://numpy.org/doc/stable/reference/generated/numpy.cov.html"
   ]
  },
  {
   "cell_type": "code",
   "execution_count": 117,
   "metadata": {},
   "outputs": [
    {
     "data": {
      "text/plain": [
       "array([[ 1.00009557,  0.62986804,  0.2774717 ,  0.19188583,  0.10114221,\n",
       "        -0.25035675, -0.05795163, -0.3635111 , -0.34036162,  0.71612149,\n",
       "         0.54811355],\n",
       "       [ 0.62986804,  1.00009557,  0.23626203, -0.01431146,  0.07161277,\n",
       "        -0.50728072, -0.55772371, -0.24497184, -0.29854472,  0.76966307,\n",
       "         0.8658169 ],\n",
       "       [ 0.2774717 ,  0.23626203,  1.00009557,  0.42037333,  0.57176138,\n",
       "        -0.27611053, -0.11724591, -0.47841125, -0.47563157,  0.27207988,\n",
       "         0.17209019],\n",
       "       [ 0.19188583, -0.01431146,  0.42037333,  1.00009557,  0.33458778,\n",
       "        -0.31749763, -0.00663469, -0.25165481, -0.18433562,  0.14168084,\n",
       "        -0.0391036 ],\n",
       "       [ 0.10114221,  0.07161277,  0.57176138,  0.33458778,  1.00009557,\n",
       "        -0.19684857, -0.15049059, -0.33940416, -0.30875067,  0.10542863,\n",
       "         0.04909065],\n",
       "       [-0.25035675, -0.50728072, -0.27611053, -0.31749763, -0.19684857,\n",
       "         1.00009557,  0.66141695,  0.15161387,  0.15052404, -0.46424741,\n",
       "        -0.46590031],\n",
       "       [-0.05795163, -0.55772371, -0.11724591, -0.00663469, -0.15049059,\n",
       "         0.66141695,  1.00009557, -0.00253829,  0.04051714, -0.27766177,\n",
       "        -0.58758977],\n",
       "       [-0.3635111 , -0.24497184, -0.47841125, -0.25165481, -0.33940416,\n",
       "         0.15161387, -0.00253829,  1.00009557,  0.85206106, -0.31895393,\n",
       "        -0.18832536],\n",
       "       [-0.34036162, -0.29854472, -0.47563157, -0.18433562, -0.30875067,\n",
       "         0.15052404,  0.04051714,  0.85206106,  1.00009557, -0.32551986,\n",
       "        -0.25063597],\n",
       "       [ 0.71612149,  0.76966307,  0.27207988,  0.14168084,  0.10542863,\n",
       "        -0.46424741, -0.27766177, -0.31895393, -0.32551986,  1.00009557,\n",
       "         0.67953134],\n",
       "       [ 0.54811355,  0.8658169 ,  0.17209019, -0.0391036 ,  0.04909065,\n",
       "        -0.46590031, -0.58758977, -0.18832536, -0.25063597,  0.67953134,\n",
       "         1.00009557]])"
      ]
     },
     "execution_count": 117,
     "metadata": {},
     "output_type": "execute_result"
    }
   ],
   "source": [
    "cov_matrix = np.cov(df_num.T)\n",
    "cov_matrix"
   ]
  },
  {
   "cell_type": "markdown",
   "metadata": {},
   "source": [
    "### 8. Compute the eigenvalues and eigenvectors of the above covariance matrix."
   ]
  },
  {
   "cell_type": "code",
   "execution_count": 118,
   "metadata": {},
   "outputs": [],
   "source": [
    "eigenvalues, eigenvectors = np.linalg.eig(cov_matrix)"
   ]
  },
  {
   "cell_type": "code",
   "execution_count": 119,
   "metadata": {},
   "outputs": [
    {
     "data": {
      "text/plain": [
       "array([4.37827342, 2.20537611, 1.4028951 , 0.93909121, 0.69185977,\n",
       "       0.38762838, 0.34242384, 0.24329175, 0.11262274, 0.13748201,\n",
       "       0.160107  ])"
      ]
     },
     "execution_count": 119,
     "metadata": {},
     "output_type": "execute_result"
    }
   ],
   "source": [
    "eigenvalues"
   ]
  },
  {
   "cell_type": "code",
   "execution_count": 120,
   "metadata": {},
   "outputs": [],
   "source": [
    "eigen = [(eigenvalues[i], eigenvectors[i]) for i in range(len(eigenvalues))]"
   ]
  },
  {
   "cell_type": "code",
   "execution_count": 121,
   "metadata": {},
   "outputs": [
    {
     "data": {
      "text/plain": [
       "[(4.378273424761766,\n",
       "  array([ 0.33781785,  0.03549082,  0.35858565, -0.42444298,  0.13644818,\n",
       "          0.14320347, -0.03924682,  0.7102148 ,  0.1131725 , -0.11587593,\n",
       "         -0.06766114])),\n",
       " (2.2053761142853308,\n",
       "  array([ 0.40087506,  0.28485778,  0.10425574,  0.03376955,  0.1189962 ,\n",
       "         -0.08118397,  0.15405941, -0.11028839, -0.82752819, -0.0604924 ,\n",
       "          0.03216514])),\n",
       " (1.402895095728117,\n",
       "  array([ 0.26666777, -0.38120744, -0.1908883 , -0.02705605,  0.31592881,\n",
       "         -0.78707893, -0.12571969,  0.05588588,  0.05942134,  0.04255307,\n",
       "         -0.05314346])),\n",
       " (0.939091208023474,\n",
       "  array([ 0.14561644, -0.32320401, -0.33544556, -0.59156622, -0.38842204,\n",
       "          0.06004674,  0.47855507, -0.14902074, -0.05799504, -0.04274979,\n",
       "         -0.03114975])),\n",
       " (0.6918597738714429,\n",
       "  array([ 0.17812567, -0.3671682 , -0.34917199,  0.09189247,  0.61597616,\n",
       "          0.55598391, -0.01913024, -0.05338958, -0.03795733, -0.01323056,\n",
       "          0.09857223])),\n",
       " (0.38762837994450383,\n",
       "  array([-0.3093895 , -0.14948994,  0.44585592,  0.03061406,  0.38031984,\n",
       "         -0.06731708,  0.58995926, -0.13531557,  0.03534899, -0.07698165,\n",
       "         -0.39936631])),\n",
       " (0.3424238369249261,\n",
       "  array([-0.24976325, -0.30898812,  0.45624609, -0.36844966,  0.09207514,\n",
       "         -0.01787154, -0.23378475, -0.23506779, -0.17196895,  0.16355004,\n",
       "          0.56850478])),\n",
       " (0.24329174527626787,\n",
       "  array([-0.27406409,  0.40143674, -0.25274467, -0.30171211,  0.3001498 ,\n",
       "         -0.14722646,  0.01395408, -0.06669288,  0.08751121, -0.65207056,\n",
       "          0.24405929])),\n",
       " (0.16010699746005738,\n",
       "  array([ 0.37221806,  0.31737997,  0.07134515,  0.09554306,  0.12257873,\n",
       "         -0.06436221,  0.44670135, -0.12936102,  0.42383332,  0.30131517,\n",
       "          0.49054575])),\n",
       " (0.13748200581003273,\n",
       "  array([ 0.38706309,  0.15069408,  0.20620235, -0.26766507,  0.06056677,\n",
       "          0.09685816, -0.35164425, -0.59654261,  0.25826243, -0.07595066,\n",
       "         -0.38506476])),\n",
       " (0.11262274162621158,\n",
       "  array([-0.28205479,  0.36137641, -0.26688296, -0.38869691,  0.27424017,\n",
       "         -0.02518643, -0.05866258,  0.06810348, -0.09611842,  0.65166705,\n",
       "         -0.22295802]))]"
      ]
     },
     "execution_count": 121,
     "metadata": {},
     "output_type": "execute_result"
    }
   ],
   "source": [
    "sorted(eigen, key=lambda x: x[0], reverse=True)"
   ]
  },
  {
   "cell_type": "code",
   "execution_count": 122,
   "metadata": {},
   "outputs": [
    {
     "data": {
      "text/plain": [
       "array([[ 0.33781785,  0.03549082,  0.35858565, -0.42444298,  0.13644818,\n",
       "         0.14320347, -0.03924682,  0.7102148 ,  0.1131725 , -0.11587593,\n",
       "        -0.06766114],\n",
       "       [ 0.40087506,  0.28485778,  0.10425574,  0.03376955,  0.1189962 ,\n",
       "        -0.08118397,  0.15405941, -0.11028839, -0.82752819, -0.0604924 ,\n",
       "         0.03216514],\n",
       "       [ 0.26666777, -0.38120744, -0.1908883 , -0.02705605,  0.31592881,\n",
       "        -0.78707893, -0.12571969,  0.05588588,  0.05942134,  0.04255307,\n",
       "        -0.05314346],\n",
       "       [ 0.14561644, -0.32320401, -0.33544556, -0.59156622, -0.38842204,\n",
       "         0.06004674,  0.47855507, -0.14902074, -0.05799504, -0.04274979,\n",
       "        -0.03114975]])"
      ]
     },
     "execution_count": 122,
     "metadata": {},
     "output_type": "execute_result"
    }
   ],
   "source": [
    "np.array([i[1] for i in sorted(eigen, key=lambda x: x[0], reverse=True)[:4]])"
   ]
  },
  {
   "cell_type": "markdown",
   "metadata": {},
   "source": [
    "### 9. Use the Kaiser criterion to identify the optimal number of principal components."
   ]
  },
  {
   "cell_type": "code",
   "execution_count": 123,
   "metadata": {},
   "outputs": [
    {
     "data": {
      "text/plain": [
       "3"
      ]
     },
     "execution_count": 123,
     "metadata": {},
     "output_type": "execute_result"
    }
   ],
   "source": [
    "# The Kaiser criterion states that you should retain only the principal components with eigenvalues greater than 1.\n",
    "np.sum(eigenvalues > 1)"
   ]
  },
  {
   "cell_type": "markdown",
   "metadata": {},
   "source": [
    "### 10. How many minimum principal components are required to explain at least 80% of the variation in the data?"
   ]
  },
  {
   "cell_type": "code",
   "execution_count": 124,
   "metadata": {},
   "outputs": [],
   "source": [
    "var = [i/np.sum(eigenvalues) for i in eigenvalues]"
   ]
  },
  {
   "cell_type": "code",
   "execution_count": 125,
   "metadata": {},
   "outputs": [
    {
     "name": "stdout",
     "output_type": "stream",
     "text": [
      "[0.39798681925287016, 0.20046957780587485, 0.12752372972792683, 0.0853637693698708, 0.06289033234307155, 0.03523557599526814, 0.031126464812217664, 0.022115317719849797, 0.014553790610444298, 0.012497169749012828, 0.010237452613593375]\n"
     ]
    }
   ],
   "source": [
    "print(sorted(var, reverse=True))"
   ]
  },
  {
   "cell_type": "code",
   "execution_count": 126,
   "metadata": {},
   "outputs": [
    {
     "data": {
      "text/plain": [
       "array([0.39798682, 0.5984564 , 0.72598013, 0.8113439 , 0.87423423,\n",
       "       0.9094698 , 0.94059627, 0.96271159, 0.97726538, 0.98976255,\n",
       "       1.        ])"
      ]
     },
     "execution_count": 126,
     "metadata": {},
     "output_type": "execute_result"
    }
   ],
   "source": [
    "np.cumsum(sorted(var, reverse=True))"
   ]
  },
  {
   "cell_type": "markdown",
   "metadata": {},
   "source": [
    "### 4 PC's are required to explain atleast 80% variance in the data"
   ]
  },
  {
   "cell_type": "code",
   "execution_count": 127,
   "metadata": {},
   "outputs": [
    {
     "data": {
      "image/png": "[encoded data removed]",
      "text/plain": [
       "<Figure size 640x480 with 1 Axes>"
      ]
     },
     "metadata": {},
     "output_type": "display_data"
    }
   ],
   "source": [
    "plt.bar(np.arange(1, 12), sorted(var, reverse=True), label='Individual Explained Variance')\n",
    "plt.step(np.arange(1, 12), np.cumsum(sorted(var, reverse=True)), label='Cumulative Explained Variance' )\n",
    "\n",
    "plt.xlabel('Principal Components')\n",
    "plt.ylabel('Explained Variance Ratio')\n",
    "plt.legend()\n",
    "plt.show()"
   ]
  },
  {
   "cell_type": "markdown",
   "metadata": {},
   "source": [
    "### 11. Create a dataframe of the transformed data with 4 principal components."
   ]
  },
  {
   "cell_type": "code",
   "execution_count": 128,
   "metadata": {},
   "outputs": [
    {
     "data": {
      "text/plain": [
       "array([[ 0.33781785,  0.40087506,  0.26666777,  0.14561644],\n",
       "       [ 0.03549082,  0.28485778, -0.38120744, -0.32320401],\n",
       "       [ 0.35858565,  0.10425574, -0.1908883 , -0.33544556],\n",
       "       [-0.42444298,  0.03376955, -0.02705605, -0.59156622],\n",
       "       [ 0.13644818,  0.1189962 ,  0.31592881, -0.38842204],\n",
       "       [ 0.14320347, -0.08118397, -0.78707893,  0.06004674],\n",
       "       [-0.03924682,  0.15405941, -0.12571969,  0.47855507],\n",
       "       [ 0.7102148 , -0.11028839,  0.05588588, -0.14902074],\n",
       "       [ 0.1131725 , -0.82752819,  0.05942134, -0.05799504],\n",
       "       [-0.11587593, -0.0604924 ,  0.04255307, -0.04274979],\n",
       "       [-0.06766114,  0.03216514, -0.05314346, -0.03114975]])"
      ]
     },
     "execution_count": 128,
     "metadata": {},
     "output_type": "execute_result"
    }
   ],
   "source": [
    "np.array([i[1] for i in sorted(eigen, key=lambda x: x[0], reverse=True)[:4]]).T"
   ]
  },
  {
   "cell_type": "code",
   "execution_count": 129,
   "metadata": {},
   "outputs": [
    {
     "data": {
      "text/html": [
       "<div>\n",
       "<style scoped>\n",
       "    .dataframe tbody tr th:only-of-type {\n",
       "        vertical-align: middle;\n",
       "    }\n",
       "\n",
       "    .dataframe tbody tr th {\n",
       "        vertical-align: top;\n",
       "    }\n",
       "\n",
       "    .dataframe thead th {\n",
       "        text-align: right;\n",
       "    }\n",
       "</style>\n",
       "<table border=\"1\" class=\"dataframe\">\n",
       "  <thead>\n",
       "    <tr style=\"text-align: right;\">\n",
       "      <th></th>\n",
       "      <th>PC1</th>\n",
       "      <th>PC2</th>\n",
       "      <th>PC3</th>\n",
       "      <th>PC4</th>\n",
       "    </tr>\n",
       "  </thead>\n",
       "  <tbody>\n",
       "    <tr>\n",
       "      <th>0</th>\n",
       "      <td>0.269209</td>\n",
       "      <td>0.071824</td>\n",
       "      <td>-1.555588</td>\n",
       "      <td>1.322094</td>\n",
       "    </tr>\n",
       "    <tr>\n",
       "      <th>1</th>\n",
       "      <td>1.376340</td>\n",
       "      <td>-1.604567</td>\n",
       "      <td>0.905449</td>\n",
       "      <td>-0.280222</td>\n",
       "    </tr>\n",
       "    <tr>\n",
       "      <th>2</th>\n",
       "      <td>-0.084867</td>\n",
       "      <td>-1.108361</td>\n",
       "      <td>-0.332475</td>\n",
       "      <td>0.643914</td>\n",
       "    </tr>\n",
       "    <tr>\n",
       "      <th>3</th>\n",
       "      <td>-0.342555</td>\n",
       "      <td>0.520419</td>\n",
       "      <td>0.421487</td>\n",
       "      <td>-0.664552</td>\n",
       "    </tr>\n",
       "    <tr>\n",
       "      <th>4</th>\n",
       "      <td>1.083369</td>\n",
       "      <td>0.174418</td>\n",
       "      <td>-0.792196</td>\n",
       "      <td>0.924012</td>\n",
       "    </tr>\n",
       "    <tr>\n",
       "      <th>...</th>\n",
       "      <td>...</td>\n",
       "      <td>...</td>\n",
       "      <td>...</td>\n",
       "      <td>...</td>\n",
       "    </tr>\n",
       "    <tr>\n",
       "      <th>10459</th>\n",
       "      <td>-0.481495</td>\n",
       "      <td>1.551754</td>\n",
       "      <td>1.081649</td>\n",
       "      <td>-1.952134</td>\n",
       "    </tr>\n",
       "    <tr>\n",
       "      <th>10460</th>\n",
       "      <td>0.717442</td>\n",
       "      <td>0.763488</td>\n",
       "      <td>-0.305215</td>\n",
       "      <td>-0.463782</td>\n",
       "    </tr>\n",
       "    <tr>\n",
       "      <th>10461</th>\n",
       "      <td>-0.138713</td>\n",
       "      <td>-0.937271</td>\n",
       "      <td>0.395923</td>\n",
       "      <td>0.651086</td>\n",
       "    </tr>\n",
       "    <tr>\n",
       "      <th>10462</th>\n",
       "      <td>-0.402485</td>\n",
       "      <td>0.605397</td>\n",
       "      <td>-0.969324</td>\n",
       "      <td>0.088680</td>\n",
       "    </tr>\n",
       "    <tr>\n",
       "      <th>10463</th>\n",
       "      <td>0.515980</td>\n",
       "      <td>-0.360548</td>\n",
       "      <td>-0.160253</td>\n",
       "      <td>-0.230834</td>\n",
       "    </tr>\n",
       "  </tbody>\n",
       "</table>\n",
       "<p>10464 rows × 4 columns</p>\n",
       "</div>"
      ],
      "text/plain": [
       "            PC1       PC2       PC3       PC4\n",
       "0      0.269209  0.071824 -1.555588  1.322094\n",
       "1      1.376340 -1.604567  0.905449 -0.280222\n",
       "2     -0.084867 -1.108361 -0.332475  0.643914\n",
       "3     -0.342555  0.520419  0.421487 -0.664552\n",
       "4      1.083369  0.174418 -0.792196  0.924012\n",
       "...         ...       ...       ...       ...\n",
       "10459 -0.481495  1.551754  1.081649 -1.952134\n",
       "10460  0.717442  0.763488 -0.305215 -0.463782\n",
       "10461 -0.138713 -0.937271  0.395923  0.651086\n",
       "10462 -0.402485  0.605397 -0.969324  0.088680\n",
       "10463  0.515980 -0.360548 -0.160253 -0.230834\n",
       "\n",
       "[10464 rows x 4 columns]"
      ]
     },
     "execution_count": 129,
     "metadata": {},
     "output_type": "execute_result"
    }
   ],
   "source": [
    "a = pd.DataFrame(np.dot(df_num, np.array([i[1] for i in sorted(eigen, key=lambda x: x[0], reverse=True)[:4]]).T), \n",
    "             columns=[f\"PC{i+1}\" for i in range(4)])\n",
    "\n",
    "a"
   ]
  },
  {
   "cell_type": "markdown",
   "metadata": {},
   "source": [
    "### 12. Visualize the rain prediction data by transforming it to 2-dimensions using the python library. Also, display the classes of the target variables with different colors."
   ]
  },
  {
   "cell_type": "code",
   "execution_count": 130,
   "metadata": {},
   "outputs": [
    {
     "data": {
      "text/html": [
       "<style>#sk-container-id-4 {color: black;}#sk-container-id-4 pre{padding: 0;}#sk-container-id-4 div.sk-toggleable {background-color: white;}#sk-container-id-4 label.sk-toggleable__label {cursor: pointer;display: block;width: 100%;margin-bottom: 0;padding: 0.3em;box-sizing: border-box;text-align: center;}#sk-container-id-4 label.sk-toggleable__label-arrow:before {content: \"▸\";float: left;margin-right: 0.25em;color: #696969;}#sk-container-id-4 label.sk-toggleable__label-arrow:hover:before {color: black;}#sk-container-id-4 div.sk-estimator:hover label.sk-toggleable__label-arrow:before {color: black;}#sk-container-id-4 div.sk-toggleable__content {max-height: 0;max-width: 0;overflow: hidden;text-align: left;background-color: #f0f8ff;}#sk-container-id-4 div.sk-toggleable__content pre {margin: 0.2em;color: black;border-radius: 0.25em;background-color: #f0f8ff;}#sk-container-id-4 input.sk-toggleable__control:checked~div.sk-toggleable__content {max-height: 200px;max-width: 100%;overflow: auto;}#sk-container-id-4 input.sk-toggleable__control:checked~label.sk-toggleable__label-arrow:before {content: \"▾\";}#sk-container-id-4 div.sk-estimator input.sk-toggleable__control:checked~label.sk-toggleable__label {background-color: #d4ebff;}#sk-container-id-4 div.sk-label input.sk-toggleable__control:checked~label.sk-toggleable__label {background-color: #d4ebff;}#sk-container-id-4 input.sk-hidden--visually {border: 0;clip: rect(1px 1px 1px 1px);clip: rect(1px, 1px, 1px, 1px);height: 1px;margin: -1px;overflow: hidden;padding: 0;position: absolute;width: 1px;}#sk-container-id-4 div.sk-estimator {font-family: monospace;background-color: #f0f8ff;border: 1px dotted black;border-radius: 0.25em;box-sizing: border-box;margin-bottom: 0.5em;}#sk-container-id-4 div.sk-estimator:hover {background-color: #d4ebff;}#sk-container-id-4 div.sk-parallel-item::after {content: \"\";width: 100%;border-bottom: 1px solid gray;flex-grow: 1;}#sk-container-id-4 div.sk-label:hover label.sk-toggleable__label {background-color: #d4ebff;}#sk-container-id-4 div.sk-serial::before {content: \"\";position: absolute;border-left: 1px solid gray;box-sizing: border-box;top: 0;bottom: 0;left: 50%;z-index: 0;}#sk-container-id-4 div.sk-serial {display: flex;flex-direction: column;align-items: center;background-color: white;padding-right: 0.2em;padding-left: 0.2em;position: relative;}#sk-container-id-4 div.sk-item {position: relative;z-index: 1;}#sk-container-id-4 div.sk-parallel {display: flex;align-items: stretch;justify-content: center;background-color: white;position: relative;}#sk-container-id-4 div.sk-item::before, #sk-container-id-4 div.sk-parallel-item::before {content: \"\";position: absolute;border-left: 1px solid gray;box-sizing: border-box;top: 0;bottom: 0;left: 50%;z-index: -1;}#sk-container-id-4 div.sk-parallel-item {display: flex;flex-direction: column;z-index: 1;position: relative;background-color: white;}#sk-container-id-4 div.sk-parallel-item:first-child::after {align-self: flex-end;width: 50%;}#sk-container-id-4 div.sk-parallel-item:last-child::after {align-self: flex-start;width: 50%;}#sk-container-id-4 div.sk-parallel-item:only-child::after {width: 0;}#sk-container-id-4 div.sk-dashed-wrapped {border: 1px dashed gray;margin: 0 0.4em 0.5em 0.4em;box-sizing: border-box;padding-bottom: 0.4em;background-color: white;}#sk-container-id-4 div.sk-label label {font-family: monospace;font-weight: bold;display: inline-block;line-height: 1.2em;}#sk-container-id-4 div.sk-label-container {text-align: center;}#sk-container-id-4 div.sk-container {/* jupyter's `normalize.less` sets `[hidden] { display: none; }` but bootstrap.min.css set `[hidden] { display: none !important; }` so we also need the `!important` here to be able to override the default hidden behavior on the sphinx rendered scikit-learn.org. See: https://github.com/scikit-learn/scikit-learn/issues/21755 */display: inline-block !important;position: relative;}#sk-container-id-4 div.sk-text-repr-fallback {display: none;}</style><div id=\"sk-container-id-4\" class=\"sk-top-container\"><div class=\"sk-text-repr-fallback\"><pre>PCA(n_components=2)</pre><b>In a Jupyter environment, please rerun this cell to show the HTML representation or trust the notebook. <br />On GitHub, the HTML representation is unable to render, please try loading this page with nbviewer.org.</b></div><div class=\"sk-container\" hidden><div class=\"sk-item\"><div class=\"sk-estimator sk-toggleable\"><input class=\"sk-toggleable__control sk-hidden--visually\" id=\"sk-estimator-id-4\" type=\"checkbox\" checked><label for=\"sk-estimator-id-4\" class=\"sk-toggleable__label sk-toggleable__label-arrow\">PCA</label><div class=\"sk-toggleable__content\"><pre>PCA(n_components=2)</pre></div></div></div></div></div>"
      ],
      "text/plain": [
       "PCA(n_components=2)"
      ]
     },
     "execution_count": 130,
     "metadata": {},
     "output_type": "execute_result"
    }
   ],
   "source": [
    "model = PCA(2)\n",
    "model.fit(df_num)"
   ]
  },
  {
   "cell_type": "code",
   "execution_count": 131,
   "metadata": {},
   "outputs": [
    {
     "data": {
      "text/html": [
       "<div>\n",
       "<style scoped>\n",
       "    .dataframe tbody tr th:only-of-type {\n",
       "        vertical-align: middle;\n",
       "    }\n",
       "\n",
       "    .dataframe tbody tr th {\n",
       "        vertical-align: top;\n",
       "    }\n",
       "\n",
       "    .dataframe thead th {\n",
       "        text-align: right;\n",
       "    }\n",
       "</style>\n",
       "<table border=\"1\" class=\"dataframe\">\n",
       "  <thead>\n",
       "    <tr style=\"text-align: right;\">\n",
       "      <th></th>\n",
       "      <th>PC1</th>\n",
       "      <th>PC2</th>\n",
       "    </tr>\n",
       "  </thead>\n",
       "  <tbody>\n",
       "    <tr>\n",
       "      <th>0</th>\n",
       "      <td>-1.193577</td>\n",
       "      <td>-0.344281</td>\n",
       "    </tr>\n",
       "    <tr>\n",
       "      <th>1</th>\n",
       "      <td>-0.417268</td>\n",
       "      <td>-2.300435</td>\n",
       "    </tr>\n",
       "    <tr>\n",
       "      <th>2</th>\n",
       "      <td>-1.374390</td>\n",
       "      <td>-0.522208</td>\n",
       "    </tr>\n",
       "    <tr>\n",
       "      <th>3</th>\n",
       "      <td>-0.166105</td>\n",
       "      <td>1.620767</td>\n",
       "    </tr>\n",
       "    <tr>\n",
       "      <th>4</th>\n",
       "      <td>0.528825</td>\n",
       "      <td>-2.208708</td>\n",
       "    </tr>\n",
       "    <tr>\n",
       "      <th>...</th>\n",
       "      <td>...</td>\n",
       "      <td>...</td>\n",
       "    </tr>\n",
       "    <tr>\n",
       "      <th>10459</th>\n",
       "      <td>3.476093</td>\n",
       "      <td>0.250204</td>\n",
       "    </tr>\n",
       "    <tr>\n",
       "      <th>10460</th>\n",
       "      <td>1.856446</td>\n",
       "      <td>-0.477691</td>\n",
       "    </tr>\n",
       "    <tr>\n",
       "      <th>10461</th>\n",
       "      <td>-0.985504</td>\n",
       "      <td>-0.083237</td>\n",
       "    </tr>\n",
       "    <tr>\n",
       "      <th>10462</th>\n",
       "      <td>0.437889</td>\n",
       "      <td>0.305705</td>\n",
       "    </tr>\n",
       "    <tr>\n",
       "      <th>10463</th>\n",
       "      <td>0.636071</td>\n",
       "      <td>-1.033243</td>\n",
       "    </tr>\n",
       "  </tbody>\n",
       "</table>\n",
       "<p>10464 rows × 2 columns</p>\n",
       "</div>"
      ],
      "text/plain": [
       "            PC1       PC2\n",
       "0     -1.193577 -0.344281\n",
       "1     -0.417268 -2.300435\n",
       "2     -1.374390 -0.522208\n",
       "3     -0.166105  1.620767\n",
       "4      0.528825 -2.208708\n",
       "...         ...       ...\n",
       "10459  3.476093  0.250204\n",
       "10460  1.856446 -0.477691\n",
       "10461 -0.985504 -0.083237\n",
       "10462  0.437889  0.305705\n",
       "10463  0.636071 -1.033243\n",
       "\n",
       "[10464 rows x 2 columns]"
      ]
     },
     "execution_count": 131,
     "metadata": {},
     "output_type": "execute_result"
    }
   ],
   "source": [
    "pd.DataFrame(model.transform(df_num), columns=['PC1', 'PC2'])"
   ]
  },
  {
   "cell_type": "markdown",
   "metadata": {},
   "source": [
    "### 13. Split the dataset of the 11 standardized features into the train and test sets of proportion 70:30."
   ]
  },
  {
   "cell_type": "code",
   "execution_count": 132,
   "metadata": {},
   "outputs": [],
   "source": [
    "X = df_num\n",
    "y = df[['WillRainTomorrow?']]\n",
    "\n",
    "X_train, X_test, y_train, y_test = train_test_split(X, y, test_size=0.3, random_state=42)"
   ]
  },
  {
   "cell_type": "markdown",
   "metadata": {},
   "source": [
    "### 14. Reduce the number of features in the train and test sets to 3 using the python library."
   ]
  },
  {
   "cell_type": "code",
   "execution_count": 133,
   "metadata": {},
   "outputs": [],
   "source": [
    "model = PCA(3)\n",
    "X_train_transformed = pd.DataFrame(model.fit_transform(X_train), columns=['PC1', 'PC2', 'PC3'])\n",
    "X_test_transformed = pd.DataFrame(model.fit_transform(X_test), columns=['PC1', 'PC2', 'PC3'])"
   ]
  },
  {
   "cell_type": "markdown",
   "metadata": {},
   "source": [
    "### 15. Write a generalized function that builds the random forest classification algorithm and returns the accuracy of the algorithm on the test set."
   ]
  },
  {
   "cell_type": "code",
   "execution_count": 134,
   "metadata": {},
   "outputs": [],
   "source": [
    "def randomforest_accuracy(X_train, X_test, y_train, y_test):\n",
    "    model_rf = RandomForestClassifier()\n",
    "    model_rf.fit(X_train, y_train)\n",
    "\n",
    "    return model_rf.score(X_test, y_test)"
   ]
  },
  {
   "cell_type": "markdown",
   "metadata": {},
   "source": [
    "### 16. Build a random forest model on the original data (without PCA transformation) and find the accuracy of the model on the test data. Also, calculate the time required to execute the code."
   ]
  },
  {
   "cell_type": "code",
   "execution_count": 135,
   "metadata": {},
   "outputs": [
    {
     "name": "stdout",
     "output_type": "stream",
     "text": [
      "Accuracy without PCA = 0.9493630573248407\n",
      "Execution time: 2.5436056000180542\n"
     ]
    }
   ],
   "source": [
    "start_time = time.perf_counter()\n",
    "\n",
    "print('Accuracy without PCA =',randomforest_accuracy(X_train, X_test, y_train, y_test))\n",
    "\n",
    "end_time = time.perf_counter()\n",
    "execution_time = end_time - start_time\n",
    "print(\"Execution time:\", execution_time)"
   ]
  },
  {
   "cell_type": "markdown",
   "metadata": {},
   "source": [
    "### 17. Build a random forest model on the dataset transformed using PCA and find the accuracy of the model on the test data. Also, calculate the time required to execute the code."
   ]
  },
  {
   "cell_type": "code",
   "execution_count": 136,
   "metadata": {},
   "outputs": [
    {
     "name": "stdout",
     "output_type": "stream",
     "text": [
      "Accuracy with PCA = 0.5624203821656051\n",
      "Execution time: 1.9517343998886645\n"
     ]
    }
   ],
   "source": [
    "start_time = time.perf_counter()\n",
    "\n",
    "print('Accuracy with PCA =',randomforest_accuracy(X_train_transformed, X_test_transformed, y_train, y_test))\n",
    "\n",
    "end_time = time.perf_counter()\n",
    "execution_time = end_time - start_time\n",
    "print(\"Execution time:\", execution_time)"
   ]
  }
 ],
 "metadata": {
  "kernelspec": {
   "display_name": "Python 3",
   "language": "python",
   "name": "python3"
  },
  "language_info": {
   "codemirror_mode": {
    "name": "ipython",
    "version": 3
   },
   "file_extension": ".py",
   "mimetype": "text/x-python",
   "name": "python",
   "nbconvert_exporter": "python",
   "pygments_lexer": "ipython3",
   "version": "3.12.0"
  }
 },
 "nbformat": 4,
 "nbformat_minor": 2
}
